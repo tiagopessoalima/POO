{
  "nbformat": 4,
  "nbformat_minor": 0,
  "metadata": {
    "colab": {
      "provenance": [],
      "authorship_tag": "ABX9TyP3wHrMEt3GQ4Nm7YPJheg4",
      "include_colab_link": true
    },
    "kernelspec": {
      "name": "python3",
      "display_name": "Python 3"
    },
    "language_info": {
      "name": "python"
    }
  },
  "cells": [
    {
      "cell_type": "markdown",
      "metadata": {
        "id": "view-in-github",
        "colab_type": "text"
      },
      "source": [
        "<a href=\"https://colab.research.google.com/github/tiagopessoalima/POO/blob/main/Semana_01_(POO).ipynb\" target=\"_parent\"><img src=\"https://colab.research.google.com/assets/colab-badge.svg\" alt=\"Open In Colab\"/></a>"
      ]
    },
    {
      "cell_type": "markdown",
      "source": [
        "# **Introdução à Programação Orientada a Objetos (POO)**"
      ],
      "metadata": {
        "id": "xXXJq_oN0Vay"
      }
    },
    {
      "cell_type": "markdown",
      "source": [
        "**Objetivo da semana:** Compreensão sobre paradigmas de programação, com foco nos conceitos fundamentais, pilares e vantagens da POO.\n",
        "\n",
        "**Por que aprender POO?** É usada em sistemas reais, como aplicativos móveis (ex.: WhatsApp, onde mensagens e usuários são objetos), jogos (ex.: The Witcher, com personagens e itens modelados como objetos) e sistemas bancários (ex.: contas e transações como objetos)."
      ],
      "metadata": {
        "id": "uq3rLalx0l9P"
      }
    },
    {
      "cell_type": "markdown",
      "source": [
        "## **O que é um Paradigma de Programação?**"
      ],
      "metadata": {
        "id": "K2Uhswgg0omy"
      }
    },
    {
      "cell_type": "markdown",
      "source": [
        "No processo de construção de uma casa, diferentes métodos (paradigmas) podem ser adotados para organizar o trabalho:\n",
        "\n",
        "* **Estruturado**: inicia-se pela fundação e segue-se com a construção das paredes e demais elementos de forma sequencial.\n",
        "* **Modular**: módulos independentes, como cozinha e quartos, são desenvolvidos previamente e integrados posteriormente no local.\n",
        "\n",
        "Na programação, um **paradigma** é um conjunto de diretrizes que orientam a modelagem de problemas. Define-se o estilo e a lógica de desenvolvimento, não sendo uma linguagem em si, mas sim uma filosofia aplicável em diversas linguagens. Antes da POO, o paradigma predominante era o **procedural**, no qual a lógica do programa é organizada em procedimentos ou funções executados sequencialmente."
      ],
      "metadata": {
        "id": "d3tENXn90udS"
      }
    },
    {
      "cell_type": "markdown",
      "source": [
        "### **O Paradigma Procedural**"
      ],
      "metadata": {
        "id": "5DKQ3qBv08n7"
      }
    },
    {
      "cell_type": "markdown",
      "source": [
        "O foco reside na definição e execução de procedimentos (funções) que representam sequências determinísticas de instruções operacionais. Os dados são tratados de forma isolada das funções, promovendo uma separação clara entre estrutura de dados e lógica de processamento. A manipulação dos dados ocorre via passagem de parâmetros às funções, que executam operações conforme o contexto.\n"
      ],
      "metadata": {
        "id": "PLjlJpgi1DXh"
      }
    },
    {
      "cell_type": "markdown",
      "source": [
        "#### **Exemplo Prático**"
      ],
      "metadata": {
        "id": "WIN8aH2jTCYe"
      }
    },
    {
      "cell_type": "markdown",
      "source": [
        "Considere um programa que modela um personagem em um jogo. No modelo procedural, os dados do jogador e do inimigo são declarados de forma independente, e uma função atacar_inimigo é responsável por toda a lógica do combate."
      ],
      "metadata": {
        "id": "vbOWzoG0TLKC"
      }
    },
    {
      "cell_type": "code",
      "source": [
        "# Dados do jogador\n",
        "player_vida = 100\n",
        "player_ataque = 15\n",
        "player_nome = \"Guerreiro\"\n",
        "\n",
        "# Dados do inimigo\n",
        "inimigo_vida = 50\n",
        "inimigo_defesa = 5\n",
        "inimigo_nome = \"Goblin\"\n",
        "\n",
        "# Procedimento (função) para o ataque\n",
        "def atacar_inimigo(ataque, defesa_inimigo, vida_inimigo):\n",
        "    \"\"\"\n",
        "    Calcula o dano e a vida restante do inimigo.\n",
        "    \"\"\"\n",
        "    dano = ataque - defesa_inimigo\n",
        "    vida_restante = vida_inimigo - dano\n",
        "    print(f\"{player_nome} causou {dano} de dano!\")\n",
        "    return vida_restante\n",
        "\n",
        "# Executando a ação\n",
        "inimigo_vida = atacar_inimigo(player_ataque, inimigo_defesa, inimigo_vida)\n",
        "print(f\"Vida do {inimigo_nome} agora é: {inimigo_vida}\")"
      ],
      "metadata": {
        "colab": {
          "base_uri": "https://localhost:8080/"
        },
        "id": "HqtaDpgN41ff",
        "outputId": "49d3f885-bc6f-45de-fcc2-91e755b9a89a"
      },
      "execution_count": null,
      "outputs": [
        {
          "output_type": "stream",
          "name": "stdout",
          "text": [
            "Guerreiro causou 10 de dano!\n",
            "Vida do Goblin agora é: 40\n"
          ]
        }
      ]
    },
    {
      "cell_type": "markdown",
      "source": [
        "> **Nota:** Observe como os dados (player_vida, inimigo_vida) estão \"soltos\" e são passados como parâmetros para as funções que os manipulam. Em projetos grandes, isso se torna confuso, difícil de manter e propenso a erros."
      ],
      "metadata": {
        "id": "-LUZo6SP57vj"
      }
    },
    {
      "cell_type": "markdown",
      "source": [
        "No paradigma procedural, a implementação da lógica para dois jogadores atacando um mesmo inimigo frequentemente resulta em trechos de código repetitivos, pois cada ação precisa ser explicitamente definida para cada jogador."
      ],
      "metadata": {
        "id": "6A_qJEOCNsep"
      }
    },
    {
      "cell_type": "code",
      "source": [
        "# Dados de dois jogadores\n",
        "player1_nome = \"Guerreiro\"\n",
        "player1_ataque = 15\n",
        "player2_nome = \"Arqueiro\"\n",
        "player2_ataque = 10\n",
        "\n",
        "# Função atacar\n",
        "def atacar_inimigo(nome, ataque, defesa_inimigo, vida_inimigo):\n",
        "    dano = ataque - defesa_inimigo\n",
        "    vida_restante = vida_inimigo - dano\n",
        "    print(f\"{nome} causou {dano} de dano!\")\n",
        "    return vida_restante\n",
        "\n",
        "# Executando ataques\n",
        "inimigo_vida = 50\n",
        "inimigo_defesa = 5\n",
        "inimigo_vida = atacar_inimigo(player1_nome, player1_ataque, inimigo_defesa, inimigo_vida)\n",
        "inimigo_vida = atacar_inimigo(player2_nome, player2_ataque, inimigo_defesa, inimigo_vida)"
      ],
      "metadata": {
        "colab": {
          "base_uri": "https://localhost:8080/"
        },
        "id": "97mj-i68Nvjd",
        "outputId": "f9851384-6f4d-4a45-8703-e3a4e6123b68"
      },
      "execution_count": null,
      "outputs": [
        {
          "output_type": "stream",
          "name": "stdout",
          "text": [
            "Guerreiro causou 10 de dano!\n",
            "Arqueiro causou 5 de dano!\n"
          ]
        }
      ]
    },
    {
      "cell_type": "markdown",
      "source": [
        "## **A Mudança de Mentalidade: POO**"
      ],
      "metadata": {
        "id": "VXgPRhrf6vBQ"
      }
    },
    {
      "cell_type": "markdown",
      "source": [
        "POO propõe uma abordagem baseada na modelagem de entidades do domínio como objetos que encapsulam estado e comportamento. Ao invés de priorizar a execução sequencial de procedimentos, a POO organiza o sistema em torno de objetos que representam abstrações das “coisas” do mundo real. Cada objeto integra dados — expressos como atributos — e operações — implementadas como métodos — formando uma unidade coesa e autocontida. Considerando o exemplo do ambiente de jogo sob a perspectiva orientada a objetos:\n",
        "\n",
        "* O objeto `Jogador` possui atributos como `nome`, `pontos_vida` e `forca_ataque`, além de um método `atacar()`.\n",
        "\n",
        "* O objeto `Inimigo` contém atributos como `pontos_vida` e `defesa`, bem como o método `receber_dano()`.\n",
        "\n",
        "A comunicação entre objetos ocorre por meio da invocação de métodos, exemplificada pela chamada `meu_jogador.atacar(meu_inimigo)`. Essa organização promove um mapeamento mais direto entre o modelo computacional e a realidade observada, aumentando a legibilidade, modularidade e reutilização do código.\n",
        "\n",
        "Um vislumbre de como isso se parece em *Python* (veremos em detalhe na Semana 3):\n"
      ],
      "metadata": {
        "id": "MZMkKruT6xV_"
      }
    },
    {
      "cell_type": "code",
      "source": [
        "class Jogador:\n",
        "    def __init__(self, nome, pontos_vida, forca_ataque):\n",
        "        self.nome = nome\n",
        "        self.pontos_vida = pontos_vida\n",
        "        self.forca_ataque = forca_ataque\n",
        "\n",
        "    def atacar(self, inimigo):\n",
        "        dano = self.forca_ataque\n",
        "        inimigo.receber_dano(dano)\n",
        "        print(f'{self.nome} atacou {inimigo.nome} causando {dano} de dano.')\n",
        "\n",
        "class Inimigo:\n",
        "    def __init__(self, nome, pontos_vida, defesa):\n",
        "        self.nome = nome\n",
        "        self.pontos_vida = pontos_vida\n",
        "        self.defesa = defesa\n",
        "\n",
        "    def receber_dano(self, dano):\n",
        "        dano_efetivo = max(dano - self.defesa, 0)\n",
        "        self.pontos_vida -= dano_efetivo\n",
        "        print(f'{self.nome} recebeu {dano_efetivo} de dano. Vida restante: {self.pontos_vida}')\n",
        "\n",
        "# Instanciação dos objetos\n",
        "player = Jogador(nome=\"Guerreiro\", pontos_vida=100, forca_ataque=25)\n",
        "inimigo = Inimigo(nome=\"Goblin\", pontos_vida=50, defesa=5)\n",
        "\n",
        "# Interação entre objetos\n",
        "player.atacar(inimigo)"
      ],
      "metadata": {
        "colab": {
          "base_uri": "https://localhost:8080/"
        },
        "id": "jskdy2bk79x2",
        "outputId": "dba41de7-9933-4d72-a6fc-bc509ab73a36"
      },
      "execution_count": null,
      "outputs": [
        {
          "output_type": "stream",
          "name": "stdout",
          "text": [
            "Goblin recebeu 20 de dano. Vida restante: 30\n",
            "Guerreiro atacou Goblin causando 25 de dano.\n"
          ]
        }
      ]
    },
    {
      "cell_type": "markdown",
      "source": [
        "> **Nota:** Essa abordagem resulta em um modelo computacional que reflete de forma mais fiel as entidades e interações do domínio real, favorecendo maior clareza, intuitividade e manutenção do código.\n",
        "\n"
      ],
      "metadata": {
        "id": "ImRMtHqo9G60"
      }
    },
    {
      "cell_type": "markdown",
      "source": [
        "No paradigma orientado a objetos, a interação entre dois jogadores atacando o mesmo inimigo é modelada de forma mais eficiente, utilizando encapsulamento e reutilização de métodos, reduzindo significativamente a redundância de código."
      ],
      "metadata": {
        "id": "mvsmU601N-pF"
      }
    },
    {
      "cell_type": "code",
      "source": [
        "# Criando vários jogadores e inimigos\n",
        "player1 = Jogador(\"Guerreiro\", 100, 25)\n",
        "player2 = Jogador(\"Arqueiro\", 80, 15)\n",
        "inimigo = Inimigo(\"Goblin\", 50, 5)\n",
        "\n",
        "player1.atacar(inimigo)\n",
        "player2.atacar(inimigo)"
      ],
      "metadata": {
        "colab": {
          "base_uri": "https://localhost:8080/"
        },
        "id": "SBn9BQCFOArE",
        "outputId": "c79dcbc4-e5fd-4919-9775-e5f918b6d677"
      },
      "execution_count": null,
      "outputs": [
        {
          "output_type": "stream",
          "name": "stdout",
          "text": [
            "Goblin recebeu 20 de dano. Vida restante: 30\n",
            "Guerreiro atacou Goblin causando 25 de dano.\n",
            "Goblin recebeu 10 de dano. Vida restante: 20\n",
            "Arqueiro atacou Goblin causando 15 de dano.\n"
          ]
        }
      ]
    },
    {
      "cell_type": "markdown",
      "source": [
        "### **Aplicabilidade da POO em Diferentes Linguagens**"
      ],
      "metadata": {
        "id": "N_wzTwiqTxUu"
      }
    },
    {
      "cell_type": "markdown",
      "source": [
        "A Programação Orientada a Objetos é um paradigma amplamente suportado por diversas linguagens de programação, cada uma com particularidades sintáticas e semânticas. A seguir, apresentam-se exemplos da classe Jogador implementada em diferentes linguagens.\n"
      ],
      "metadata": {
        "id": "uRZBGvsCPXu6"
      }
    },
    {
      "cell_type": "markdown",
      "source": [
        "- **Java:**"
      ],
      "metadata": {
        "id": "MQF81xRZPslJ"
      }
    },
    {
      "cell_type": "markdown",
      "source": [
        "```\n",
        "class Jogador {\n",
        "    String nome;\n",
        "    int pontosVida;\n",
        "    int forcaAtaque;\n",
        "\n",
        "    Jogador(String nome, int pontosVida, int forcaAtaque) {\n",
        "        this.nome = nome;\n",
        "        this.pontosVida = pontosVida;\n",
        "        this.forcaAtaque = forcaAtaque;\n",
        "    }\n",
        "\n",
        "    void atacar(Inimigo inimigo) {\n",
        "        System.out.println(nome + \" atacou \" + inimigo.nome);\n",
        "        inimigo.receberDano(forcaAtaque);\n",
        "    }\n",
        "}\n",
        "\n",
        "```"
      ],
      "metadata": {
        "id": "aBcy2uLfPZvV"
      }
    },
    {
      "cell_type": "markdown",
      "source": [
        "- **JavaScript:**"
      ],
      "metadata": {
        "id": "hHbCJvs5P7lY"
      }
    },
    {
      "cell_type": "markdown",
      "source": [
        "```\n",
        "class Jogador {\n",
        "    constructor(nome, pontosVida, forcaAtaque) {\n",
        "        this.nome = nome;\n",
        "        this.pontosVida = pontosVida;\n",
        "        this.forcaAtaque = forcaAtaque;\n",
        "    }\n",
        "\n",
        "    atacar(inimigo) {\n",
        "        console.log(`${this.nome} atacou ${inimigo.nome}`);\n",
        "        inimigo.receberDano(this.forcaAtaque);\n",
        "    }\n",
        "}\n",
        "\n",
        "```\n"
      ],
      "metadata": {
        "id": "e2CoUAv6Pvpk"
      }
    },
    {
      "cell_type": "markdown",
      "source": [
        "- **C#:**"
      ],
      "metadata": {
        "id": "3AD0uGFHQEj6"
      }
    },
    {
      "cell_type": "markdown",
      "source": [
        "```\n",
        "class Jogador {\n",
        "    public string Nome { get; set; }\n",
        "    public int PontosVida { get; set; }\n",
        "    public int ForcaAtaque { get; set; }\n",
        "\n",
        "    public Jogador(string nome, int pontosVida, int forcaAtaque) {\n",
        "        Nome = nome;\n",
        "        PontosVida = pontosVida;\n",
        "        ForcaAtaque = forcaAtaque;\n",
        "    }\n",
        "\n",
        "    public void Atacar(Inimigo inimigo) {\n",
        "        Console.WriteLine($\"{Nome} atacou {inimigo.Nome}\");\n",
        "        inimigo.ReceberDano(ForcaAtaque);\n",
        "    }\n",
        "}\n",
        "\n",
        "```"
      ],
      "metadata": {
        "id": "sWXduh6_QJMn"
      }
    },
    {
      "cell_type": "markdown",
      "source": [
        "- **C++:**"
      ],
      "metadata": {
        "id": "472FGC2IQUiw"
      }
    },
    {
      "cell_type": "markdown",
      "source": [
        "```\n",
        "#include <iostream>\n",
        "#include <string>\n",
        "using namespace std;\n",
        "\n",
        "class Inimigo; // Forward declaration\n",
        "\n",
        "class Jogador {\n",
        "public:\n",
        "    string nome;\n",
        "    int pontosVida;\n",
        "    int forcaAtaque;\n",
        "\n",
        "    Jogador(string n, int pv, int fa) : nome(n), pontosVida(pv), forcaAtaque(fa) {}\n",
        "\n",
        "    void atacar(Inimigo &inimigo);\n",
        "};\n",
        "\n",
        "class Inimigo {\n",
        "public:\n",
        "    string nome;\n",
        "    int pontosVida;\n",
        "\n",
        "    Inimigo(string n, int pv) : nome(n), pontosVida(pv) {}\n",
        "\n",
        "    void receberDano(int dano) {\n",
        "        pontosVida -= dano;\n",
        "        cout << nome << \" recebeu \" << dano << \" de dano.\" << endl;\n",
        "    }\n",
        "};\n",
        "\n",
        "void Jogador::atacar(Inimigo &inimigo) {\n",
        "    cout << nome << \" atacou \" << inimigo.nome << endl;\n",
        "    inimigo.receberDano(forcaAtaque);\n",
        "}\n",
        "\n",
        "```"
      ],
      "metadata": {
        "id": "B6fHLBJDQXD8"
      }
    },
    {
      "cell_type": "markdown",
      "source": [
        "## **Conceitos Fundamentais da POO**"
      ],
      "metadata": {
        "id": "D8SVpvH29SQb"
      }
    },
    {
      "cell_type": "markdown",
      "source": [
        "Para compreender POO, é fundamental dominar quatro conceitos fundamentais que constituem os pilares desse paradigma:"
      ],
      "metadata": {
        "id": "rcjqAKHe9Wbo"
      }
    },
    {
      "cell_type": "markdown",
      "source": [
        "- **Classe:** É a definição estrutural que serve como modelo para a criação de objetos. A classe especifica os atributos (dados) e métodos (comportamentos) que os objetos daquele tipo possuirão. No exemplo, a classe `Jogador` define que todo jogador terá atributos como `nome`, `pontos_vida` e `forca_ataque`, além de métodos como `atacar()`. Analogamente, a classe `Inimigo` define atributos como `nome`, `pontos_vida` e `defesa`, bem como o método `receber_dano()`.\n",
        "\n",
        "- **Objeto:** É uma instância concreta de uma classe, com valores específicos atribuídos aos seus atributos. Por exemplo, `player` é um objeto da classe `Jogador` com valores definidos para `nome`, `pontos_vida` e `forca_ataque`. Similarmente, `inimigo` é uma instância da classe `Inimigo` com seus próprios valores.\n",
        "\n",
        "- **Atributos:** São as propriedades ou características que descrevem o estado de um objeto. Para o objeto `player`, atributos como `nome`, `pontos_vida` e `forca_ataque` representam suas características específicas. Para o objeto `inimigo`, `nome`, `pontos_vida` e `defesa` desempenham o mesmo papel.\n",
        "\n",
        "- **Métodos:** São as operações ou comportamentos que um objeto pode executar, definidos dentro da sua classe. No exemplo, o método `atacar()` do objeto `Jogador` encapsula a lógica de ataque, enquanto o método `receber_dano()` do objeto `Inimigo` processa a redução dos pontos de vida conforme o dano recebido."
      ],
      "metadata": {
        "id": "fqifaew6-EcD"
      }
    },
    {
      "cell_type": "markdown",
      "source": [
        "## **Vantagens da POO**\n"
      ],
      "metadata": {
        "id": "VPpbCXPl-T3o"
      }
    },
    {
      "cell_type": "markdown",
      "source": [
        "A POO oferece vantagens para o desenvolvimento e manutenção de sistemas complexos, como ilustrado no exemplo do jogador e inimigo.\n",
        "\n",
        "* **Reutilização de Código:** Uma vez definida a classe `Jogador`, é possível criar múltiplas instâncias (objetos) dessa classe — diferentes personagens — sem a necessidade de duplicar ou reescrever código, facilitando a construção de cenários variados no jogo.\n",
        "\n",
        "* **Manutenibilidade:** Caso seja necessário ajustar a lógica de ataque, basta modificar o método `atacar()` na classe `Jogador`. Essa alteração será refletida em todos os objetos instanciados, evitando inconsistências e facilitando correções e atualizações.\n",
        "\n",
        "* **Modularidade e Encapsulamento:** Cada objeto, como `Jogador` ou `Inimigo`, funciona como uma unidade autônoma que encapsula seus dados e comportamentos internos, expondo apenas interfaces públicas (métodos). Isso assegura que alterações internas não impactem outras partes do sistema de forma inesperada, preservando a integridade do código.\n",
        "\n",
        "* **Legibilidade e Intuitividade:** O código reflete diretamente as entidades do domínio do problema. Por exemplo, a chamada `player.atacar(inimigo)` é clara e fácil de entender, diferente de funções genéricas e desconectadas do contexto.\n",
        "\n",
        "* **Escalabilidade:** POO facilita a extensão do sistema. Para incluir um novo tipo de inimigo com comportamento específico, basta criar uma nova classe `InimigoVoador` que herde ou estenda `Inimigo`, sem impactar as demais funcionalidades existentes.\n"
      ],
      "metadata": {
        "id": "3HvSKkpS_qjo"
      }
    },
    {
      "cell_type": "markdown",
      "source": [
        "## **Os Pilares da POO**"
      ],
      "metadata": {
        "id": "4PUWlqk_G_Q5"
      }
    },
    {
      "cell_type": "markdown",
      "source": [
        "As vantagens decorrem de quatro conceitos fundamentais, denominados pilares da POO, que serão estudados ao longo do curso."
      ],
      "metadata": {
        "id": "4K9MMEqtRWag"
      }
    },
    {
      "cell_type": "markdown",
      "source": [
        "\n",
        "\n",
        "- **Encapsulamento:** Agrupar dados e métodos que os manipulam em uma única unidade (a classe), escondendo a complexidade interna.\n",
        "\n",
        "\n",
        "\n",
        "\n",
        "\n",
        "\n",
        "\n"
      ],
      "metadata": {
        "id": "pquZv40SHICI"
      }
    },
    {
      "cell_type": "code",
      "source": [
        "class Jogador:\n",
        "    def __init__(self, nome, pontos_vida, forca_ataque):\n",
        "        self.__nome = nome\n",
        "        self.__pontos_vida = pontos_vida\n",
        "        self.__forca_ataque = forca_ataque\n",
        "\n",
        "    def atacar(self, inimigo):\n",
        "        dano = self.__forca_ataque\n",
        "        inimigo.receber_dano(dano)\n",
        "        print(f'{self.__nome} atacou {inimigo.nome} causando {dano} de dano.')"
      ],
      "metadata": {
        "id": "hKE8eYRxRLDn"
      },
      "execution_count": null,
      "outputs": []
    },
    {
      "cell_type": "markdown",
      "source": [
        "- **Abstração:** Capacidade de representar entidades focando apenas nos aspectos relevantes para o contexto. Ao utilizar o método `atacar()` da classe `Jogador`, não é necessário conhecer o cálculo interno do dano; apenas a funcionalidade essencial é exposta.\n"
      ],
      "metadata": {
        "id": "Og5rmuZhRJ9D"
      }
    },
    {
      "cell_type": "code",
      "source": [
        "jogador = Jogador(\"Herói\", 100, 20)\n",
        "inimigo = Inimigo(\"Orc\", 50, 10)\n",
        "jogador.atacar(inimigo)  # Aqui só importa a ação \"atacar\", não os detalhes internos."
      ],
      "metadata": {
        "colab": {
          "base_uri": "https://localhost:8080/"
        },
        "id": "M_W3UwWsRbSO",
        "outputId": "8b39daff-db76-4e14-8879-4efccb08f76d"
      },
      "execution_count": null,
      "outputs": [
        {
          "output_type": "stream",
          "name": "stdout",
          "text": [
            "Orc recebeu 10 de dano. Vida restante: 40\n",
            "Herói atacou Orc causando 20 de dano.\n"
          ]
        }
      ]
    },
    {
      "cell_type": "markdown",
      "source": [
        "- **Herança:** Permite a criação de novas classes que reutilizam e estendem atributos e comportamentos de classes existentes.\n"
      ],
      "metadata": {
        "id": "WFPp3uFZRaWC"
      }
    },
    {
      "cell_type": "code",
      "source": [
        "class Boss(Inimigo):\n",
        "    def __init__(self, nome, pontos_vida, poder_especial):\n",
        "        super().__init__(nome, pontos_vida)\n",
        "        self.poder_especial = poder_especial"
      ],
      "metadata": {
        "id": "Mlgr5z4GRnVq"
      },
      "execution_count": null,
      "outputs": []
    },
    {
      "cell_type": "markdown",
      "source": [
        "- **Polimorfismo**: Diferentes objetos responderem à mesma interface ou método de formas distintas. Por exemplo, tanto um objeto `Jogador` quanto um `Inimigo` podem implementar um método `atacar()`, porém com comportamentos diferentes."
      ],
      "metadata": {
        "id": "7-x9ZB5lRvoK"
      }
    },
    {
      "cell_type": "code",
      "source": [
        "class Jogador:\n",
        "    def atacar(self):\n",
        "        print(\"Ataque com espada!\")\n",
        "\n",
        "class Arqueiro:\n",
        "    def atacar(self):\n",
        "        print(\"Ataque com arco!\")"
      ],
      "metadata": {
        "id": "XUkB7KXKRwXi"
      },
      "execution_count": null,
      "outputs": []
    },
    {
      "cell_type": "markdown",
      "source": [
        "## **Glossário**"
      ],
      "metadata": {
        "id": "-houIZEzSc7r"
      }
    },
    {
      "cell_type": "markdown",
      "source": [
        "- **Paradigma:** Conjunto de princípios que guiam a programação.\n",
        "- **Classe:** Modelo para criar objetos.\n",
        "- **Objeto:** Instância de uma classe com valores específicos.\n",
        "- **Atributo:** Propriedade que define o estado de um objeto.\n",
        "- **Método:** Função que define o comportamento de um objeto.\n",
        "- **Encapsulamento:** Proteção de dados e métodos dentro de um objeto.\n",
        "- **Abstração:** Simplificação de detalhes complexos.\n",
        "- **Herança:** Reutilização de código entre classes.\n",
        "- **Polimorfismo:** Capacidade de objetos diferentes responderem à mesma interface."
      ],
      "metadata": {
        "id": "0evyG6TRSgV8"
      }
    }
  ]
}
