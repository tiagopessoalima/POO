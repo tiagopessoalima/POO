{
  "nbformat": 4,
  "nbformat_minor": 0,
  "metadata": {
    "colab": {
      "provenance": [],
      "authorship_tag": "ABX9TyN/YL31tEHYPEbuKo5QsNNc",
      "include_colab_link": true
    },
    "kernelspec": {
      "name": "python3",
      "display_name": "Python 3"
    },
    "language_info": {
      "name": "python"
    }
  },
  "cells": [
    {
      "cell_type": "markdown",
      "metadata": {
        "id": "view-in-github",
        "colab_type": "text"
      },
      "source": [
        "<a href=\"https://colab.research.google.com/github/tiagopessoalima/POO/blob/main/Aula_02_(POO).ipynb\" target=\"_parent\"><img src=\"https://colab.research.google.com/assets/colab-badge.svg\" alt=\"Open In Colab\"/></a>"
      ]
    },
    {
      "cell_type": "markdown",
      "source": [
        "# **Fundamentos de Python para POO**"
      ],
      "metadata": {
        "id": "xXXJq_oN0Vay"
      }
    },
    {
      "cell_type": "markdown",
      "source": [
        "Antes de avançar para o estudo de objetos e classes, é necessário revisar os fundamentos da linguagem Python. Essa etapa não constitui apenas uma introdução, mas uma base conceitual indispensável para compreender como dados, comportamentos e estados são encapsulados em objetos. Sem o domínio prévio de conceitos como escopo de variáveis, tipos de dados e mutabilidade, a construção de classes tende a apresentar inconsistências lógicas e erros de execução difíceis de rastrear.\n",
        "\n",
        "**Objetivo da Semana:** Revisar sintaxe básica, estruturas de controle, funções, escopo, mutabilidade e módulos. Ao final, você estará pronto para implementar classes com código limpo, eficiente e \"pythônico\".\n",
        "\n",
        "**Curiosidade:** Python foi criado por Guido van Rossum em 1989 como um hobby de Natal? Inspirado no humor britânico de [Monty Python](https://pt.wikipedia.org/wiki/Monty_Python), ele prioriza legibilidade — execute import this no seu interpretador para ver o \"Zen of Python\" completo. Vamos aplicar esses princípios aqui!"
      ],
      "metadata": {
        "id": "uq3rLalx0l9P"
      }
    },
    {
      "cell_type": "markdown",
      "source": [
        "## **Filosofia e Sintaxe Básica**"
      ],
      "metadata": {
        "id": "K2Uhswgg0omy"
      }
    },
    {
      "cell_type": "markdown",
      "source": [
        "### **O Zen of Python**"
      ],
      "metadata": {
        "id": "d3tENXn90udS"
      }
    },
    {
      "cell_type": "markdown",
      "source": [
        "A filosofia do Python, codificada no PEP 20 (Python Enhancement Proposal), enfatiza:\n",
        "\n",
        "- **Legibilidade** conta: Código é lido mais vezes do que escrito.\n",
        "- **Simplicidade** é melhor que complexidade.\n",
        "- **Explicito** é melhor que implícito.\n",
        "- **Pragmatismo**: Se uma implementação é difícil de explicar, é uma má ideia.\n",
        "\n",
        "Esses princípios se manifestam na sintaxe: indentação obrigatória (4 espaços por nível) delimita blocos, eliminando chaves {} como em C++ ou Java. Isso força código visualmente consistente e reduz erros de escopo.\n",
        "\n",
        "**Exemplo Comparativo (Python vs. Java): Soma de Números Pares**"
      ],
      "metadata": {
        "id": "w0VpdYUmRxT6"
      }
    },
    {
      "cell_type": "markdown",
      "source": [
        "- **Em Python** (simples e legível):"
      ],
      "metadata": {
        "id": "QIHkT0IndK5u"
      }
    },
    {
      "cell_type": "code",
      "source": [
        "numeros = [1, 2, 3, 4, 5, 6]\n",
        "soma = sum(n for n in numeros if n % 2 == 0)\n",
        "print(f\"Soma dos pares: {soma}\")"
      ],
      "metadata": {
        "colab": {
          "base_uri": "https://localhost:8080/"
        },
        "id": "-QQO-ZpbdTzK",
        "outputId": "69d1b992-883a-46a7-a9d6-bea57dcd4a76"
      },
      "execution_count": 1,
      "outputs": [
        {
          "output_type": "stream",
          "name": "stdout",
          "text": [
            "Soma dos pares: 12\n"
          ]
        }
      ]
    },
    {
      "cell_type": "markdown",
      "source": [
        "- **Em Java** (mais verboso):\n",
        "\n",
        "```\n",
        "import java.util.Arrays;\n",
        "public class SomaPares {\n",
        "    public static void main(String[] args) {\n",
        "        int[] numeros = {1, 2, 3, 4, 5, 6};\n",
        "        int soma = Arrays.stream(numeros).filter(n -> n % 2 == 0).sum();\n",
        "        System.out.println(\"Soma dos pares: \" + soma);  // Saída: 12\n",
        "    }\n",
        "}\n",
        "```"
      ],
      "metadata": {
        "id": "Kv8q1jORdESy"
      }
    },
    {
      "cell_type": "markdown",
      "source": [
        "**Análise Técnica:** Python usa geradores (n for n in ...) para eficiência em memória (O(1) espaço extra), enquanto Java requer streams (introduzidos no Java 8). Python é mais conciso, alinhando ao princípio \"Flat is better than nested"
      ],
      "metadata": {
        "id": "BRJY7yYZdrxI"
      }
    },
    {
      "cell_type": "markdown",
      "source": [
        "### **Variáveis e Tipagem Dinâmica**"
      ],
      "metadata": {
        "id": "0e4ySdkveDFO"
      }
    },
    {
      "cell_type": "markdown",
      "source": [
        "Em **Python**, variáveis não armazenam valores diretamente, mas funcionam como **referências a objetos em memória**. A linguagem adota **tipagem dinâmica**, em que o tipo é determinado em tempo de execução e sempre associado ao **objeto**, não ao identificador. Ao mesmo tempo, mantém **tipagem forte**, evitando conversões implícitas que comprometeriam a consistência. Esse modelo implica que múltiplas variáveis podem referenciar o mesmo objeto, e o comportamento dependerá da **mutabilidade** desse objeto:\n"
      ],
      "metadata": {
        "id": "GJ_sC8ULeREs"
      }
    },
    {
      "cell_type": "markdown",
      "source": [
        "#### **Exemplo com Objeto Imutável (int)**"
      ],
      "metadata": {
        "id": "CS5ePdUyXa8U"
      }
    },
    {
      "cell_type": "code",
      "source": [
        "x = 10        # x referencia um objeto do tipo int\n",
        "y = x\n",
        "x = x + 1     # cria um novo objeto int\n",
        "print(y)      # saída: 10 (y continua apontando para o antigo objeto)"
      ],
      "metadata": {
        "colab": {
          "base_uri": "https://localhost:8080/"
        },
        "id": "uS9RPHX-Vz0C",
        "outputId": "f2094b72-3e7d-4ea4-d813-b8668e98ea68"
      },
      "execution_count": 2,
      "outputs": [
        {
          "output_type": "stream",
          "name": "stdout",
          "text": [
            "10\n"
          ]
        }
      ]
    },
    {
      "cell_type": "markdown",
      "source": [
        "```\n",
        "x ──► 10\n",
        "y ──┘\n",
        "\n",
        "x = x + 1  → cria novo objeto\n",
        "\n",
        "x ──► 11\n",
        "y ──► 10\n",
        "```"
      ],
      "metadata": {
        "id": "iht56j43Vw5c"
      }
    },
    {
      "cell_type": "markdown",
      "source": [
        "#### **Exemplo com Objeto Mutável (list)**"
      ],
      "metadata": {
        "id": "HZ2-YyPDXTwV"
      }
    },
    {
      "cell_type": "code",
      "source": [
        "x = [10]      # x referencia uma lista\n",
        "y = x\n",
        "x.append(20)  # altera o objeto referenciado por x (e também por y)\n",
        "print(y)      # saída: [10, 20]"
      ],
      "metadata": {
        "colab": {
          "base_uri": "https://localhost:8080/"
        },
        "id": "MdjPrOqJeVkT",
        "outputId": "c2d133c9-de9c-4fa6-da12-20b67a6c9372"
      },
      "execution_count": 3,
      "outputs": [
        {
          "output_type": "stream",
          "name": "stdout",
          "text": [
            "[10, 20]\n"
          ]
        }
      ]
    },
    {
      "cell_type": "markdown",
      "source": [
        "```\n",
        "x ──► [10]\n",
        "y ──┘\n",
        "\n",
        "x.append(20)  → altera o mesmo objeto\n",
        "\n",
        "x ──► [10, 20]\n",
        "y ──┘\n",
        "```"
      ],
      "metadata": {
        "id": "0k2yUUltWDcB"
      }
    },
    {
      "cell_type": "markdown",
      "source": [
        "#### **Verifdicação de Tipo**"
      ],
      "metadata": {
        "id": "sz18uEEbepCq"
      }
    },
    {
      "cell_type": "markdown",
      "source": [
        "Para verificação de tipo, use `type(x)` ou `isinstance(x, int)`."
      ],
      "metadata": {
        "id": "tHcf4CQIXOVI"
      }
    },
    {
      "cell_type": "code",
      "source": [
        "type(x)"
      ],
      "metadata": {
        "colab": {
          "base_uri": "https://localhost:8080/"
        },
        "id": "iYoOtLIeXAyr",
        "outputId": "d8ca7084-dd0b-4242-ddfc-2601522349fa"
      },
      "execution_count": 4,
      "outputs": [
        {
          "output_type": "execute_result",
          "data": {
            "text/plain": [
              "list"
            ]
          },
          "metadata": {},
          "execution_count": 4
        }
      ]
    },
    {
      "cell_type": "code",
      "source": [
        "isinstance(x, int)"
      ],
      "metadata": {
        "colab": {
          "base_uri": "https://localhost:8080/"
        },
        "id": "BbszGKYBXEAQ",
        "outputId": "ca97bddd-badc-40a1-8741-102c691f1e66"
      },
      "execution_count": 5,
      "outputs": [
        {
          "output_type": "execute_result",
          "data": {
            "text/plain": [
              "False"
            ]
          },
          "metadata": {},
          "execution_count": 5
        }
      ]
    },
    {
      "cell_type": "markdown",
      "source": [
        "### **Tipos Simples ou Built-in Types**"
      ],
      "metadata": {
        "id": "FdY0hR0reuAP"
      }
    },
    {
      "cell_type": "markdown",
      "source": [
        "Python classifica tipos em mutáveis (modificáveis in-place) e imutáveis (novos objetos criados ao modificar).\n"
      ],
      "metadata": {
        "id": "TYq5kd1Zewa0"
      }
    },
    {
      "cell_type": "markdown",
      "source": [
        "| Categoria | Tipo   | Exemplo            | Mutável? | Descrição                                                                 |\n",
        "|-----------|--------|--------------------|----------|----------------------------------------------------------------------------|\n",
        "| Numérico  | int    | idade = 25         | Não      | Inteiros arbitrariamente grandes (bigints).                                |\n",
        "| Numérico  | float  | altura = 1.75      | Não      | Ponto flutuante (precisão dupla IEEE 754).                                 |\n",
        "| Texto     | str    | nome = \"Tiago\"     | Não      | Sequências Unicode; suporta slicing e métodos como `.upper()`.             |\n",
        "| Lógico    | bool   | ativo = True       | Não      | Subclasse de int (`True=1`, `False=0`).         "
      ],
      "metadata": {
        "id": "9JfGc7ZsYMKz"
      }
    },
    {
      "cell_type": "markdown",
      "source": [
        "> **Dica:** Use `dir(obj)` para listar métodos de um objeto, e `help(obj)` para documentação."
      ],
      "metadata": {
        "id": "W0-LwbcWYPhm"
      }
    },
    {
      "cell_type": "markdown",
      "source": [
        "### **Operadores**"
      ],
      "metadata": {
        "id": "HItp0-WvgCOv"
      }
    },
    {
      "cell_type": "markdown",
      "source": [
        "Python oferece diferentes categorias de operadores que permitem manipular dados e expressões lógicas:"
      ],
      "metadata": {
        "id": "aleiqVdKgExS"
      }
    },
    {
      "cell_type": "markdown",
      "source": [
        "- **Operadores Aritméticos**"
      ],
      "metadata": {
        "id": "57lpe4aUgRwa"
      }
    },
    {
      "cell_type": "markdown",
      "source": [
        "| Operador | Operação                  | Exemplo        |\n",
        "|----------|---------------------------|----------------|\n",
        "| `+`      | Adição                    | `2 + 3 = 5`    |\n",
        "| `-`      | Subtração                 | `5 - 2 = 3`    |\n",
        "| `*`      | Multiplicação             | `4 * 2 = 8`    |\n",
        "| `/`      | Divisão (resultado float) | `5 / 2 = 2.5`  |\n",
        "| `//`     | Divisão inteira           | `5 // 2 = 2`   |\n",
        "| `%`      | Módulo (resto da divisão) | `5 % 2 = 1`    |\n",
        "| `**`     | Exponenciação             | `2 ** 3 = 8`   |\n"
      ],
      "metadata": {
        "id": "Yu-eBrE4gQi1"
      }
    },
    {
      "cell_type": "markdown",
      "source": [
        "- **Operadores de Comparação**"
      ],
      "metadata": {
        "id": "LHOKfNPygW-U"
      }
    },
    {
      "cell_type": "markdown",
      "source": [
        "| Operador | Operação        | Exemplo        |\n",
        "|----------|----------------|----------------|\n",
        "| `==`     | Igualdade       | `3 == 3 → True` |\n",
        "| `!=`     | Diferente       | `3 != 4 → True` |\n",
        "| `>`      | Maior que       | `5 > 2 → True`  |\n",
        "| `<`      | Menor que       | `2 < 5 → True`  |\n",
        "| `>=`     | Maior ou igual  | `5 >= 5 → True` |\n",
        "| `<=`     | Menor ou igual  | `3 <= 4 → True` |\n"
      ],
      "metadata": {
        "id": "AINq8c_igajw"
      }
    },
    {
      "cell_type": "markdown",
      "source": [
        "- **Operadores Lógicos**"
      ],
      "metadata": {
        "id": "weaJHmACggJj"
      }
    },
    {
      "cell_type": "markdown",
      "source": [
        "| Operador | Operação                  | Exemplo             |\n",
        "|----------|---------------------------|--------------------|\n",
        "| `and`    | E lógico (tudo True?)     | `True and False → False` |\n",
        "| `or`     | OU lógico (algum True?)   | `True or False → True`   |\n",
        "| `not`    | Negação lógica            | `not True → False`       |"
      ],
      "metadata": {
        "id": "jhRDbJX1gjiH"
      }
    },
    {
      "cell_type": "markdown",
      "source": [
        "**Exercício:**"
      ],
      "metadata": {
        "id": "3JwDOEVfY-fw"
      }
    },
    {
      "cell_type": "markdown",
      "source": [
        "Calcule 2 * 3 ** 2 ** 2 % 5"
      ],
      "metadata": {
        "id": "NnD6EXguZEkH"
      }
    },
    {
      "cell_type": "code",
      "source": [],
      "metadata": {
        "id": "zG6CM8iAahru"
      },
      "execution_count": 5,
      "outputs": []
    },
    {
      "cell_type": "markdown",
      "source": [
        "#### **Precedência de Operadores**"
      ],
      "metadata": {
        "id": "2sNojvSziNVQ"
      }
    },
    {
      "cell_type": "markdown",
      "source": [
        "A ordem de avaliação de operadores (precedência) define como expressões complexas são calculadas. Operadores com maior precedência são avaliados primeiro. É essencial para evitar erros, especialmente em programas que combinam aritmética, comparações e lógica."
      ],
      "metadata": {
        "id": "TWq6wlwUiSyQ"
      }
    },
    {
      "cell_type": "markdown",
      "source": [
        "**Tabela de Precedência (do mais alto para o mais baixo)**"
      ],
      "metadata": {
        "id": "1VTPAVdcilua"
      }
    },
    {
      "cell_type": "markdown",
      "source": [
        "| Nível | Operador(s)                        | Descrição                                           |\n",
        "|-------|-----------------------------------|---------------------------------------------------|\n",
        "| 1     | `()`                               | Parênteses — força a avaliação dentro deles primeiro |\n",
        "| 2     | `**`                               | Exponenciação (direita para esquerda)            |\n",
        "| 3     | `+x, -x, ~x`                       | Operadores unários (positivo, negativo, complemento bit a bit) |\n",
        "| 4     | `*, /, //, %`                      | Multiplicação, divisão, divisão inteira, módulo  |\n",
        "| 5     | `+, -`                             | Adição e subtração                                |\n",
        "| 6     | `<<, >>`                           | Deslocamento de bits à esquerda e à direita      |\n",
        "| 7     | `&`                                | E bit a bit                                       |\n",
        "| 8     | `^`                                | OU exclusivo bit a bit                            |\n",
        "| 9     | ```                                | Operador de identidade/bitwise/intern? (ver nota)|\n",
        "| 10    | Comparações `==, !=, >, >=, <, <=` | Operadores de comparação                          |\n",
        "| 11    | `not`                              | Negação lógica                                    |\n",
        "| 12    | `and`                              | E lógico                                         |\n",
        "| 13    | `or`                               | OU lógico                                        |\n",
        "| 14    | `lambda`                            | Expressão lambda                                 |\n"
      ],
      "metadata": {
        "id": "fVU9m5o0ihph"
      }
    },
    {
      "cell_type": "markdown",
      "source": [
        "**Exemplos**"
      ],
      "metadata": {
        "id": "PU400Otbi3AP"
      }
    },
    {
      "cell_type": "markdown",
      "source": [
        "**Exemplo 1:** Combinação de aritmética e comparação"
      ],
      "metadata": {
        "id": "NuJvDVIhi5Sf"
      }
    },
    {
      "cell_type": "code",
      "source": [
        "a = 5\n",
        "b = 10\n",
        "c = 3\n",
        "\n",
        "resultado = a + b > c * 2\n",
        "# Avaliação:\n",
        "# 1. Multiplicação: c * 2 → 6\n",
        "# 2. Adição: a + b → 15\n",
        "# 3. Comparação: 15 > 6 → True\n",
        "print(resultado)  # True"
      ],
      "metadata": {
        "colab": {
          "base_uri": "https://localhost:8080/"
        },
        "id": "3KwExY5yi7G4",
        "outputId": "b73add6d-f554-4c6e-e702-e5c806e84d1c"
      },
      "execution_count": 6,
      "outputs": [
        {
          "output_type": "stream",
          "name": "stdout",
          "text": [
            "True\n"
          ]
        }
      ]
    },
    {
      "cell_type": "markdown",
      "source": [
        "**Exemplo 2:** Operadores lógicos"
      ],
      "metadata": {
        "id": "rQD9nSL0i9Wk"
      }
    },
    {
      "cell_type": "code",
      "source": [
        "x = True\n",
        "y = False\n",
        "z = True\n",
        "\n",
        "resultado = x and not y or z\n",
        "# Avaliação:\n",
        "# 1. not y → True\n",
        "# 2. x and True → True\n",
        "# 3. True or z → True\n",
        "print(resultado)  # True"
      ],
      "metadata": {
        "colab": {
          "base_uri": "https://localhost:8080/"
        },
        "id": "YVrrArszi_UT",
        "outputId": "f81ce2c6-cf16-4dd0-9573-77439e85bec9"
      },
      "execution_count": 7,
      "outputs": [
        {
          "output_type": "stream",
          "name": "stdout",
          "text": [
            "True\n"
          ]
        }
      ]
    },
    {
      "cell_type": "markdown",
      "source": [
        "## **Mutabilidade e Estruturas de Dados**"
      ],
      "metadata": {
        "id": "gfgokcOgftvz"
      }
    },
    {
      "cell_type": "markdown",
      "source": [
        "### **Mutáveis vs. Imutáveis**"
      ],
      "metadata": {
        "id": "FCEKj1E6f77A"
      }
    },
    {
      "cell_type": "markdown",
      "source": [
        "Em Python, mutabilidade define se um objeto pode ser alterado após sua criação:"
      ],
      "metadata": {
        "id": "3iyBbIUpgBgV"
      }
    },
    {
      "cell_type": "markdown",
      "source": [
        "| Tipo             | Mutável?      | Características                                                                 |\n",
        "|-----------------|---------------|-------------------------------------------------------------------------------|\n",
        "| int, float, str, tuple | Imutável | Toda “modificação” cria um novo objeto na memória. |\n",
        "| list, dict, set        | Mutável  | Alterações podem ser feitas in-place. |\n"
      ],
      "metadata": {
        "id": "V17mATVvgN1Z"
      }
    },
    {
      "cell_type": "markdown",
      "source": [
        "Em Python, **objetos mutáveis** como `list`, `dict` e `set` são passados por referência e podem ser modificados in-place, de modo que alterações em funções ou threads afetam o objeto original, causando efeitos colaterais. Para evitar isso, crie **cópias** (`.copy()` ou `copy.deepcopy()`) quando precisar preservar o estado original, ou prefira **objetos imutáveis** (`tuple`, `frozenset`, `str`)."
      ],
      "metadata": {
        "id": "5hYwX1cQggRw"
      }
    },
    {
      "cell_type": "markdown",
      "source": [
        "**Exemplo prático:**"
      ],
      "metadata": {
        "id": "xQ45uFiLiRlU"
      }
    },
    {
      "cell_type": "code",
      "source": [
        "def adicionar_item(lista, item):\n",
        "    lista.append(item)  # altera a lista original\n",
        "\n",
        "minha_lista = [1, 2, 3]\n",
        "adicionar_item(minha_lista, 4)\n",
        "print(minha_lista)  # Saída: [1, 2, 3, 4]"
      ],
      "metadata": {
        "colab": {
          "base_uri": "https://localhost:8080/"
        },
        "id": "ZturmANQhnL7",
        "outputId": "33788476-7437-4af4-940d-89472f57f8b2"
      },
      "execution_count": 8,
      "outputs": [
        {
          "output_type": "stream",
          "name": "stdout",
          "text": [
            "[1, 2, 3, 4]\n"
          ]
        }
      ]
    },
    {
      "cell_type": "code",
      "source": [
        "# Para evitar efeito colateral:\n",
        "def adicionar_item_seguro(lista, item):\n",
        "    nova_lista = lista.copy()\n",
        "    nova_lista.append(item)\n",
        "    return nova_lista\n",
        "\n",
        "minha_lista = [1, 2, 3]\n",
        "nova_lista = adicionar_item_seguro(minha_lista, 4)\n",
        "print(minha_lista)  # [1, 2, 3]\n",
        "print(nova_lista)   # [1, 2, 3, 4]"
      ],
      "metadata": {
        "colab": {
          "base_uri": "https://localhost:8080/"
        },
        "id": "KRoIzHjxh0SN",
        "outputId": "36048709-4270-450c-876b-44e7be0abb75"
      },
      "execution_count": 9,
      "outputs": [
        {
          "output_type": "stream",
          "name": "stdout",
          "text": [
            "[1, 2, 3]\n",
            "[1, 2, 3, 4]\n"
          ]
        }
      ]
    },
    {
      "cell_type": "markdown",
      "source": [
        "### **Estruturas de Dados**"
      ],
      "metadata": {
        "id": "QeGEHG5KiW1a"
      }
    },
    {
      "cell_type": "markdown",
      "source": [
        "Python oferece diversas estruturas de dados integradas, cada uma com características e usos específicos."
      ],
      "metadata": {
        "id": "mHsklFXpibo1"
      }
    },
    {
      "cell_type": "markdown",
      "source": [
        "### **Listas (`list`)**"
      ],
      "metadata": {
        "id": "9FnIiLrpiehQ"
      }
    },
    {
      "cell_type": "markdown",
      "source": [
        "- **Características:**\n",
        "  - Mutáveis (podem ser alteradas após a criação).\n",
        "  - Ordenadas (mantêm a sequência dos elementos inseridos).\n",
        "  - Permitem duplicatas.\n",
        "\n",
        "- **Complexidade:**\n",
        " - Acesso por índice: $O(1)$\n",
        " - Inserção/remoção no fim: $O(1)$ amortizado\n",
        " - Inserção/remoção em posição arbitrária: $O(n)$\n",
        "\n",
        "- **Exemplo:**"
      ],
      "metadata": {
        "id": "lvPIgZk5ih-D"
      }
    },
    {
      "cell_type": "code",
      "source": [
        "lista = [1, 2, 3]\n",
        "lista.append(4)  # [1, 2, 3, 4]\n",
        "lista[0] = 10    # [10, 2, 3, 4]\n",
        "print(lista[:3]) # [10, 2, 3]"
      ],
      "metadata": {
        "colab": {
          "base_uri": "https://localhost:8080/"
        },
        "id": "np328-_9ilpR",
        "outputId": "7312652b-2a58-438f-c399-104ba6bbec40"
      },
      "execution_count": 10,
      "outputs": [
        {
          "output_type": "stream",
          "name": "stdout",
          "text": [
            "[10, 2, 3]\n"
          ]
        }
      ]
    },
    {
      "cell_type": "markdown",
      "source": [
        "### **Tuplas (`tuple`)**"
      ],
      "metadata": {
        "id": "K6P8qRlykAJA"
      }
    },
    {
      "cell_type": "markdown",
      "source": [
        "- **Características:**\n",
        "  - Imutáveis (não podem ser alteradas após a criação).\n",
        "  - Ordenadas.\n",
        "  - Hashable, ou seja, podem ser usadas como chaves em dicionários ou elementos de conjuntos.\n",
        "\n",
        "- **Complexidade:**\n",
        " - Acesso por índice: $O(1)$\n",
        "\n",
        "- **Exemplo:**"
      ],
      "metadata": {
        "id": "bpS_TL8HkK3_"
      }
    },
    {
      "cell_type": "code",
      "source": [
        "ponto = (10, 20)\n",
        "coordenadas = {(0,0): \"origem\", (10,20): \"destino\"}\n",
        "print(coordenadas[ponto])  # \"destino\""
      ],
      "metadata": {
        "colab": {
          "base_uri": "https://localhost:8080/"
        },
        "id": "wnfuuV9wkXOj",
        "outputId": "7b5799e3-4cdf-4435-94b2-106fd0bafdf2"
      },
      "execution_count": 11,
      "outputs": [
        {
          "output_type": "stream",
          "name": "stdout",
          "text": [
            "destino\n"
          ]
        }
      ]
    },
    {
      "cell_type": "markdown",
      "source": [
        "### **Dicionários (`dict`)**"
      ],
      "metadata": {
        "id": "pPzQcgFakec5"
      }
    },
    {
      "cell_type": "markdown",
      "source": [
        "- **Características:**\n",
        "  - Mutáveis.\n",
        "  - Baseados em **tabelas hash**.\n",
        "  - Associação de **chave → valor** (únicas chaves).\n",
        "\n",
        "- **Complexidade:**\n",
        " - Inserção, remoção e acesso por chave: $O(1)$\n",
        "\n",
        "- **Exemplo:**"
      ],
      "metadata": {
        "id": "ZIIoD8tVkjlI"
      }
    },
    {
      "cell_type": "code",
      "source": [
        "aluno = {\"nome\": \"Ana\", \"idade\": 21}\n",
        "aluno[\"curso\"] = \"Engenharia\"\n",
        "print(aluno[\"nome\"])  # Ana"
      ],
      "metadata": {
        "colab": {
          "base_uri": "https://localhost:8080/"
        },
        "id": "Gwrbrw6aklsh",
        "outputId": "307ba464-1df2-44c2-f7a7-46df7c298f7e"
      },
      "execution_count": 12,
      "outputs": [
        {
          "output_type": "stream",
          "name": "stdout",
          "text": [
            "Ana\n"
          ]
        }
      ]
    },
    {
      "cell_type": "markdown",
      "source": [
        "### **Conjuntos (`set`)**"
      ],
      "metadata": {
        "id": "2YZDfPzJk_0-"
      }
    },
    {
      "cell_type": "markdown",
      "source": [
        "- **Características:**\n",
        "  - Mutáveis.\n",
        "  - Elementos únicos (não permite duplicatas)\n",
        "  - Não-ordenados (a ordem não é garantida)\n",
        "  - Implementados com **tabelas hash**.\n",
        "\n",
        "- **Complexidade:**\n",
        " - Teste de pertinência (`in`): $O(1)$\n",
        "\n",
        "- **Exemplo:**"
      ],
      "metadata": {
        "id": "mvtZhiQzlDhl"
      }
    },
    {
      "cell_type": "code",
      "source": [
        "linguagens = {\"Python\", \"Java\", \"C\"}\n",
        "linguagens.add(\"Rust\")\n",
        "print(\"Python\" in linguagens)  # True"
      ],
      "metadata": {
        "colab": {
          "base_uri": "https://localhost:8080/"
        },
        "id": "Ua5RQl3vlFP3",
        "outputId": "504b6a72-ac4d-4ffb-ac6b-692ba46b7947"
      },
      "execution_count": 13,
      "outputs": [
        {
          "output_type": "stream",
          "name": "stdout",
          "text": [
            "True\n"
          ]
        }
      ]
    },
    {
      "cell_type": "markdown",
      "source": [
        "### **Comprehensions**"
      ],
      "metadata": {
        "id": "O2M_glBhlg5B"
      }
    },
    {
      "cell_type": "markdown",
      "source": [
        "Python permite criar coleções de forma concisa e eficiente com comprehensions."
      ],
      "metadata": {
        "id": "g3NspB0QlkC1"
      }
    },
    {
      "cell_type": "markdown",
      "source": [
        "- **List Comprehension:**"
      ],
      "metadata": {
        "id": "BZAIS5xDll49"
      }
    },
    {
      "cell_type": "code",
      "source": [
        "quadrados_pares = [x**2 for x in range(6) if x % 2 == 0]\n",
        "print(quadrados_pares)  # [0, 4, 16, 36]"
      ],
      "metadata": {
        "colab": {
          "base_uri": "https://localhost:8080/"
        },
        "id": "SddoNXcklnl9",
        "outputId": "1c98daf5-36aa-4ccb-c830-e45632ac6fe5"
      },
      "execution_count": 14,
      "outputs": [
        {
          "output_type": "stream",
          "name": "stdout",
          "text": [
            "[0, 4, 16]\n"
          ]
        }
      ]
    },
    {
      "cell_type": "markdown",
      "source": [
        "- **Set Comprehension:**"
      ],
      "metadata": {
        "id": "1Q9Bn93JlpZJ"
      }
    },
    {
      "cell_type": "code",
      "source": [
        "unicos = {x % 3 for x in range(10)}\n",
        "print(unicos)  # {0, 1, 2}"
      ],
      "metadata": {
        "colab": {
          "base_uri": "https://localhost:8080/"
        },
        "id": "1DvtHMYNlryj",
        "outputId": "ae124ad5-e111-4e87-f64d-e14133b96693"
      },
      "execution_count": 15,
      "outputs": [
        {
          "output_type": "stream",
          "name": "stdout",
          "text": [
            "{0, 1, 2}\n"
          ]
        }
      ]
    },
    {
      "cell_type": "markdown",
      "source": [
        "- **Dict Comprehension:**"
      ],
      "metadata": {
        "id": "Ar5uRO8-ltYg"
      }
    },
    {
      "cell_type": "code",
      "source": [
        "dicionario = {x: x**2 for x in range(5)}\n",
        "print(dicionario)  # {0:0, 1:1, 2:4, 3:9, 4:16}"
      ],
      "metadata": {
        "colab": {
          "base_uri": "https://localhost:8080/"
        },
        "id": "bpA9BYP6lw5w",
        "outputId": "5085fe3d-dff7-4dda-9fff-274f7787961b"
      },
      "execution_count": 16,
      "outputs": [
        {
          "output_type": "stream",
          "name": "stdout",
          "text": [
            "{0: 0, 1: 1, 2: 4, 3: 9, 4: 16}\n"
          ]
        }
      ]
    },
    {
      "cell_type": "markdown",
      "source": [
        "> Nota: não existe \"tuple comprehension\" em Python do mesmo jeito que temos list, set e dict comprehensions."
      ],
      "metadata": {
        "id": "H361aqn-l4vz"
      }
    },
    {
      "cell_type": "markdown",
      "source": [
        "## **Estruturas de Controle de Fluxo**"
      ],
      "metadata": {
        "id": "fMETf9fskc7F"
      }
    },
    {
      "cell_type": "markdown",
      "source": [
        "### **Condicionais**"
      ],
      "metadata": {
        "id": "HNbc05n-koZj"
      }
    },
    {
      "cell_type": "markdown",
      "source": [
        "Decisões baseadas em booleanos. Python avalia \"truthy\" (não-zero, não-vazio) vs. \"falsy\" (0, None, vazio).\n",
        "\n"
      ],
      "metadata": {
        "id": "ku41PMCzkq6I"
      }
    },
    {
      "cell_type": "markdown",
      "source": [
        "**Estruturas básicas:**\n",
        "\n",
        " - `if`: executa um bloco se a condição for verdadeira.\n",
        " - `elif` (`else if`): verifica outra condição caso a anterior seja falsa.\n",
        " - `else`: executa um bloco caso nenhuma condição anterior seja verdadeira."
      ],
      "metadata": {
        "id": "HpJoBbCEbPDZ"
      }
    },
    {
      "cell_type": "markdown",
      "source": [
        "**Exemplo**"
      ],
      "metadata": {
        "id": "WzIecm05bQXw"
      }
    },
    {
      "cell_type": "code",
      "source": [
        "idade = 20\n",
        "\n",
        "if idade < 18:\n",
        "    print(\"Menor de idade\")\n",
        "elif idade < 65:\n",
        "    print(\"Adulto\")\n",
        "else:\n",
        "    print(\"Idoso\")"
      ],
      "metadata": {
        "colab": {
          "base_uri": "https://localhost:8080/"
        },
        "id": "ZezXZ1zrlIrI",
        "outputId": "f563195e-d6fb-4010-93da-edfa95914ad3"
      },
      "execution_count": 17,
      "outputs": [
        {
          "output_type": "stream",
          "name": "stdout",
          "text": [
            "Adulto\n"
          ]
        }
      ]
    },
    {
      "cell_type": "markdown",
      "source": [
        "> **Boa prática:** Use condições claras e evite blocos muito longos para manter legibilidade."
      ],
      "metadata": {
        "id": "RewWhuHtlNA4"
      }
    },
    {
      "cell_type": "markdown",
      "source": [
        "### **Laços de Repetição (Loops)**"
      ],
      "metadata": {
        "id": "0jJoVFDplSn1"
      }
    },
    {
      "cell_type": "markdown",
      "source": [
        "Permitem **executar um bloco de código múltiplas veze**s."
      ],
      "metadata": {
        "id": "P3dzJnETlbmd"
      }
    },
    {
      "cell_type": "markdown",
      "source": [
        "- **Laço** `for` **(Iteração Determinística):**"
      ],
      "metadata": {
        "id": "X1lT6QSnliYM"
      }
    },
    {
      "cell_type": "markdown",
      "source": [
        "Ideal para sequências conhecidas. Suporta `else` (executa se não houver `break`)."
      ],
      "metadata": {
        "id": "6RKaYFD4lt7z"
      }
    },
    {
      "cell_type": "code",
      "source": [
        "nomes = [\"Alice\", \"Bob\", \"Carlos\"]\n",
        "\n",
        "for nome in nomes:\n",
        "    print(f\"Olá, {nome}!\")\n",
        "else:\n",
        "  print(\"Loop completado sem interrupções!\")"
      ],
      "metadata": {
        "colab": {
          "base_uri": "https://localhost:8080/"
        },
        "id": "WfzNbR8plxSB",
        "outputId": "f55dcd54-a3e1-4529-b8de-084bbdabcbb0"
      },
      "execution_count": 18,
      "outputs": [
        {
          "output_type": "stream",
          "name": "stdout",
          "text": [
            "Olá, Alice!\n",
            "Olá, Bob!\n",
            "Olá, Carlos!\n",
            "Loop completado sem interrupções!\n"
          ]
        }
      ]
    },
    {
      "cell_type": "markdown",
      "source": [
        "**Prática:** Escreva um loop for que imprima números pares de 0 a 10."
      ],
      "metadata": {
        "id": "5-rCY6cToke_"
      }
    },
    {
      "cell_type": "code",
      "source": [],
      "metadata": {
        "id": "0jSspO8Voxa-"
      },
      "execution_count": 18,
      "outputs": []
    },
    {
      "cell_type": "markdown",
      "source": [
        "- **Laço** `while` **(Iteração Indeterminística):**"
      ],
      "metadata": {
        "id": "khgdc051l7J0"
      }
    },
    {
      "cell_type": "markdown",
      "source": [
        "Repete o bloco **enquanto uma condição for verdadeira**. Cuidado com loops infinitos — sempre atualize a condição."
      ],
      "metadata": {
        "id": "hxlyNPHTmAji"
      }
    },
    {
      "cell_type": "code",
      "source": [
        "contador = 0\n",
        "while contador < 5:\n",
        "    print(f\"Contador = {contador}\")\n",
        "    contador += 1"
      ],
      "metadata": {
        "colab": {
          "base_uri": "https://localhost:8080/"
        },
        "id": "jOAZHUKSmGwP",
        "outputId": "a0fc924e-6af9-40de-8c09-7d6caf5bc501"
      },
      "execution_count": 19,
      "outputs": [
        {
          "output_type": "stream",
          "name": "stdout",
          "text": [
            "Contador = 0\n",
            "Contador = 1\n",
            "Contador = 2\n",
            "Contador = 3\n",
            "Contador = 4\n"
          ]
        }
      ]
    },
    {
      "cell_type": "markdown",
      "source": [
        "**Prática:** Use while para somar números até que a soma exceda 20."
      ],
      "metadata": {
        "id": "AhlF2l1Wo3jj"
      }
    },
    {
      "cell_type": "code",
      "source": [],
      "metadata": {
        "id": "3uoUf7UDo9js"
      },
      "execution_count": 19,
      "outputs": []
    },
    {
      "cell_type": "markdown",
      "source": [
        "### **Controle de Laços**"
      ],
      "metadata": {
        "id": "N3OqqmBmmX-y"
      }
    },
    {
      "cell_type": "markdown",
      "source": [
        "- `break`:"
      ],
      "metadata": {
        "id": "ojuogyJmmgB2"
      }
    },
    {
      "cell_type": "markdown",
      "source": [
        "Encerra o laço **imediatamente**, mesmo que a condição ainda seja verdadeira."
      ],
      "metadata": {
        "id": "3gnLMDa9mlFa"
      }
    },
    {
      "cell_type": "code",
      "source": [
        "for i in range(10):\n",
        "    if i == 5:\n",
        "        break\n",
        "    print(i)\n",
        "else:\n",
        "  print(\"Loop completado sem interrupções!\")"
      ],
      "metadata": {
        "colab": {
          "base_uri": "https://localhost:8080/"
        },
        "id": "WiDzlsJmmpD2",
        "outputId": "117974ff-9eb3-4e7e-e402-9b1c45f7e27d"
      },
      "execution_count": 20,
      "outputs": [
        {
          "output_type": "stream",
          "name": "stdout",
          "text": [
            "0\n",
            "1\n",
            "2\n",
            "3\n",
            "4\n"
          ]
        }
      ]
    },
    {
      "cell_type": "markdown",
      "source": [
        "- `continue`:"
      ],
      "metadata": {
        "id": "6RWB6WVNmrhd"
      }
    },
    {
      "cell_type": "markdown",
      "source": [
        "**Pula a iteração atual** e continua para a próxima."
      ],
      "metadata": {
        "id": "plQ0iqFWmvoz"
      }
    },
    {
      "cell_type": "code",
      "source": [
        "for i in range(5):\n",
        "  if i == 2:\n",
        "    continue\n",
        "  print(i)\n",
        "else:\n",
        "  print(\"Loop completado sem interrupções!\")"
      ],
      "metadata": {
        "colab": {
          "base_uri": "https://localhost:8080/"
        },
        "id": "_B_zSo9_m1Jj",
        "outputId": "51a0ee7f-e863-4ae3-87bf-bbcbe1d9437f"
      },
      "execution_count": 21,
      "outputs": [
        {
          "output_type": "stream",
          "name": "stdout",
          "text": [
            "0\n",
            "1\n",
            "3\n",
            "4\n",
            "Loop completado sem interrupções!\n"
          ]
        }
      ]
    },
    {
      "cell_type": "markdown",
      "source": [
        "## **Funções**"
      ],
      "metadata": {
        "id": "cbWlSdYFnF8F"
      }
    },
    {
      "cell_type": "markdown",
      "source": [
        "São objetos de primeira classe: podem ser passadas, retornadas ou atribuídas."
      ],
      "metadata": {
        "id": "tQO-hrVAdsW-"
      }
    },
    {
      "cell_type": "markdown",
      "source": [
        "### **Definição, Parâmetros e return**"
      ],
      "metadata": {
        "id": "1YntL9ZtpRtD"
      }
    },
    {
      "cell_type": "markdown",
      "source": [
        "Funções são blocos de código reutilizáveis, que encapsulam lógica e permitem executar tarefas específicas várias vezes sem repetir código."
      ],
      "metadata": {
        "id": "-dNkWHhBpOkL"
      }
    },
    {
      "cell_type": "code",
      "source": [
        "def soma(a: int, b: int) -> int:  # Anotações de tipo (opcional, mas técnico!)\n",
        "  return a + b\n",
        "\n",
        "soma(5, 3)"
      ],
      "metadata": {
        "colab": {
          "base_uri": "https://localhost:8080/"
        },
        "id": "9gXbFkDxpetm",
        "outputId": "3ac6332e-9751-477c-92cc-a19d61d8abd6"
      },
      "execution_count": 22,
      "outputs": [
        {
          "output_type": "execute_result",
          "data": {
            "text/plain": [
              "8"
            ]
          },
          "metadata": {},
          "execution_count": 22
        }
      ]
    },
    {
      "cell_type": "markdown",
      "source": [
        "### **Parâmetros com Valor Padrão**"
      ],
      "metadata": {
        "id": "jWM7VHZHjgH_"
      }
    },
    {
      "cell_type": "markdown",
      "source": [
        "Permitem chamar a função sem informar todos os argumentos."
      ],
      "metadata": {
        "id": "RJpoLlRIjjvM"
      }
    },
    {
      "cell_type": "code",
      "source": [
        "def saudacao(nome=\"Usuário\"):\n",
        "    return f\"Olá, {nome}!\"\n",
        "print(saudacao())        # Olá, Usuário!\n",
        "print(saudacao(\"Ana\"))   # Olá, Ana!"
      ],
      "metadata": {
        "colab": {
          "base_uri": "https://localhost:8080/"
        },
        "id": "S3BPrqwxjkT5",
        "outputId": "3878ab65-53ab-49c2-a278-59f758c3766e"
      },
      "execution_count": 23,
      "outputs": [
        {
          "output_type": "stream",
          "name": "stdout",
          "text": [
            "Olá, Usuário!\n",
            "Olá, Ana!\n"
          ]
        }
      ]
    },
    {
      "cell_type": "markdown",
      "source": [
        "### `*args` **(tupla de argumentos posicionais)**"
      ],
      "metadata": {
        "id": "5I7Ejtwhjm26"
      }
    },
    {
      "cell_type": "markdown",
      "source": [
        "Permite passar quantidade variável de argumentos posicionais."
      ],
      "metadata": {
        "id": "RCHABqscjxxB"
      }
    },
    {
      "cell_type": "code",
      "source": [
        "def soma(*args):\n",
        "    total = 0\n",
        "    for n in args:\n",
        "        total += n\n",
        "    return total\n",
        "print(soma(1,2,3))  # 6"
      ],
      "metadata": {
        "colab": {
          "base_uri": "https://localhost:8080/"
        },
        "id": "lYOFWy6hjz1j",
        "outputId": "7106d610-1a32-409b-b4a2-bb0312eb718e"
      },
      "execution_count": 24,
      "outputs": [
        {
          "output_type": "stream",
          "name": "stdout",
          "text": [
            "6\n"
          ]
        }
      ]
    },
    {
      "cell_type": "markdown",
      "source": [
        "### `**kwargs` **(dicionário de argumentos nomeados)**"
      ],
      "metadata": {
        "id": "jj0I_x1sj6_U"
      }
    },
    {
      "cell_type": "markdown",
      "source": [
        "Permite passar quantidade variável de argumentos nomeados."
      ],
      "metadata": {
        "id": "I9uJ6WRokvtC"
      }
    },
    {
      "cell_type": "code",
      "source": [
        "def exibir_info(**kwargs):\n",
        "    for key, value in kwargs.items():\n",
        "        print(f\"{key}: {value}\")\n",
        "exibir_info(nome=\"Maria\", idade=25)"
      ],
      "metadata": {
        "colab": {
          "base_uri": "https://localhost:8080/"
        },
        "id": "OXhDRlzukwTA",
        "outputId": "b1fa1bff-57ed-4505-f9ee-74cb338213f6"
      },
      "execution_count": 25,
      "outputs": [
        {
          "output_type": "stream",
          "name": "stdout",
          "text": [
            "nome: Maria\n",
            "idade: 25\n"
          ]
        }
      ]
    },
    {
      "cell_type": "markdown",
      "source": [
        "### **Funções Lambda e de Ordem Superior**"
      ],
      "metadata": {
        "id": "ZXKuDCU5lCCP"
      }
    },
    {
      "cell_type": "markdown",
      "source": [
        "#### **Lambda: Funções Anônimas e Curtas**"
      ],
      "metadata": {
        "id": "-U-v-B0LlJCf"
      }
    },
    {
      "cell_type": "markdown",
      "source": [
        "- Sintaxe: lambda parâmetros: expressão\n",
        "- Usadas quando a função é simples e não precisa de nome."
      ],
      "metadata": {
        "id": "nDDS3ru2lNtl"
      }
    },
    {
      "cell_type": "code",
      "source": [
        "dobro = lambda x: x * 2\n",
        "print(dobro(5))  # 10"
      ],
      "metadata": {
        "colab": {
          "base_uri": "https://localhost:8080/"
        },
        "id": "5Y4OUlyflS-Z",
        "outputId": "db5a2d5f-3f53-44fb-b3b7-675c8edc95a6"
      },
      "execution_count": 26,
      "outputs": [
        {
          "output_type": "stream",
          "name": "stdout",
          "text": [
            "10\n"
          ]
        }
      ]
    },
    {
      "cell_type": "markdown",
      "source": [
        "#### **Funções de Ordem Superior**"
      ],
      "metadata": {
        "id": "PhGvSltZlZAE"
      }
    },
    {
      "cell_type": "markdown",
      "source": [
        "Funções que recebem outras funções como argumento ou retornam uma função."
      ],
      "metadata": {
        "id": "d3g7uEOVlis3"
      }
    },
    {
      "cell_type": "markdown",
      "source": [
        "1. `map` **– aplica função a cada item de uma sequência**"
      ],
      "metadata": {
        "id": "vLSjmyX7lnLK"
      }
    },
    {
      "cell_type": "code",
      "source": [
        "nums = [1, 2, 3]\n",
        "quadrados = list(map(lambda x: x**2, nums))\n",
        "print(quadrados)  # [1, 4, 9]"
      ],
      "metadata": {
        "colab": {
          "base_uri": "https://localhost:8080/"
        },
        "id": "eNf0RZm-lqME",
        "outputId": "3ca00183-69f8-48a3-b5b1-5960d6dc7a84"
      },
      "execution_count": 27,
      "outputs": [
        {
          "output_type": "stream",
          "name": "stdout",
          "text": [
            "[1, 4, 9]\n"
          ]
        }
      ]
    },
    {
      "cell_type": "markdown",
      "source": [
        "2. `filter` **– filtra itens de uma sequência**"
      ],
      "metadata": {
        "id": "owBGt9talsDI"
      }
    },
    {
      "cell_type": "code",
      "source": [
        "pares = list(filter(lambda x: x % 2 == 0, nums))\n",
        "print(pares)  # [2]"
      ],
      "metadata": {
        "colab": {
          "base_uri": "https://localhost:8080/"
        },
        "id": "Tq2CYtzFl0Iq",
        "outputId": "8a15fdb2-ecde-420e-b581-94a860919dbd"
      },
      "execution_count": 28,
      "outputs": [
        {
          "output_type": "stream",
          "name": "stdout",
          "text": [
            "[2]\n"
          ]
        }
      ]
    },
    {
      "cell_type": "markdown",
      "source": [
        "3. `reduce` **– reduz a sequência a um único valor**"
      ],
      "metadata": {
        "id": "HHQWCAcVl22O"
      }
    },
    {
      "cell_type": "code",
      "source": [
        "from functools import reduce\n",
        "soma_total = reduce(lambda x, y: x + y, nums)\n",
        "print(soma_total)  # 6"
      ],
      "metadata": {
        "colab": {
          "base_uri": "https://localhost:8080/"
        },
        "id": "-Q5U0EuYl6qt",
        "outputId": "81199364-33ae-4023-ea4b-fd56a50829f2"
      },
      "execution_count": 29,
      "outputs": [
        {
          "output_type": "stream",
          "name": "stdout",
          "text": [
            "6\n"
          ]
        }
      ]
    },
    {
      "cell_type": "markdown",
      "source": [
        "### **Escopo de Variáveis (LEGB, global, nonlocal)**"
      ],
      "metadata": {
        "id": "ugWXvZwBoJP0"
      }
    },
    {
      "cell_type": "markdown",
      "source": [
        "A regra **LEGB** define a ordem de busca de nomes em Python: Local, Enclosing, Global e Built-in. O escopo local corresponde às variáveis da função em execução, o enclosing refere-se a funções externas que englobam a atual, o global é o espaço de nomes do módulo e o built-in contém funções e objetos nativos do Python. Quando precisamos alterar variáveis fora do escopo local, usamos as palavras-chave `global` e `nonlocal`. A primeira permite modificar diretamente uma variável definida no nível do módulo, enquanto a segunda possibilita alterar variáveis do escopo imediatamente externo em funções aninhadas, sem criar um novo nome local.\n"
      ],
      "metadata": {
        "id": "xUf-pdp4m950"
      }
    },
    {
      "cell_type": "markdown",
      "source": [
        "**Exemplo**"
      ],
      "metadata": {
        "id": "IgG_bUIyoj1y"
      }
    },
    {
      "cell_type": "code",
      "source": [
        "x = \"global\"\n",
        "\n",
        "def outer():\n",
        "    x = \"enclosing\"\n",
        "\n",
        "    def inner():\n",
        "        nonlocal x   # altera o 'x' do escopo enclosing (outer)\n",
        "        x = \"modificado pelo inner\"\n",
        "\n",
        "    inner()\n",
        "    print(\"Dentro de outer:\", x)\n",
        "\n",
        "def alterar_global():\n",
        "    global x       # altera o 'x' do escopo global\n",
        "    x = \"alterado pelo global\"\n",
        "\n",
        "outer()\n",
        "print(\"No escopo global (antes):\", x)\n",
        "\n",
        "alterar_global()\n",
        "print(\"No escopo global (depois):\", x)"
      ],
      "metadata": {
        "colab": {
          "base_uri": "https://localhost:8080/"
        },
        "id": "6leZFNj8omMY",
        "outputId": "ce2a6891-11d4-4d94-c739-55ffd2103606"
      },
      "execution_count": 30,
      "outputs": [
        {
          "output_type": "stream",
          "name": "stdout",
          "text": [
            "Dentro de outer: modificado pelo inner\n",
            "No escopo global (antes): global\n",
            "No escopo global (depois): alterado pelo global\n"
          ]
        }
      ]
    },
    {
      "cell_type": "markdown",
      "source": [
        "## **Importação de Módulos**"
      ],
      "metadata": {
        "id": "xUE-Q7GhqHMp"
      }
    },
    {
      "cell_type": "markdown",
      "source": [
        "Use `import modulo` ou `import modulo as alias` para acessar funções. Import específico: `from modulo import funcao`. Exemplos: `math` para cálculos matemáticos; `random` para aleatoriedade.\n"
      ],
      "metadata": {
        "id": "8ZeUcyUSqS3x"
      }
    },
    {
      "cell_type": "markdown",
      "source": [
        "**Exemplo**"
      ],
      "metadata": {
        "id": "8pSgNrWCqfhN"
      }
    },
    {
      "cell_type": "code",
      "source": [
        "import math as m\n",
        "print(m.pi)  # 3.14159...\n",
        "print(m.sqrt(16))  # 4.0\n",
        "\n",
        "from random import randint\n",
        "print(randint(1, 10))  # Número aleatório entre 1 e 10"
      ],
      "metadata": {
        "colab": {
          "base_uri": "https://localhost:8080/"
        },
        "id": "acuTJhkeqiPQ",
        "outputId": "1396533e-b60e-456a-b723-de104989cc5a"
      },
      "execution_count": 31,
      "outputs": [
        {
          "output_type": "stream",
          "name": "stdout",
          "text": [
            "3.141592653589793\n",
            "4.0\n",
            "5\n"
          ]
        }
      ]
    },
    {
      "cell_type": "markdown",
      "source": [
        "## **Exercícios**"
      ],
      "metadata": {
        "id": "2yNT9m3WrrNQ"
      }
    },
    {
      "cell_type": "markdown",
      "source": [
        "### **Exercício 1: Operadores e Precedência**"
      ],
      "metadata": {
        "id": "Iq6goczUrtsZ"
      }
    },
    {
      "cell_type": "markdown",
      "source": [
        "O Índice de Massa Corporal (IMC) é calculado pela fórmula:\n",
        "\n",
        "$$\n",
        "\\text{IMC} = \\frac{\\text{peso (kg)}}{\\text{altura (m)}^2}\n",
        "$$\n",
        "\n",
        "Crie uma variável `peso` (em kg) e uma variável `altura` (em metros). Calcule o IMC e armazene o resultado em uma variável. Em seguida, usando operadores lógicos e de comparação, crie uma expressão que avalie se o IMC está dentro da faixa considerada \"normal\" (entre 18.5 e 24.9). Imprima o resultado do IMC e o resultado da verificação lógica (`True` ou `False`)."
      ],
      "metadata": {
        "id": "GX9zIs_PrwPS"
      }
    },
    {
      "cell_type": "code",
      "source": [],
      "metadata": {
        "id": "HFZ-J-5qsTvw"
      },
      "execution_count": 31,
      "outputs": []
    },
    {
      "cell_type": "markdown",
      "source": [
        "### **Exercício 2: Manipulação de Strings e Tipos de Dados**"
      ],
      "metadata": {
        "id": "pYsKZu1msXnw"
      }
    },
    {
      "cell_type": "markdown",
      "source": [
        "Peça ao usuário para digitar seu nome completo. Em seguida, realize e imprima o seguinte:\n",
        "\n",
        "1. O nome completo em letras maiúsculas.\n",
        "2. O número de caracteres do nome (sem contar os espaços).\n",
        "3. As três primeiras letras do nome.\n",
        "4. Verifique se o nome começa com a letra \"A\" (ignorando se é maiúscula ou minúscula).\n",
        "\n",
        "> **Dica:** Utilize os métodos de strings como .upper(), .replace(), e slicing."
      ],
      "metadata": {
        "id": "yKuNLh26sb92"
      }
    },
    {
      "cell_type": "code",
      "source": [],
      "metadata": {
        "id": "UHWz0dk6spGs"
      },
      "execution_count": 31,
      "outputs": []
    },
    {
      "cell_type": "markdown",
      "source": [
        "### **Exercício 3: Estruturas de Controle ( if, elif, else)**\n"
      ],
      "metadata": {
        "id": "WGFhd6UOsp9c"
      }
    },
    {
      "cell_type": "markdown",
      "source": [
        "Com base no resultado do IMC do Exercício 1, classificar e imprimir o resultado de acordo com a tabela abaixo:"
      ],
      "metadata": {
        "id": "tAbmWhwRtGJm"
      }
    },
    {
      "cell_type": "markdown",
      "source": [
        "| IMC           | Classificação               |\n",
        "|---------------|----------------------------|\n",
        "| < 18.5        | Abaixo do peso             |\n",
        "| 18.5 - 24.9   | Peso normal                |\n",
        "| 25.0 - 29.9   | Sobrepeso                  |\n",
        "| 30.0 - 34.9   | Obesidade Grau I           |\n",
        "| > 35.0        | Obesidade Grau II ou superior |\n"
      ],
      "metadata": {
        "id": "7iMvrBtxtNDL"
      }
    },
    {
      "cell_type": "code",
      "source": [],
      "metadata": {
        "id": "XdeV83UwtcNx"
      },
      "execution_count": 31,
      "outputs": []
    },
    {
      "cell_type": "markdown",
      "source": [
        "### **Exercício 4: Laços de Repetição e Estruturas de Dados (list e dict)**\n"
      ],
      "metadata": {
        "id": "k_ewsFsBtctp"
      }
    },
    {
      "cell_type": "markdown",
      "source": [
        "Você recebeu uma lista de dicionários, onde cada dicionário representa um aluno com seu nome e suas notas."
      ],
      "metadata": {
        "id": "szTRGhNGthJv"
      }
    },
    {
      "cell_type": "code",
      "source": [
        "alunos = [\n",
        "    {\"nome\": \"Alice\", \"notas\": [8, 7, 6]},\n",
        "    {\"nome\": \"Bob\", \"notas\": [5, 4, 6]},\n",
        "    {\"nome\": \"Carlos\", \"notas\": [9, 10, 8]}\n",
        "]"
      ],
      "metadata": {
        "id": "077buZ3Qtjz_"
      },
      "execution_count": 32,
      "outputs": []
    },
    {
      "cell_type": "markdown",
      "source": [
        "Crie um laço for para iterar sobre essa lista. Para cada aluno:\n",
        "\n",
        "1. Calcule a média de suas notas.\n",
        "2. Use uma estrutura if/else para determinar se o aluno foi \"Aprovado\" (média >= 7) ou \"Reprovado\".\n",
        "3. Imprima o nome do aluno, sua média (formatada com duas casas decimais) e seu status."
      ],
      "metadata": {
        "id": "nRr6ZaB-tl3o"
      }
    },
    {
      "cell_type": "code",
      "source": [],
      "metadata": {
        "id": "URrI9fCdtseO"
      },
      "execution_count": 32,
      "outputs": []
    },
    {
      "cell_type": "markdown",
      "source": [
        "### **Exercício 5: Comprehensions**\n"
      ],
      "metadata": {
        "id": "ZzZBgrF0ts3K"
      }
    },
    {
      "cell_type": "markdown",
      "source": [
        "Usando o conceito de List Comprehension, crie uma lista chamada quadrados_impares que contenha o quadrado de todos os números ímpares de 1 a 15."
      ],
      "metadata": {
        "id": "PUTWaK4Ntv_j"
      }
    },
    {
      "cell_type": "code",
      "source": [],
      "metadata": {
        "id": "o3pFOKiut0cP"
      },
      "execution_count": 32,
      "outputs": []
    },
    {
      "cell_type": "markdown",
      "source": [
        "### **Exercício 6: Funções com** `*args` **e** `**kwargs`"
      ],
      "metadata": {
        "id": "9bJPEANGt2b2"
      }
    },
    {
      "cell_type": "markdown",
      "source": [
        "Crie uma função chamada `gerar_relatorio` que aceite os seguintes parâmetros:\n",
        "\n",
        "- `nome_responsavel` (um argumento posicional obrigatório).\n",
        "- `**despesas` (uma quantidade variável de argumentos nomeados com o valor de cada despesa, como `gasolina=50`, `alimentacao=100`).\n",
        "\n",
        "A função deve imprimir um relatório formatado, mostrando o nome do responsável, a lista de itens e o valor total das despesas."
      ],
      "metadata": {
        "id": "sX-HrngNuKFq"
      }
    },
    {
      "cell_type": "code",
      "source": [],
      "metadata": {
        "id": "Aj8Zssngubv2"
      },
      "execution_count": 32,
      "outputs": []
    },
    {
      "cell_type": "markdown",
      "source": [
        "### **Exercício 7: Funções de Ordem Superior (map, filter, lambda)**\n"
      ],
      "metadata": {
        "id": "jt64wnWTu_Ra"
      }
    },
    {
      "cell_type": "markdown",
      "source": [
        "Dada a lista de produtos abaixo:"
      ],
      "metadata": {
        "id": "i6im69DwvC9y"
      }
    },
    {
      "cell_type": "code",
      "source": [
        "produtos = [\n",
        "    {\"nome\": \"Laptop\", \"preco\": 3500, \"categoria\": \"Eletrônicos\"},\n",
        "    {\"nome\": \"Mouse\", \"preco\": 80, \"categoria\": \"Eletrônicos\"},\n",
        "    {\"nome\": \"Cadeira\", \"preco\": 450, \"categoria\": \"Móveis\"},\n",
        "    {\"nome\": \"Monitor\", \"preco\": 1200, \"categoria\": \"Eletrônicos\"}\n",
        "]"
      ],
      "metadata": {
        "id": "jttonZO6vE1U"
      },
      "execution_count": 33,
      "outputs": []
    },
    {
      "cell_type": "markdown",
      "source": [
        "Use funções de ordem superior para realizar as seguintes tarefas:\n",
        "\n",
        "1. `filter` e `lambda`: Crie uma lista chamada `eletronicos_caros` que contenha apenas os produtos da categoria \"Eletrônicos\" com preço superior a R\\$ $1.000$.\n",
        "\n",
        "2. `map` e `lambda`: Crie uma lista chamada nomes_produtos contendo apenas o nome de todos os produtos da lista original.\n",
        "\n",
        "3. Imprima as duas listas resultantes."
      ],
      "metadata": {
        "id": "sTtE42vAvH_A"
      }
    },
    {
      "cell_type": "code",
      "source": [],
      "metadata": {
        "id": "9Doenc1KvPyQ"
      },
      "execution_count": 33,
      "outputs": []
    }
  ]
}