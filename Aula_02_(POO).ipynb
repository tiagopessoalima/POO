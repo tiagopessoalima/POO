{
  "nbformat": 4,
  "nbformat_minor": 0,
  "metadata": {
    "colab": {
      "provenance": [],
      "authorship_tag": "ABX9TyM6W2/ixVesZcuxYdfJV8yB",
      "include_colab_link": true
    },
    "kernelspec": {
      "name": "python3",
      "display_name": "Python 3"
    },
    "language_info": {
      "name": "python"
    }
  },
  "cells": [
    {
      "cell_type": "markdown",
      "metadata": {
        "id": "view-in-github",
        "colab_type": "text"
      },
      "source": [
        "<a href=\"https://colab.research.google.com/github/tiagopessoalima/POO/blob/main/Aula_02_(POO).ipynb\" target=\"_parent\"><img src=\"https://colab.research.google.com/assets/colab-badge.svg\" alt=\"Open In Colab\"/></a>"
      ]
    },
    {
      "cell_type": "markdown",
      "source": [
        "# **Introdução à Programação Orientada a Objetos (POO)**"
      ],
      "metadata": {
        "id": "xXXJq_oN0Vay"
      }
    },
    {
      "cell_type": "markdown",
      "source": [
        "Antes de avançar para o estudo de objetos e classes, é necessário revisar os fundamentos da linguagem Python. Essa etapa não constitui apenas uma introdução, mas uma base conceitual indispensável para compreender como dados, comportamentos e estados são encapsulados em objetos. Sem o domínio prévio de conceitos como escopo de variáveis, tipos de dados e mutabilidade, a construção de classes tende a apresentar inconsistências lógicas e erros de execução difíceis de rastrear.\n",
        "\n",
        "**Objetivo da Semana:** Revisar sintaxe básica, estruturas de controle, funções, escopo, mutabilidade e módulos. Ao final, você estará pronto para implementar classes com código limpo, eficiente e \"pythônico\".\n",
        "\n",
        "**Curiosidade:** Python foi criado por Guido van Rossum em 1989 como um hobby de Natal? Inspirado no humor britânico de [Monty Python](https://pt.wikipedia.org/wiki/Monty_Python), ele prioriza legibilidade — execute import this no seu interpretador para ver o \"Zen of Python\" completo. Vamos aplicar esses princípios aqui!"
      ],
      "metadata": {
        "id": "uq3rLalx0l9P"
      }
    },
    {
      "cell_type": "markdown",
      "source": [
        "## **Filosofia e Sintaxe Básica**"
      ],
      "metadata": {
        "id": "K2Uhswgg0omy"
      }
    },
    {
      "cell_type": "markdown",
      "source": [
        "### **O Zen of Python**"
      ],
      "metadata": {
        "id": "d3tENXn90udS"
      }
    },
    {
      "cell_type": "markdown",
      "source": [
        "A filosofia do Python, codificada no PEP 20 (Python Enhancement Proposal), enfatiza:\n",
        "\n",
        "- **Legibilidade** conta: Código é lido mais vezes do que escrito.\n",
        "- **Simplicidade** é melhor que complexidade.\n",
        "- **Explicito** é melhor que implícito.\n",
        "- **Pragmatismo**: Se uma implementação é difícil de explicar, é uma má ideia.\n",
        "\n",
        "Esses princípios se manifestam na sintaxe: indentação obrigatória (4 espaços por nível) delimita blocos, eliminando chaves {} como em C++ ou Java. Isso força código visualmente consistente e reduz erros de escopo.\n",
        "\n",
        "**Exemplo Comparativo (Python vs. Java): Soma de Números Pares**"
      ],
      "metadata": {
        "id": "w0VpdYUmRxT6"
      }
    },
    {
      "cell_type": "markdown",
      "source": [
        "- **Em Python** (simples e legível):"
      ],
      "metadata": {
        "id": "QIHkT0IndK5u"
      }
    },
    {
      "cell_type": "code",
      "source": [
        "numeros = [1, 2, 3, 4, 5, 6]\n",
        "soma = sum(n for n in numeros if n % 2 == 0)\n",
        "print(f\"Soma dos pares: {soma}\")"
      ],
      "metadata": {
        "colab": {
          "base_uri": "https://localhost:8080/"
        },
        "id": "-QQO-ZpbdTzK",
        "outputId": "82f9bfd4-7913-48a8-80ec-9e2a92fd08f7"
      },
      "execution_count": 1,
      "outputs": [
        {
          "output_type": "stream",
          "name": "stdout",
          "text": [
            "Soma dos pares: 12\n"
          ]
        }
      ]
    },
    {
      "cell_type": "markdown",
      "source": [
        "- **Em Java** (mais verboso):\n",
        "\n",
        "```\n",
        "import java.util.Arrays;\n",
        "public class SomaPares {\n",
        "    public static void main(String[] args) {\n",
        "        int[] numeros = {1, 2, 3, 4, 5, 6};\n",
        "        int soma = Arrays.stream(numeros).filter(n -> n % 2 == 0).sum();\n",
        "        System.out.println(\"Soma dos pares: \" + soma);  // Saída: 12\n",
        "    }\n",
        "}\n",
        "```"
      ],
      "metadata": {
        "id": "Kv8q1jORdESy"
      }
    },
    {
      "cell_type": "markdown",
      "source": [
        "**Análise Técnica:** Python usa geradores (n for n in ...) para eficiência em memória (O(1) espaço extra), enquanto Java requer streams (introduzidos no Java 8). Python é mais conciso, alinhando ao princípio \"Flat is better than nested"
      ],
      "metadata": {
        "id": "BRJY7yYZdrxI"
      }
    },
    {
      "cell_type": "markdown",
      "source": [
        "### **Variáveis e Tipagem Dinâmica**"
      ],
      "metadata": {
        "id": "0e4ySdkveDFO"
      }
    },
    {
      "cell_type": "markdown",
      "source": [
        "Em **Python**, variáveis não armazenam valores diretamente, mas funcionam como **referências a objetos em memória**. A linguagem adota **tipagem dinâmica**, em que o tipo é determinado em tempo de execução e sempre associado ao **objeto**, não ao identificador. Ao mesmo tempo, mantém **tipagem forte**, evitando conversões implícitas que comprometeriam a consistência. Esse modelo implica que múltiplas variáveis podem referenciar o mesmo objeto, e o comportamento dependerá da **mutabilidade** desse objeto:\n"
      ],
      "metadata": {
        "id": "GJ_sC8ULeREs"
      }
    },
    {
      "cell_type": "markdown",
      "source": [
        "#### **Exemplo com Objeto Imutável (int)**"
      ],
      "metadata": {
        "id": "CS5ePdUyXa8U"
      }
    },
    {
      "cell_type": "code",
      "source": [
        "x = 10        # x referencia um objeto do tipo int\n",
        "y = x\n",
        "x = x + 1     # cria um novo objeto int\n",
        "print(y)      # saída: 10 (y continua apontando para o antigo objeto)"
      ],
      "metadata": {
        "id": "uS9RPHX-Vz0C"
      },
      "execution_count": null,
      "outputs": []
    },
    {
      "cell_type": "markdown",
      "source": [
        "```\n",
        "x ──► 10\n",
        "y ──┘\n",
        "\n",
        "x = x + 1  → cria novo objeto\n",
        "\n",
        "x ──► 11\n",
        "y ──► 10\n",
        "```"
      ],
      "metadata": {
        "id": "iht56j43Vw5c"
      }
    },
    {
      "cell_type": "markdown",
      "source": [
        "#### **Exemplo com Objeto Mutável (list)**"
      ],
      "metadata": {
        "id": "HZ2-YyPDXTwV"
      }
    },
    {
      "cell_type": "code",
      "source": [
        "x = [10]      # x referencia uma lista\n",
        "y = x\n",
        "x.append(20)  # altera o objeto referenciado por x (e também por y)\n",
        "print(y)      # saída: [10, 20]"
      ],
      "metadata": {
        "id": "MdjPrOqJeVkT"
      },
      "execution_count": 2,
      "outputs": []
    },
    {
      "cell_type": "markdown",
      "source": [
        "```\n",
        "x ──► [10]\n",
        "y ──┘\n",
        "\n",
        "x.append(20)  → altera o mesmo objeto\n",
        "\n",
        "x ──► [10, 20]\n",
        "y ──┘\n",
        "```"
      ],
      "metadata": {
        "id": "0k2yUUltWDcB"
      }
    },
    {
      "cell_type": "markdown",
      "source": [
        "#### **Verifdicação de Tipo**"
      ],
      "metadata": {
        "id": "sz18uEEbepCq"
      }
    },
    {
      "cell_type": "markdown",
      "source": [
        "Para verificação de tipo, use `type(x)` ou `isinstance(x, int)`."
      ],
      "metadata": {
        "id": "tHcf4CQIXOVI"
      }
    },
    {
      "cell_type": "code",
      "source": [
        "type(x)"
      ],
      "metadata": {
        "colab": {
          "base_uri": "https://localhost:8080/"
        },
        "id": "iYoOtLIeXAyr",
        "outputId": "c5f042cb-4a97-4b75-9975-3e1cec1fa2a0"
      },
      "execution_count": 3,
      "outputs": [
        {
          "output_type": "execute_result",
          "data": {
            "text/plain": [
              "list"
            ]
          },
          "metadata": {},
          "execution_count": 3
        }
      ]
    },
    {
      "cell_type": "code",
      "source": [
        "isinstance(x, int)"
      ],
      "metadata": {
        "colab": {
          "base_uri": "https://localhost:8080/"
        },
        "id": "BbszGKYBXEAQ",
        "outputId": "ee6442c8-5045-4f9f-f6e0-19efa63fb665"
      },
      "execution_count": 4,
      "outputs": [
        {
          "output_type": "execute_result",
          "data": {
            "text/plain": [
              "False"
            ]
          },
          "metadata": {},
          "execution_count": 4
        }
      ]
    },
    {
      "cell_type": "markdown",
      "source": [
        "### **Tipos Simples ou Built-in Types**"
      ],
      "metadata": {
        "id": "FdY0hR0reuAP"
      }
    },
    {
      "cell_type": "markdown",
      "source": [
        "Python classifica tipos em mutáveis (modificáveis in-place) e imutáveis (novos objetos criados ao modificar).\n"
      ],
      "metadata": {
        "id": "TYq5kd1Zewa0"
      }
    },
    {
      "cell_type": "markdown",
      "source": [
        "| Categoria | Tipo   | Exemplo            | Mutável? | Descrição                                                                 |\n",
        "|-----------|--------|--------------------|----------|----------------------------------------------------------------------------|\n",
        "| Numérico  | int    | idade = 25         | Não      | Inteiros arbitrariamente grandes (bigints).                                |\n",
        "| Numérico  | float  | altura = 1.75      | Não      | Ponto flutuante (precisão dupla IEEE 754).                                 |\n",
        "| Texto     | str    | nome = \"Tiago\"     | Não      | Sequências Unicode; suporta slicing e métodos como `.upper()`.             |\n",
        "| Lógico    | bool   | ativo = True       | Não      | Subclasse de int (`True=1`, `False=0`).         "
      ],
      "metadata": {
        "id": "9JfGc7ZsYMKz"
      }
    },
    {
      "cell_type": "markdown",
      "source": [
        "> **Dica:** Use `dir(obj)` para listar métodos de um objeto, e `help(obj)` para documentação."
      ],
      "metadata": {
        "id": "W0-LwbcWYPhm"
      }
    },
    {
      "cell_type": "markdown",
      "source": [
        "### **Operadores**"
      ],
      "metadata": {
        "id": "HItp0-WvgCOv"
      }
    },
    {
      "cell_type": "markdown",
      "source": [
        "Python oferece diferentes categorias de operadores que permitem manipular dados e expressões lógicas:"
      ],
      "metadata": {
        "id": "aleiqVdKgExS"
      }
    },
    {
      "cell_type": "markdown",
      "source": [
        "- **Operadores Aritméticos**"
      ],
      "metadata": {
        "id": "57lpe4aUgRwa"
      }
    },
    {
      "cell_type": "markdown",
      "source": [
        "| Operador | Operação                  | Exemplo        |\n",
        "|----------|---------------------------|----------------|\n",
        "| `+`      | Adição                    | `2 + 3 = 5`    |\n",
        "| `-`      | Subtração                 | `5 - 2 = 3`    |\n",
        "| `*`      | Multiplicação             | `4 * 2 = 8`    |\n",
        "| `/`      | Divisão (resultado float) | `5 / 2 = 2.5`  |\n",
        "| `//`     | Divisão inteira           | `5 // 2 = 2`   |\n",
        "| `%`      | Módulo (resto da divisão) | `5 % 2 = 1`    |\n",
        "| `**`     | Exponenciação             | `2 ** 3 = 8`   |\n"
      ],
      "metadata": {
        "id": "Yu-eBrE4gQi1"
      }
    },
    {
      "cell_type": "markdown",
      "source": [
        "- **Operadores de Comparação**"
      ],
      "metadata": {
        "id": "LHOKfNPygW-U"
      }
    },
    {
      "cell_type": "markdown",
      "source": [
        "| Operador | Operação        | Exemplo        |\n",
        "|----------|----------------|----------------|\n",
        "| `==`     | Igualdade       | `3 == 3 → True` |\n",
        "| `!=`     | Diferente       | `3 != 4 → True` |\n",
        "| `>`      | Maior que       | `5 > 2 → True`  |\n",
        "| `<`      | Menor que       | `2 < 5 → True`  |\n",
        "| `>=`     | Maior ou igual  | `5 >= 5 → True` |\n",
        "| `<=`     | Menor ou igual  | `3 <= 4 → True` |\n"
      ],
      "metadata": {
        "id": "AINq8c_igajw"
      }
    },
    {
      "cell_type": "markdown",
      "source": [
        "- **Operadores Lógicos**"
      ],
      "metadata": {
        "id": "weaJHmACggJj"
      }
    },
    {
      "cell_type": "markdown",
      "source": [
        "| Operador | Operação                  | Exemplo             |\n",
        "|----------|---------------------------|--------------------|\n",
        "| `and`    | E lógico (tudo True?)     | `True and False → False` |\n",
        "| `or`     | OU lógico (algum True?)   | `True or False → True`   |\n",
        "| `not`    | Negação lógica            | `not True → False`       |"
      ],
      "metadata": {
        "id": "jhRDbJX1gjiH"
      }
    },
    {
      "cell_type": "markdown",
      "source": [
        "**Exercício:**"
      ],
      "metadata": {
        "id": "3JwDOEVfY-fw"
      }
    },
    {
      "cell_type": "markdown",
      "source": [
        "Calcule 2 * 3 ** 2 ** 2 % 5"
      ],
      "metadata": {
        "id": "NnD6EXguZEkH"
      }
    },
    {
      "cell_type": "code",
      "source": [],
      "metadata": {
        "id": "zG6CM8iAahru"
      },
      "execution_count": null,
      "outputs": []
    },
    {
      "cell_type": "markdown",
      "source": [
        "#### **Precedência de Operadores**"
      ],
      "metadata": {
        "id": "2sNojvSziNVQ"
      }
    },
    {
      "cell_type": "markdown",
      "source": [
        "A ordem de avaliação de operadores (precedência) define como expressões complexas são calculadas. Operadores com maior precedência são avaliados primeiro. É essencial para evitar erros, especialmente em programas que combinam aritmética, comparações e lógica."
      ],
      "metadata": {
        "id": "TWq6wlwUiSyQ"
      }
    },
    {
      "cell_type": "markdown",
      "source": [
        "**Tabela de Precedência (do mais alto para o mais baixo)**"
      ],
      "metadata": {
        "id": "1VTPAVdcilua"
      }
    },
    {
      "cell_type": "markdown",
      "source": [
        "| Nível | Operador(s)                        | Descrição                                           |\n",
        "|-------|-----------------------------------|---------------------------------------------------|\n",
        "| 1     | `()`                               | Parênteses — força a avaliação dentro deles primeiro |\n",
        "| 2     | `**`                               | Exponenciação (direita para esquerda)            |\n",
        "| 3     | `+x, -x, ~x`                       | Operadores unários (positivo, negativo, complemento bit a bit) |\n",
        "| 4     | `*, /, //, %`                      | Multiplicação, divisão, divisão inteira, módulo  |\n",
        "| 5     | `+, -`                             | Adição e subtração                                |\n",
        "| 6     | `<<, >>`                           | Deslocamento de bits à esquerda e à direita      |\n",
        "| 7     | `&`                                | E bit a bit                                       |\n",
        "| 8     | `^`                                | OU exclusivo bit a bit                            |\n",
        "| 9     | ```                                | Operador de identidade/bitwise/intern? (ver nota)|\n",
        "| 10    | Comparações `==, !=, >, >=, <, <=` | Operadores de comparação                          |\n",
        "| 11    | `not`                              | Negação lógica                                    |\n",
        "| 12    | `and`                              | E lógico                                         |\n",
        "| 13    | `or`                               | OU lógico                                        |\n",
        "| 14    | `lambda`                            | Expressão lambda                                 |\n"
      ],
      "metadata": {
        "id": "fVU9m5o0ihph"
      }
    },
    {
      "cell_type": "markdown",
      "source": [
        "**Exemplos**"
      ],
      "metadata": {
        "id": "PU400Otbi3AP"
      }
    },
    {
      "cell_type": "markdown",
      "source": [
        "**Exemplo 1:** Combinação de aritmética e comparação"
      ],
      "metadata": {
        "id": "NuJvDVIhi5Sf"
      }
    },
    {
      "cell_type": "code",
      "source": [
        "a = 5\n",
        "b = 10\n",
        "c = 3\n",
        "\n",
        "resultado = a + b > c * 2\n",
        "# Avaliação:\n",
        "# 1. Multiplicação: c * 2 → 6\n",
        "# 2. Adição: a + b → 15\n",
        "# 3. Comparação: 15 > 6 → True\n",
        "print(resultado)  # True"
      ],
      "metadata": {
        "colab": {
          "base_uri": "https://localhost:8080/"
        },
        "id": "3KwExY5yi7G4",
        "outputId": "ceadebd8-6507-4ca4-d606-f2c53d445e4e"
      },
      "execution_count": 8,
      "outputs": [
        {
          "output_type": "stream",
          "name": "stdout",
          "text": [
            "True\n"
          ]
        }
      ]
    },
    {
      "cell_type": "markdown",
      "source": [
        "**Exemplo 2:** Operadores lógicos"
      ],
      "metadata": {
        "id": "rQD9nSL0i9Wk"
      }
    },
    {
      "cell_type": "code",
      "source": [
        "x = True\n",
        "y = False\n",
        "z = True\n",
        "\n",
        "resultado = x and not y or z\n",
        "# Avaliação:\n",
        "# 1. not y → True\n",
        "# 2. x and True → True\n",
        "# 3. True or z → True\n",
        "print(resultado)  # True"
      ],
      "metadata": {
        "colab": {
          "base_uri": "https://localhost:8080/"
        },
        "id": "YVrrArszi_UT",
        "outputId": "8281e83d-67b3-42b2-d34b-8bdd650cfc66"
      },
      "execution_count": 9,
      "outputs": [
        {
          "output_type": "stream",
          "name": "stdout",
          "text": [
            "True\n"
          ]
        }
      ]
    },
    {
      "cell_type": "markdown",
      "source": [
        "## **Mutabilidade e Estruturas de Dados**"
      ],
      "metadata": {
        "id": "gfgokcOgftvz"
      }
    },
    {
      "cell_type": "markdown",
      "source": [
        "### **Mutáveis vs. Imutáveis**"
      ],
      "metadata": {
        "id": "FCEKj1E6f77A"
      }
    },
    {
      "cell_type": "markdown",
      "source": [
        "Em Python, mutabilidade define se um objeto pode ser alterado após sua criação:"
      ],
      "metadata": {
        "id": "3iyBbIUpgBgV"
      }
    },
    {
      "cell_type": "markdown",
      "source": [
        "| Tipo             | Mutável?      | Características                                                                 |\n",
        "|-----------------|---------------|-------------------------------------------------------------------------------|\n",
        "| int, float, str, tuple | Imutável | Toda “modificação” cria um novo objeto na memória. |\n",
        "| list, dict, set        | Mutável  | Alterações podem ser feitas in-place. |\n"
      ],
      "metadata": {
        "id": "V17mATVvgN1Z"
      }
    },
    {
      "cell_type": "markdown",
      "source": [
        "Em Python, **objetos mutáveis** como `list`, `dict` e `set` são passados por referência e podem ser modificados in-place, de modo que alterações em funções ou threads afetam o objeto original, causando efeitos colaterais. Para evitar isso, crie **cópias** (`.copy()` ou `copy.deepcopy()`) quando precisar preservar o estado original, ou prefira **objetos imutáveis** (`tuple`, `frozenset`, `str`)."
      ],
      "metadata": {
        "id": "5hYwX1cQggRw"
      }
    },
    {
      "cell_type": "markdown",
      "source": [
        "**Exemplo prático:**"
      ],
      "metadata": {
        "id": "xQ45uFiLiRlU"
      }
    },
    {
      "cell_type": "code",
      "source": [
        "def adicionar_item(lista, item):\n",
        "    lista.append(item)  # altera a lista original\n",
        "\n",
        "minha_lista = [1, 2, 3]\n",
        "adicionar_item(minha_lista, 4)\n",
        "print(minha_lista)  # Saída: [1, 2, 3, 4]"
      ],
      "metadata": {
        "colab": {
          "base_uri": "https://localhost:8080/"
        },
        "id": "ZturmANQhnL7",
        "outputId": "bb4ce2ac-e17e-486b-80a9-c900bef9237e"
      },
      "execution_count": 21,
      "outputs": [
        {
          "output_type": "stream",
          "name": "stdout",
          "text": [
            "[1, 2, 3, 4]\n"
          ]
        }
      ]
    },
    {
      "cell_type": "code",
      "source": [
        "# Para evitar efeito colateral:\n",
        "def adicionar_item_seguro(lista, item):\n",
        "    nova_lista = lista.copy()\n",
        "    nova_lista.append(item)\n",
        "    return nova_lista\n",
        "\n",
        "minha_lista = [1, 2, 3]\n",
        "nova_lista = adicionar_item_seguro(minha_lista, 4)\n",
        "print(minha_lista)  # [1, 2, 3]\n",
        "print(nova_lista)   # [1, 2, 3, 4]"
      ],
      "metadata": {
        "colab": {
          "base_uri": "https://localhost:8080/"
        },
        "id": "KRoIzHjxh0SN",
        "outputId": "551a02e7-39a9-4c3d-c249-4948fdd7983a"
      },
      "execution_count": 22,
      "outputs": [
        {
          "output_type": "stream",
          "name": "stdout",
          "text": [
            "[1, 2, 3]\n",
            "[1, 2, 3, 4]\n"
          ]
        }
      ]
    },
    {
      "cell_type": "markdown",
      "source": [
        "### **Estruturas de Dados**"
      ],
      "metadata": {
        "id": "QeGEHG5KiW1a"
      }
    },
    {
      "cell_type": "markdown",
      "source": [
        "Python oferece diversas estruturas de dados integradas, cada uma com características e usos específicos."
      ],
      "metadata": {
        "id": "mHsklFXpibo1"
      }
    },
    {
      "cell_type": "markdown",
      "source": [
        "### **Listas (`list`)**"
      ],
      "metadata": {
        "id": "9FnIiLrpiehQ"
      }
    },
    {
      "cell_type": "markdown",
      "source": [
        "- **Características:**\n",
        "  - Mutáveis (podem ser alteradas após a criação).\n",
        "  - Ordenadas (mantêm a sequência dos elementos inseridos).\n",
        "  - Permitem duplicatas.\n",
        "\n",
        "- **Complexidade:**\n",
        " - Acesso por índice: $O(1)$\n",
        " - Inserção/remoção no fim: $O(1)$ amortizado\n",
        " - Inserção/remoção em posição arbitrária: $O(n)$\n",
        "\n",
        "- **Exemplo:**"
      ],
      "metadata": {
        "id": "lvPIgZk5ih-D"
      }
    },
    {
      "cell_type": "code",
      "source": [
        "lista = [1, 2, 3]\n",
        "lista.append(4)  # [1, 2, 3, 4]\n",
        "lista[0] = 10    # [10, 2, 3, 4]"
      ],
      "metadata": {
        "id": "np328-_9ilpR"
      },
      "execution_count": null,
      "outputs": []
    },
    {
      "cell_type": "markdown",
      "source": [
        "### **Tuplas (`tuple`)**"
      ],
      "metadata": {
        "id": "K6P8qRlykAJA"
      }
    },
    {
      "cell_type": "markdown",
      "source": [
        "- **Características:**\n",
        "  - Imutáveis (não podem ser alteradas após a criação).\n",
        "  - Ordenadas.\n",
        "  - Hashable, ou seja, podem ser usadas como chaves em dicionários ou elementos de conjuntos.\n",
        "\n",
        "- **Complexidade:**\n",
        " - Acesso por índice: $O(1)$\n",
        "\n",
        "- **Exemplo:**"
      ],
      "metadata": {
        "id": "bpS_TL8HkK3_"
      }
    },
    {
      "cell_type": "code",
      "source": [
        "ponto = (10, 20)\n",
        "coordenadas = {(0,0): \"origem\", (10,20): \"destino\"}\n",
        "print(coordenadas[ponto])  # \"destino\""
      ],
      "metadata": {
        "colab": {
          "base_uri": "https://localhost:8080/"
        },
        "id": "wnfuuV9wkXOj",
        "outputId": "a42c6bfc-d822-40e0-b752-bd3794c05ebf"
      },
      "execution_count": 23,
      "outputs": [
        {
          "output_type": "stream",
          "name": "stdout",
          "text": [
            "destino\n"
          ]
        }
      ]
    },
    {
      "cell_type": "markdown",
      "source": [
        "### **Dicionários (`dict`)**"
      ],
      "metadata": {
        "id": "pPzQcgFakec5"
      }
    },
    {
      "cell_type": "markdown",
      "source": [
        "- **Características:**\n",
        "  - Mutáveis.\n",
        "  - Baseados em **tabelas hash**.\n",
        "  - Associação de **chave → valor** (únicas chaves).\n",
        "\n",
        "- **Complexidade:**\n",
        " - Inserção, remoção e acesso por chave: $O(1)$\n",
        "\n",
        "- **Exemplo:**"
      ],
      "metadata": {
        "id": "ZIIoD8tVkjlI"
      }
    },
    {
      "cell_type": "code",
      "source": [
        "aluno = {\"nome\": \"Ana\", \"idade\": 21}\n",
        "aluno[\"curso\"] = \"Engenharia\"\n",
        "print(aluno[\"nome\"])  # Ana"
      ],
      "metadata": {
        "id": "Gwrbrw6aklsh"
      },
      "execution_count": null,
      "outputs": []
    },
    {
      "cell_type": "markdown",
      "source": [
        "### **Conjuntos (`set`)**"
      ],
      "metadata": {
        "id": "2YZDfPzJk_0-"
      }
    },
    {
      "cell_type": "markdown",
      "source": [
        "- **Características:**\n",
        "  - Mutáveis.\n",
        "  - Elementos únicos (não permite duplicatas)\n",
        "  - Não-ordenados (a ordem não é garantida)\n",
        "  - Implementados com **tabelas hash**.\n",
        "\n",
        "- **Complexidade:**\n",
        " - Teste de pertinência (`in`): $O(1)$\n",
        "\n",
        "- **Exemplo:**"
      ],
      "metadata": {
        "id": "mvtZhiQzlDhl"
      }
    },
    {
      "cell_type": "code",
      "source": [
        "linguagens = {\"Python\", \"Java\", \"C\"}\n",
        "linguagens.add(\"Rust\")\n",
        "print(\"Python\" in linguagens)  # True"
      ],
      "metadata": {
        "id": "Ua5RQl3vlFP3"
      },
      "execution_count": null,
      "outputs": []
    },
    {
      "cell_type": "markdown",
      "source": [
        "### **Comprehensions**"
      ],
      "metadata": {
        "id": "O2M_glBhlg5B"
      }
    },
    {
      "cell_type": "markdown",
      "source": [
        "Python permite criar coleções de forma concisa e eficiente com comprehensions."
      ],
      "metadata": {
        "id": "g3NspB0QlkC1"
      }
    },
    {
      "cell_type": "markdown",
      "source": [
        "- **List Comprehension:**"
      ],
      "metadata": {
        "id": "BZAIS5xDll49"
      }
    },
    {
      "cell_type": "code",
      "source": [
        "quadrados_pares = [x**2 for x in range(6) if x % 2 == 0]\n",
        "print(quadrados_pares)  # [0, 4, 16, 36]"
      ],
      "metadata": {
        "id": "SddoNXcklnl9"
      },
      "execution_count": null,
      "outputs": []
    },
    {
      "cell_type": "markdown",
      "source": [
        "- **Set Comprehension:**"
      ],
      "metadata": {
        "id": "1Q9Bn93JlpZJ"
      }
    },
    {
      "cell_type": "code",
      "source": [
        "unicos = {x % 3 for x in range(10)}\n",
        "print(unicos)  # {0, 1, 2}"
      ],
      "metadata": {
        "id": "1DvtHMYNlryj"
      },
      "execution_count": null,
      "outputs": []
    },
    {
      "cell_type": "markdown",
      "source": [
        "- **Dict Comprehension:**"
      ],
      "metadata": {
        "id": "Ar5uRO8-ltYg"
      }
    },
    {
      "cell_type": "code",
      "source": [
        "dicionario = {x: x**2 for x in range(5)}\n",
        "print(dicionario)  # {0:0, 1:1, 2:4, 3:9, 4:16}"
      ],
      "metadata": {
        "id": "bpA9BYP6lw5w"
      },
      "execution_count": null,
      "outputs": []
    },
    {
      "cell_type": "markdown",
      "source": [
        "> Nota: não existe \"tuple comprehension\" em Python do mesmo jeito que temos list, set e dict comprehensions."
      ],
      "metadata": {
        "id": "H361aqn-l4vz"
      }
    },
    {
      "cell_type": "markdown",
      "source": [
        "## **Estruturas de Controle de Fluxo**"
      ],
      "metadata": {
        "id": "fMETf9fskc7F"
      }
    },
    {
      "cell_type": "markdown",
      "source": [
        "### **Condicionais**"
      ],
      "metadata": {
        "id": "HNbc05n-koZj"
      }
    },
    {
      "cell_type": "markdown",
      "source": [
        "Decisões baseadas em booleanos. Python avalia \"truthy\" (não-zero, não-vazio) vs. \"falsy\" (0, None, vazio).\n",
        "\n"
      ],
      "metadata": {
        "id": "ku41PMCzkq6I"
      }
    },
    {
      "cell_type": "markdown",
      "source": [
        "**Estruturas básicas:**\n",
        "\n",
        " - `if`: executa um bloco se a condição for verdadeira.\n",
        " - `elif` (`else if`): verifica outra condição caso a anterior seja falsa.\n",
        " - `else`: executa um bloco caso nenhuma condição anterior seja verdadeira."
      ],
      "metadata": {
        "id": "HpJoBbCEbPDZ"
      }
    },
    {
      "cell_type": "markdown",
      "source": [
        "**Exemplo**"
      ],
      "metadata": {
        "id": "WzIecm05bQXw"
      }
    },
    {
      "cell_type": "code",
      "source": [
        "idade = 20\n",
        "\n",
        "if idade < 18:\n",
        "    print(\"Menor de idade\")\n",
        "elif idade < 65:\n",
        "    print(\"Adulto\")\n",
        "else:\n",
        "    print(\"Idoso\")"
      ],
      "metadata": {
        "colab": {
          "base_uri": "https://localhost:8080/"
        },
        "id": "ZezXZ1zrlIrI",
        "outputId": "fea45ea6-b3a4-462b-dc63-3765cac14b95"
      },
      "execution_count": 13,
      "outputs": [
        {
          "output_type": "stream",
          "name": "stdout",
          "text": [
            "Adulto\n"
          ]
        }
      ]
    },
    {
      "cell_type": "markdown",
      "source": [
        "> **Boa prática:** Use condições claras e evite blocos muito longos para manter legibilidade."
      ],
      "metadata": {
        "id": "RewWhuHtlNA4"
      }
    },
    {
      "cell_type": "markdown",
      "source": [
        "### **Laços de Repetição (Loops)**"
      ],
      "metadata": {
        "id": "0jJoVFDplSn1"
      }
    },
    {
      "cell_type": "markdown",
      "source": [
        "Permitem **executar um bloco de código múltiplas veze**s."
      ],
      "metadata": {
        "id": "P3dzJnETlbmd"
      }
    },
    {
      "cell_type": "markdown",
      "source": [
        "- **Laço** `for` **(Iteração Determinística):**"
      ],
      "metadata": {
        "id": "X1lT6QSnliYM"
      }
    },
    {
      "cell_type": "markdown",
      "source": [
        "Ideal para sequências conhecidas. Suporta `else` (executa se não houver `break`)."
      ],
      "metadata": {
        "id": "6RKaYFD4lt7z"
      }
    },
    {
      "cell_type": "code",
      "source": [
        "nomes = [\"Alice\", \"Bob\", \"Carlos\"]\n",
        "\n",
        "for nome in nomes:\n",
        "    print(f\"Olá, {nome}!\")\n",
        "else:\n",
        "  print(\"Loop completado sem interrupções!\")"
      ],
      "metadata": {
        "colab": {
          "base_uri": "https://localhost:8080/"
        },
        "id": "WfzNbR8plxSB",
        "outputId": "f0b67b53-9302-483f-8d16-8eab1acf37f8"
      },
      "execution_count": 14,
      "outputs": [
        {
          "output_type": "stream",
          "name": "stdout",
          "text": [
            "Olá, Alice!\n",
            "Olá, Bob!\n",
            "Olá, Carlos!\n",
            "Loop completado sem interrupções!\n"
          ]
        }
      ]
    },
    {
      "cell_type": "markdown",
      "source": [
        "**Prática:** Escreva um loop for que imprima números pares de 0 a 10."
      ],
      "metadata": {
        "id": "5-rCY6cToke_"
      }
    },
    {
      "cell_type": "code",
      "source": [],
      "metadata": {
        "id": "0jSspO8Voxa-"
      },
      "execution_count": 11,
      "outputs": []
    },
    {
      "cell_type": "markdown",
      "source": [
        "- **Laço** `while` **(Iteração Indeterminística):**"
      ],
      "metadata": {
        "id": "khgdc051l7J0"
      }
    },
    {
      "cell_type": "markdown",
      "source": [
        "Repete o bloco **enquanto uma condição for verdadeira**. Cuidado com loops infinitos — sempre atualize a condição."
      ],
      "metadata": {
        "id": "hxlyNPHTmAji"
      }
    },
    {
      "cell_type": "code",
      "source": [
        "contador = 0\n",
        "while contador < 5:\n",
        "    print(f\"Contador = {contador}\")\n",
        "    contador += 1"
      ],
      "metadata": {
        "colab": {
          "base_uri": "https://localhost:8080/"
        },
        "id": "jOAZHUKSmGwP",
        "outputId": "065f7486-c98a-4309-8ef7-582ab6a750b2"
      },
      "execution_count": 12,
      "outputs": [
        {
          "output_type": "stream",
          "name": "stdout",
          "text": [
            "Contador = 0\n",
            "Contador = 1\n",
            "Contador = 2\n",
            "Contador = 3\n",
            "Contador = 4\n"
          ]
        }
      ]
    },
    {
      "cell_type": "markdown",
      "source": [
        "**Prática:** Use while para somar números até que a soma exceda 20."
      ],
      "metadata": {
        "id": "AhlF2l1Wo3jj"
      }
    },
    {
      "cell_type": "code",
      "source": [],
      "metadata": {
        "id": "3uoUf7UDo9js"
      },
      "execution_count": 12,
      "outputs": []
    },
    {
      "cell_type": "markdown",
      "source": [
        "### **Controle de Laços**"
      ],
      "metadata": {
        "id": "N3OqqmBmmX-y"
      }
    },
    {
      "cell_type": "markdown",
      "source": [
        "- `break`:"
      ],
      "metadata": {
        "id": "ojuogyJmmgB2"
      }
    },
    {
      "cell_type": "markdown",
      "source": [
        "Encerra o laço **imediatamente**, mesmo que a condição ainda seja verdadeira."
      ],
      "metadata": {
        "id": "3gnLMDa9mlFa"
      }
    },
    {
      "cell_type": "code",
      "source": [
        "for i in range(10):\n",
        "    if i == 5:\n",
        "        break\n",
        "    print(i)\n",
        "else:\n",
        "  print(\"Loop completado sem interrupções!\")"
      ],
      "metadata": {
        "colab": {
          "base_uri": "https://localhost:8080/"
        },
        "id": "WiDzlsJmmpD2",
        "outputId": "74742a9c-2a1e-4832-9aaf-c735d8c4bf8f"
      },
      "execution_count": 15,
      "outputs": [
        {
          "output_type": "stream",
          "name": "stdout",
          "text": [
            "0\n",
            "1\n",
            "2\n",
            "3\n",
            "4\n"
          ]
        }
      ]
    },
    {
      "cell_type": "markdown",
      "source": [
        "- `continue`:"
      ],
      "metadata": {
        "id": "6RWB6WVNmrhd"
      }
    },
    {
      "cell_type": "markdown",
      "source": [
        "**Pula a iteração atual** e continua para a próxima."
      ],
      "metadata": {
        "id": "plQ0iqFWmvoz"
      }
    },
    {
      "cell_type": "code",
      "source": [
        "for i in range(5):\n",
        "  if i == 2:\n",
        "    continue\n",
        "  print(i)\n",
        "else:\n",
        "  print(\"Loop completado sem interrupções!\")"
      ],
      "metadata": {
        "colab": {
          "base_uri": "https://localhost:8080/"
        },
        "id": "_B_zSo9_m1Jj",
        "outputId": "fa8382a6-4a14-42f3-eb96-f938622bc8c1"
      },
      "execution_count": 16,
      "outputs": [
        {
          "output_type": "stream",
          "name": "stdout",
          "text": [
            "0\n",
            "1\n",
            "3\n",
            "4\n",
            "Loop completado sem interrupções!\n"
          ]
        }
      ]
    },
    {
      "cell_type": "markdown",
      "source": [
        "## **Funções**"
      ],
      "metadata": {
        "id": "cbWlSdYFnF8F"
      }
    },
    {
      "cell_type": "markdown",
      "source": [
        "São objetos de primeira classe: podem ser passadas, retornadas ou atribuídas."
      ],
      "metadata": {
        "id": "tQO-hrVAdsW-"
      }
    },
    {
      "cell_type": "markdown",
      "source": [
        "### **Definição, Parâmetros e return**"
      ],
      "metadata": {
        "id": "1YntL9ZtpRtD"
      }
    },
    {
      "cell_type": "markdown",
      "source": [
        "Funções são blocos de código reutilizáveis, que encapsulam lógica e permitem executar tarefas específicas várias vezes sem repetir código."
      ],
      "metadata": {
        "id": "-dNkWHhBpOkL"
      }
    },
    {
      "cell_type": "code",
      "source": [
        "def soma(a: int, b: int) -> int:  # Anotações de tipo (opcional, mas técnico!)\n",
        "  return a + b\n",
        "\n",
        "soma(5, 3)"
      ],
      "metadata": {
        "colab": {
          "base_uri": "https://localhost:8080/"
        },
        "id": "9gXbFkDxpetm",
        "outputId": "5754c292-cc3e-4cd9-f4c6-ba8f76463284"
      },
      "execution_count": 19,
      "outputs": [
        {
          "output_type": "execute_result",
          "data": {
            "text/plain": [
              "8"
            ]
          },
          "metadata": {},
          "execution_count": 19
        }
      ]
    },
    {
      "cell_type": "markdown",
      "source": [
        "### **Parâmetros com Valor Padrão**"
      ],
      "metadata": {
        "id": "jWM7VHZHjgH_"
      }
    },
    {
      "cell_type": "markdown",
      "source": [
        "Permitem chamar a função sem informar todos os argumentos."
      ],
      "metadata": {
        "id": "RJpoLlRIjjvM"
      }
    },
    {
      "cell_type": "code",
      "source": [
        "def saudacao(nome=\"Usuário\"):\n",
        "    return f\"Olá, {nome}!\"\n",
        "print(saudacao())        # Olá, Usuário!\n",
        "print(saudacao(\"Ana\"))   # Olá, Ana!"
      ],
      "metadata": {
        "colab": {
          "base_uri": "https://localhost:8080/"
        },
        "id": "S3BPrqwxjkT5",
        "outputId": "e3c6eb6f-3ae2-45f9-b91d-a38c0bed5ae3"
      },
      "execution_count": 16,
      "outputs": [
        {
          "output_type": "stream",
          "name": "stdout",
          "text": [
            "Olá, Usuário!\n",
            "Olá, Ana!\n"
          ]
        }
      ]
    },
    {
      "cell_type": "markdown",
      "source": [
        "### `*args` **(tupla de argumentos posicionais)**"
      ],
      "metadata": {
        "id": "5I7Ejtwhjm26"
      }
    },
    {
      "cell_type": "markdown",
      "source": [
        "Permite passar quantidade variável de argumentos posicionais."
      ],
      "metadata": {
        "id": "RCHABqscjxxB"
      }
    },
    {
      "cell_type": "code",
      "source": [
        "def soma(*args):\n",
        "    total = 0\n",
        "    for n in args:\n",
        "        total += n\n",
        "    return total\n",
        "print(soma(1,2,3))  # 6"
      ],
      "metadata": {
        "colab": {
          "base_uri": "https://localhost:8080/"
        },
        "id": "lYOFWy6hjz1j",
        "outputId": "35e80320-2a6c-45e9-de01-1b7d7adbc680"
      },
      "execution_count": 17,
      "outputs": [
        {
          "output_type": "stream",
          "name": "stdout",
          "text": [
            "6\n"
          ]
        }
      ]
    },
    {
      "cell_type": "markdown",
      "source": [
        "### `**kwargs` **(dicionário de argumentos nomeados)**"
      ],
      "metadata": {
        "id": "jj0I_x1sj6_U"
      }
    },
    {
      "cell_type": "markdown",
      "source": [
        "Permite passar quantidade variável de argumentos nomeados."
      ],
      "metadata": {
        "id": "I9uJ6WRokvtC"
      }
    },
    {
      "cell_type": "code",
      "source": [
        "def exibir_info(**kwargs):\n",
        "    for key, value in kwargs.items():\n",
        "        print(f\"{key}: {value}\")\n",
        "exibir_info(nome=\"Maria\", idade=25)"
      ],
      "metadata": {
        "colab": {
          "base_uri": "https://localhost:8080/"
        },
        "id": "OXhDRlzukwTA",
        "outputId": "a30607c1-ebac-4b0f-bf44-da8762d21f54"
      },
      "execution_count": 18,
      "outputs": [
        {
          "output_type": "stream",
          "name": "stdout",
          "text": [
            "nome: Maria\n",
            "idade: 25\n"
          ]
        }
      ]
    },
    {
      "cell_type": "markdown",
      "source": [
        "### **Funções Lambda e de Ordem Superior**"
      ],
      "metadata": {
        "id": "ZXKuDCU5lCCP"
      }
    },
    {
      "cell_type": "markdown",
      "source": [
        "#### **Lambda: Funções Anônimas e Curtas**"
      ],
      "metadata": {
        "id": "-U-v-B0LlJCf"
      }
    },
    {
      "cell_type": "markdown",
      "source": [
        "- Sintaxe: lambda parâmetros: expressão\n",
        "- Usadas quando a função é simples e não precisa de nome."
      ],
      "metadata": {
        "id": "nDDS3ru2lNtl"
      }
    },
    {
      "cell_type": "code",
      "source": [
        "dobro = lambda x: x * 2\n",
        "print(dobro(5))  # 10"
      ],
      "metadata": {
        "colab": {
          "base_uri": "https://localhost:8080/"
        },
        "id": "5Y4OUlyflS-Z",
        "outputId": "cb6694ac-9f87-4b45-9124-3fc2f320dcb8"
      },
      "execution_count": 19,
      "outputs": [
        {
          "output_type": "stream",
          "name": "stdout",
          "text": [
            "10\n"
          ]
        }
      ]
    },
    {
      "cell_type": "markdown",
      "source": [
        "#### **Funções de Ordem Superior**"
      ],
      "metadata": {
        "id": "PhGvSltZlZAE"
      }
    },
    {
      "cell_type": "markdown",
      "source": [
        "Funções que recebem outras funções como argumento ou retornam uma função."
      ],
      "metadata": {
        "id": "d3g7uEOVlis3"
      }
    },
    {
      "cell_type": "markdown",
      "source": [
        "1. `map` **– aplica função a cada item de uma sequência**"
      ],
      "metadata": {
        "id": "vLSjmyX7lnLK"
      }
    },
    {
      "cell_type": "code",
      "source": [
        "nums = [1, 2, 3]\n",
        "quadrados = list(map(lambda x: x**2, nums))\n",
        "print(quadrados)  # [1, 4, 9]"
      ],
      "metadata": {
        "colab": {
          "base_uri": "https://localhost:8080/"
        },
        "id": "eNf0RZm-lqME",
        "outputId": "274aca02-400d-483e-ec12-7a2d692db683"
      },
      "execution_count": 20,
      "outputs": [
        {
          "output_type": "stream",
          "name": "stdout",
          "text": [
            "[1, 4, 9]\n"
          ]
        }
      ]
    },
    {
      "cell_type": "markdown",
      "source": [
        "2. `filter` **– filtra itens de uma sequência**"
      ],
      "metadata": {
        "id": "owBGt9talsDI"
      }
    },
    {
      "cell_type": "code",
      "source": [
        "pares = list(filter(lambda x: x % 2 == 0, nums))\n",
        "print(pares)  # [2]"
      ],
      "metadata": {
        "colab": {
          "base_uri": "https://localhost:8080/"
        },
        "id": "Tq2CYtzFl0Iq",
        "outputId": "c24e9462-774b-4419-b3a8-b58c90c89952"
      },
      "execution_count": 21,
      "outputs": [
        {
          "output_type": "stream",
          "name": "stdout",
          "text": [
            "[2]\n"
          ]
        }
      ]
    },
    {
      "cell_type": "markdown",
      "source": [
        "3. `reduce` **– reduz a sequência a um único valor**"
      ],
      "metadata": {
        "id": "HHQWCAcVl22O"
      }
    },
    {
      "cell_type": "code",
      "source": [
        "from functools import reduce\n",
        "soma_total = reduce(lambda x, y: x + y, nums)\n",
        "print(soma_total)  # 6"
      ],
      "metadata": {
        "colab": {
          "base_uri": "https://localhost:8080/"
        },
        "id": "-Q5U0EuYl6qt",
        "outputId": "9ecb103d-e946-4ef4-cd9a-d625fa74934d"
      },
      "execution_count": 22,
      "outputs": [
        {
          "output_type": "stream",
          "name": "stdout",
          "text": [
            "6\n"
          ]
        }
      ]
    },
    {
      "cell_type": "markdown",
      "source": [
        "### **Escopo de Variáveis (LEGB, global, nonlocal)**"
      ],
      "metadata": {
        "id": "ugWXvZwBoJP0"
      }
    }
  ]
}