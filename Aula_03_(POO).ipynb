{
  "nbformat": 4,
  "nbformat_minor": 0,
  "metadata": {
    "colab": {
      "provenance": [],
      "authorship_tag": "ABX9TyN/3VXaw/RoYJ1stJyh1XHe",
      "include_colab_link": true
    },
    "kernelspec": {
      "name": "python3",
      "display_name": "Python 3"
    },
    "language_info": {
      "name": "python"
    }
  },
  "cells": [
    {
      "cell_type": "markdown",
      "metadata": {
        "id": "view-in-github",
        "colab_type": "text"
      },
      "source": [
        "<a href=\"https://colab.research.google.com/github/tiagopessoalima/POO/blob/main/Aula_03_(POO).ipynb\" target=\"_parent\"><img src=\"https://colab.research.google.com/assets/colab-badge.svg\" alt=\"Open In Colab\"/></a>"
      ]
    },
    {
      "cell_type": "markdown",
      "source": [
        "# **Classes e Objetos**"
      ],
      "metadata": {
        "id": "xXXJq_oN0Vay"
      }
    },
    {
      "cell_type": "markdown",
      "source": [
        "Essa etapa não constitui apenas uma introdução, mas uma estrutura conceitual para entender como a linguagem organiza dados (atributos), comportamentos (métodos) e estado (instâncias) em um mesmo bloco lógico. Sem essa compreensão, o uso de recursos como herança, polimorfismo e composição pode gerar inconsistências lógicas e dificultar a manutenção do código.\n",
        "\n",
        "**Objetivo da Semana:** Explorar o paradigma de POO. Você aprenderá a definir classes, instanciar objetos, utilizar atributos e métodos. Ao final, estará apto a estruturar programas com maior modularidade, clareza e extensibilidade.\n",
        "\n",
        "**Curiosidade:** Em Python, tudo é objeto — desde tipos simples como `int` e `str` até funções e módulos. Isso significa que cada elemento possui atributos e métodos acessíveis via sintaxe de ponto (`obj.metodo()`)."
      ],
      "metadata": {
        "id": "uq3rLalx0l9P"
      }
    },
    {
      "cell_type": "markdown",
      "source": [
        "## **Mão na Massa**"
      ],
      "metadata": {
        "id": "wE1lDWB_CvEv"
      }
    },
    {
      "cell_type": "markdown",
      "source": [
        "Nesta etapa, vamos transformar a teoria em prática. O objetivo é projetar uma classe Carro, explorando atributos, métodos e instância de objetos.\n"
      ],
      "metadata": {
        "id": "YfM3HEF_CzNd"
      }
    },
    {
      "cell_type": "markdown",
      "source": [
        "### **Criando nossa Primeira Classe**"
      ],
      "metadata": {
        "id": "wp8S2PNhgqJT"
      }
    },
    {
      "cell_type": "markdown",
      "source": [
        "Em Python, definimos classes utilizando a palavra-chave `class`, seguida do nome da classe e de dois pontos (`:`). Por convenção, os nomes de classes seguem o padrão **CamelCase**, ou seja, cada palavra começa com letra maiúscula e não há separadores (`MinhaClasse`, `CarroEsportivo`). Essa convenção facilita a leitura do código e diferencia classes de funções e variáveis, que costumam ser escritas em **snake_case** (palavras são escritas todas em minúsculas e separadas por underscore)."
      ],
      "metadata": {
        "id": "oI-bVEQagwE1"
      }
    },
    {
      "cell_type": "code",
      "source": [
        "class Carro:\n",
        "    pass  # Classe vazia: 'pass' funciona como um placeholder"
      ],
      "metadata": {
        "id": "KkBKsP_bhA1V"
      },
      "execution_count": null,
      "outputs": []
    },
    {
      "cell_type": "markdown",
      "source": [
        "> **Nota:** Quando uma classe é declarada sem atributos nem métodos, ela ainda existe como entidade no código, mas não possui estado (informações armazenadas em variáveis de instância) nem funcionalidade (operações associadas)."
      ],
      "metadata": {
        "id": "bMxzreJfht5d"
      }
    },
    {
      "cell_type": "markdown",
      "source": [
        "### **O Construtor: Método** `__init__`"
      ],
      "metadata": {
        "id": "Ws1aQcmniNaV"
      }
    },
    {
      "cell_type": "markdown",
      "source": [
        "O método especial `__init__`, conhecido como construtor em Python, é acionado automaticamente sempre que um objeto é instanciado. Ele permite definir o estado inicial da instância por meio de atributos específicos. O primeiro parâmetro obrigatório é `self`, que referencia o próprio objeto, seguido de quaisquer parâmetros adicionais necessários para configurar o objeto."
      ],
      "metadata": {
        "id": "vFusmh3EiWBO"
      }
    },
    {
      "cell_type": "code",
      "source": [
        "class Carro:\n",
        "    def __init__(self, marca, modelo, ano, cor):\n",
        "        print(f\"Criando um novo carro: {marca} {modelo}\")\n",
        "\n",
        "        # --- ATRIBUTOS DE INSTÂNCIA ---\n",
        "        self.marca = marca\n",
        "        self.modelo = modelo\n",
        "        self.ano = ano\n",
        "        self.cor = cor\n",
        "\n",
        "        # --- ATRIBUTOS COM VALORES PADRÃO ---\n",
        "        self.ligado = False\n",
        "        self.velocidade = 0"
      ],
      "metadata": {
        "id": "ZDKg0FT5iiao"
      },
      "execution_count": 1,
      "outputs": []
    },
    {
      "cell_type": "markdown",
      "source": [
        "### **Instanciando Objetos**"
      ],
      "metadata": {
        "id": "CzOHJonqjsOm"
      }
    },
    {
      "cell_type": "markdown",
      "source": [
        "A classe define a estrutura e o comportamento de um objeto. Para utilizá-la, é necessário criar instâncias. A criação de uma instância ocorre da mesma forma que a chamada de uma função, fornecendo, se necessário, os argumentos exigidos pelo construtor (`__init__`)."
      ],
      "metadata": {
        "id": "hxYTM8Uvj8A1"
      }
    },
    {
      "cell_type": "code",
      "source": [
        "meu_fusca = Carro(marca=\"Volkswagen\", modelo=\"Fusca\", ano=1975, cor=\"Azul\")\n",
        "carro_da_ana = Carro(marca=\"Fiat\", modelo=\"Mobi\", ano=2022, cor=\"Branco\")"
      ],
      "metadata": {
        "colab": {
          "base_uri": "https://localhost:8080/"
        },
        "id": "fSwVWi4skkb5",
        "outputId": "0d3b19f3-9384-4524-baf0-160388d8be56"
      },
      "execution_count": 2,
      "outputs": [
        {
          "output_type": "stream",
          "name": "stdout",
          "text": [
            "Criando um novo carro: Volkswagen Fusca\n",
            "Criando um novo carro: Fiat Mobi\n"
          ]
        }
      ]
    },
    {
      "cell_type": "markdown",
      "source": [
        "> Nota: Cada objeto possui seus próprios atributos independentes."
      ],
      "metadata": {
        "id": "neRkdAAXkq4x"
      }
    },
    {
      "cell_type": "markdown",
      "source": [
        "### **Acessando e Modificando Atributos**"
      ],
      "metadata": {
        "id": "ioWgnXIRkyXK"
      }
    },
    {
      "cell_type": "markdown",
      "source": [
        "Atributos podem ser acessados e modificados via notação de ponto (`obj.atributo`)."
      ],
      "metadata": {
        "id": "SYPrsP4nk3U6"
      }
    },
    {
      "cell_type": "code",
      "source": [
        "print(f\"Marca do meu carro: {meu_fusca.marca}\")\n",
        "print(f\"Modelo do carro da Ana: {carro_da_ana.modelo}\")\n",
        "\n",
        "# Alterando atributo em tempo de execução\n",
        "meu_fusca.cor = \"Preto\"\n",
        "print(f\"Nova cor do meu fusca: {meu_fusca.cor}\")"
      ],
      "metadata": {
        "colab": {
          "base_uri": "https://localhost:8080/"
        },
        "id": "HPy0IQqQk2y4",
        "outputId": "d78c2fcd-7e8e-4955-f403-ae508afe2412"
      },
      "execution_count": 3,
      "outputs": [
        {
          "output_type": "stream",
          "name": "stdout",
          "text": [
            "Marca do meu carro: Volkswagen\n",
            "Modelo do carro da Ana: Mobi\n",
            "Nova cor do meu fusca: Preto\n"
          ]
        }
      ]
    },
    {
      "cell_type": "markdown",
      "source": [
        "Em Python, atributos são dinâmicos: podemos até criar novos atributos “na hora”, sem declaração prévia."
      ],
      "metadata": {
        "id": "ZCbu4CHalGbL"
      }
    },
    {
      "cell_type": "code",
      "source": [
        "# Criando um atributo novo dinamicamente\n",
        "meu_fusca.proprietario = \"Tiago\"\n",
        "print(f\"O proprietário do meu fusca é: {meu_fusca.proprietario}\")\n",
        "\n",
        "# Observação: carro_da_ana não possui esse atributo\n",
        "print(carro_da_ana.proprietario)  # Isso geraria um AttributeError"
      ],
      "metadata": {
        "colab": {
          "base_uri": "https://localhost:8080/",
          "height": 193
        },
        "id": "k3O_7FatlUQH",
        "outputId": "da92022f-8c62-41fb-b616-359c11a7f488"
      },
      "execution_count": 5,
      "outputs": [
        {
          "output_type": "stream",
          "name": "stdout",
          "text": [
            "O proprietário do meu fusca é: Tiago\n"
          ]
        },
        {
          "output_type": "error",
          "ename": "AttributeError",
          "evalue": "'Carro' object has no attribute 'proprietario'",
          "traceback": [
            "\u001b[0;31m---------------------------------------------------------------------------\u001b[0m",
            "\u001b[0;31mAttributeError\u001b[0m                            Traceback (most recent call last)",
            "\u001b[0;32m/tmp/ipython-input-1355682506.py\u001b[0m in \u001b[0;36m<cell line: 0>\u001b[0;34m()\u001b[0m\n\u001b[1;32m      4\u001b[0m \u001b[0;34m\u001b[0m\u001b[0m\n\u001b[1;32m      5\u001b[0m \u001b[0;31m# Observação: carro_da_ana não possui esse atributo\u001b[0m\u001b[0;34m\u001b[0m\u001b[0;34m\u001b[0m\u001b[0m\n\u001b[0;32m----> 6\u001b[0;31m \u001b[0mprint\u001b[0m\u001b[0;34m(\u001b[0m\u001b[0mcarro_da_ana\u001b[0m\u001b[0;34m.\u001b[0m\u001b[0mproprietario\u001b[0m\u001b[0;34m)\u001b[0m  \u001b[0;31m# Isso geraria um AttributeError\u001b[0m\u001b[0;34m\u001b[0m\u001b[0;34m\u001b[0m\u001b[0m\n\u001b[0m",
            "\u001b[0;31mAttributeError\u001b[0m: 'Carro' object has no attribute 'proprietario'"
          ]
        }
      ]
    },
    {
      "cell_type": "markdown",
      "source": [
        "### **Comparativo Rápido: Como seria em Java?**"
      ],
      "metadata": {
        "id": "KQ6mUHxelyB8"
      }
    },
    {
      "cell_type": "markdown",
      "source": [
        "Apenas para fins de comparação, veja como a mesma classe e instanciação seriam em Java. Note as principais diferenças:\n",
        "\n",
        "- **Tipagem Estática:** Em Java, precisamos declarar o tipo de cada atributo (String, int, boolean).\n",
        "- **Construtor:** O construtor tem o mesmo nome da classe.\n",
        "- **this:** A palavra-chave this em Java é equivalente ao self do Python.\n",
        "- **Instanciação:** A palavra-chave new é obrigatória.\n"
      ],
      "metadata": {
        "id": "lMtu3Ly-l12h"
      }
    },
    {
      "cell_type": "markdown",
      "source": [
        "```java\n",
        "public class Carro {\n",
        "    // 1. Declaração dos atributos com tipos\n",
        "    String marca;\n",
        "    String modelo;\n",
        "    int ano;\n",
        "    String cor;\n",
        "    boolean ligado;\n",
        "    int velocidade;\n",
        "\n",
        "    // 2. Construtor com o mesmo nome da classe\n",
        "    public Carro(String marca, String modelo, int ano, String cor) {\n",
        "        System.out.println(\"Criando um novo carro: \" + marca + \" \" + modelo);\n",
        "        this.marca = marca;\n",
        "        this.modelo = modelo;\n",
        "        this.ano = ano;\n",
        "        this.cor = cor;\n",
        "        this.ligado = false; // Valores padrão\n",
        "        this.velocidade = 0;\n",
        "    }\n",
        "\n",
        "    // 3. Método principal para executar o programa\n",
        "    public static void main(String[] args) {\n",
        "        // Criando instâncias da classe Carro\n",
        "        Carro meuFusca = new Carro(\"Volkswagen\", \"Fusca\", 1975, \"Azul\");\n",
        "        Carro meuCivic = new Carro(\"Honda\", \"Civic\", 2020, \"Prata\");\n",
        "\n",
        "        // Acessando e mostrando atributos\n",
        "        System.out.println(\"Marca do meu Fusca: \" + meuFusca.marca);\n",
        "        System.out.println(\"Ano do meu Civic: \" + meuCivic.ano);\n",
        "    }\n",
        "}\n",
        "\n",
        "```"
      ],
      "metadata": {
        "id": "5e4oI8BgmEQo"
      }
    },
    {
      "cell_type": "markdown",
      "source": [
        "### **Adicionando Comportamento: Métodos**"
      ],
      "metadata": {
        "id": "_UwpvdPsmh5d"
      }
    },
    {
      "cell_type": "markdown",
      "source": [
        "Um carro não tem só características, ele também faz coisas! Vamos adicionar os métodos `ligar`, `acelerar` e `frear`."
      ],
      "metadata": {
        "id": "brf7yMlammwz"
      }
    },
    {
      "cell_type": "code",
      "source": [
        "class Carro:\n",
        "    def __init__(self, marca, modelo, ano, cor):\n",
        "        self.marca = marca\n",
        "        self.modelo = modelo\n",
        "        self.ano = ano\n",
        "        self.cor = cor\n",
        "        self.ligado = False\n",
        "        self.velocidade = 0\n",
        "\n",
        "    # --- MÉTODOS ---\n",
        "    def ligar(self):\n",
        "        if not self.ligado:\n",
        "            self.ligado = True\n",
        "            print(f\"O {self.modelo} ligou. Vrum vrum!\")\n",
        "        else:\n",
        "            print(f\"O {self.modelo} já estava ligado.\")\n",
        "\n",
        "    def desligar(self):\n",
        "        if not self.ligado:\n",
        "            print(f\"O {self.modelo} já está desligado.\")\n",
        "        elif self.velocidade > 0:\n",
        "            print(f\"ATENÇÃO: Freie o {self.modelo} antes de desligar!\")\n",
        "        else:\n",
        "            self.ligado = False\n",
        "            print(f\"O {self.modelo} foi desligado.\")\n",
        "\n",
        "    def acelerar(self, valor_aceleracao):\n",
        "        if self.ligado:\n",
        "            self.velocidade += valor_aceleracao\n",
        "            print(f\"Acelerando... Velocidade atual: {self.velocidade} km/h\")\n",
        "        else:\n",
        "            print(f\"Não dá pra acelerar, o {self.modelo} está desligado.\")\n",
        "\n",
        "    def frear(self, valor_frenagem):\n",
        "        if self.velocidade <= 0:\n",
        "            print(f\"O {self.modelo} já está parado.\")\n",
        "            return\n",
        "\n",
        "        self.velocidade -= valor_frenagem\n",
        "        if self.velocidade < 0:\n",
        "            self.velocidade = 0\n",
        "\n",
        "        print(f\"Freando... Velocidade atual: {self.velocidade} km/h\")"
      ],
      "metadata": {
        "id": "FQDPC5S-m6-0"
      },
      "execution_count": 6,
      "outputs": []
    },
    {
      "cell_type": "markdown",
      "source": [
        "### **Utilizando os Objetos e seus Métodos**"
      ],
      "metadata": {
        "id": "gsPrPrVFnIp8"
      }
    },
    {
      "cell_type": "markdown",
      "source": [
        "Agora podemos \"brincar\" com nosso carro, chamando seus métodos."
      ],
      "metadata": {
        "id": "36slaUwanMnN"
      }
    },
    {
      "cell_type": "code",
      "source": [
        "# Criando um novo carro com a classe atualizada\n",
        "minha_maquina = Carro(\"Porsche\", \"911 Carrera\", 2024, \"Prata\")\n",
        "\n",
        "# Interagindo com o objeto\n",
        "minha_maquina.acelerar(50) # Tenta acelerar desligado\n",
        "minha_maquina.ligar()\n",
        "minha_maquina.ligar() # Tenta ligar de novo\n",
        "minha_maquina.acelerar(80)\n",
        "minha_maquina.acelerar(40)\n",
        "minha_maquina.frear(60)\n",
        "minha_maquina.desligar() # Tenta desligar em movimento\n",
        "minha_maquina.frear(60)\n",
        "minha_maquina.desligar()"
      ],
      "metadata": {
        "colab": {
          "base_uri": "https://localhost:8080/"
        },
        "id": "9bh7txQenPni",
        "outputId": "d4d0b9f6-132f-44f7-fc72-eff1af98c190"
      },
      "execution_count": 7,
      "outputs": [
        {
          "output_type": "stream",
          "name": "stdout",
          "text": [
            "Não dá pra acelerar, o 911 Carrera está desligado.\n",
            "O 911 Carrera ligou. Vrum vrum!\n",
            "O 911 Carrera já estava ligado.\n",
            "Acelerando... Velocidade atual: 80 km/h\n",
            "Acelerando... Velocidade atual: 120 km/h\n",
            "Freando... Velocidade atual: 60 km/h\n",
            "ATENÇÃO: Freie o 911 Carrera antes de desligar!\n",
            "Freando... Velocidade atual: 0 km/h\n",
            "O 911 Carrera foi desligado.\n"
          ]
        }
      ]
    }
  ]
}