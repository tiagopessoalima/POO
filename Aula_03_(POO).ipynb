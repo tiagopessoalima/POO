{
  "nbformat": 4,
  "nbformat_minor": 0,
  "metadata": {
    "colab": {
      "provenance": [],
      "authorship_tag": "ABX9TyN0SiosH8t9VldsPLomB2ub",
      "include_colab_link": true
    },
    "kernelspec": {
      "name": "python3",
      "display_name": "Python 3"
    },
    "language_info": {
      "name": "python"
    }
  },
  "cells": [
    {
      "cell_type": "markdown",
      "metadata": {
        "id": "view-in-github",
        "colab_type": "text"
      },
      "source": [
        "<a href=\"https://colab.research.google.com/github/tiagopessoalima/POO/blob/main/Aula_03_(POO).ipynb\" target=\"_parent\"><img src=\"https://colab.research.google.com/assets/colab-badge.svg\" alt=\"Open In Colab\"/></a>"
      ]
    },
    {
      "cell_type": "markdown",
      "source": [
        "# **Classes e Objetos**"
      ],
      "metadata": {
        "id": "xXXJq_oN0Vay"
      }
    },
    {
      "cell_type": "markdown",
      "source": [
        "Esta etapa representa uma fundamentação conceitual destinada a compreender como estruturar **dados** (atributos), **comportamentos** (métodos) e **estado** (instâncias) em uma abstração unificada denominada **classe**.\n",
        "\n",
        "**Objetivo da Semana:** Introduzir o paradigma da POO, abordando definição de classes, criação de objetos, uso de atributos e implementação de métodos. Ao final, o estudante será capaz de desenvolver programas com maior modularidade, clareza e extensibilidade.\n",
        "\n",
        "**Nota:** Em Python, todos os elementos são tratados como objetos — desde tipos primitivos, como `int` e `str`, até funções e módulos. Cada objeto disponibiliza atributos e métodos acessíveis por meio da notação de ponto (`obj.metodo()`)."
      ],
      "metadata": {
        "id": "QBGrOUUlnMM0"
      }
    },
    {
      "cell_type": "markdown",
      "source": [
        "## **Mão na Massa**"
      ],
      "metadata": {
        "id": "wE1lDWB_CvEv"
      }
    },
    {
      "cell_type": "markdown",
      "source": [
        "Nesta etapa, será realizada a implementação prática dos conceitos teóricos por meio do desenvolvimento de duas classes: `Musica` e `Playlist`. A classe `Musica` será responsável por representar uma música individual, contendo atributos como `título`, `artista` e `duração`. Já a classe `Playlist` terá como objetivo organizar um conjunto de músicas, definindo atributos como `nome` e `criador`, além de métodos para `adicionar`, `remover` e `listar músicas`. Por fim, serão criadas instâncias de objetos a partir dessas classes, evidenciando como estruturas orientadas a objetos podem modelar cenários do mundo real."
      ],
      "metadata": {
        "id": "YfM3HEF_CzNd"
      }
    },
    {
      "cell_type": "markdown",
      "source": [
        "### **Definição da Classe `Música`**"
      ],
      "metadata": {
        "id": "wp8S2PNhgqJT"
      }
    },
    {
      "cell_type": "markdown",
      "source": [
        "Em Python, classes são definidas por meio da palavra-chave `class`, seguida do nome da classe e de dois-pontos (`:`). Conforme a convenção adotada pela linguagem, os nomes de classes utilizam o padrão **CamelCase**, no qual cada palavra inicia com letra maiúscula e não são utilizados separadores. Essa padronização contribui para a legibilidade do código e permite distinguir classes de funções e variáveis, que geralmente seguem o padrão **snake\\_case**, com palavras em minúsculas separadas por underscores.\n"
      ],
      "metadata": {
        "id": "oI-bVEQagwE1"
      }
    },
    {
      "cell_type": "code",
      "source": [
        "class Musica:\n",
        "    pass  # Classe vazia: 'pass' funciona como um placeholder"
      ],
      "metadata": {
        "id": "KkBKsP_bhA1V"
      },
      "execution_count": 1,
      "outputs": []
    },
    {
      "cell_type": "markdown",
      "source": [
        "> **Observação:** Uma classe declarada sem atributos ou métodos continua existindo como entidade no código, porém não apresenta estado (variáveis de instância) nem comportamento (métodos ou funcionalidades associadas)."
      ],
      "metadata": {
        "id": "bMxzreJfht5d"
      }
    },
    {
      "cell_type": "markdown",
      "source": [
        "#### **O Construtor: Método** `__init__`"
      ],
      "metadata": {
        "id": "Ws1aQcmniNaV"
      }
    },
    {
      "cell_type": "markdown",
      "source": [
        "O método especial `__init__`, conhecido como construtor em Python, é acionado automaticamente sempre que um objeto é instanciado. Ele permite definir o estado inicial da instância por meio de atributos específicos. O primeiro parâmetro obrigatório é `self`, que referencia o próprio objeto, seguido de quaisquer parâmetros adicionais necessários para configurar o objeto."
      ],
      "metadata": {
        "id": "vFusmh3EiWBO"
      }
    },
    {
      "cell_type": "code",
      "source": [
        "from datetime import datetime\n",
        "\n",
        "class Musica:\n",
        "    \"\"\"\n",
        "    Representa uma única música, encapsulando suas informações.\n",
        "    \"\"\"\n",
        "    def __init__(self, titulo: str, artista: str, duracao: str, genero: str = \"Desconhecido\"):\n",
        "        \"\"\"\n",
        "        Construtor da classe Musica.\n",
        "\n",
        "        Args:\n",
        "            titulo (str): O título da música.\n",
        "            artista (str): O nome do artista ou banda.\n",
        "            duracao (str): A duração da música no formato \"M:SS\".\n",
        "            genero (str, optional): O gênero musical. Padrão \"Desconhecido\".\n",
        "        \"\"\"\n",
        "        self.titulo = titulo\n",
        "        self.artista = artista\n",
        "        self.duracao = duracao\n",
        "        self.genero = genero\n",
        "        self.data_adicao = datetime.now()\n",
        "        self.reproducoes = 0\n",
        "\n",
        "        # Mensagem indicando a criação da música\n",
        "        print(f\"Música '{self.titulo}' de {self.artista} foi criada com sucesso!\")"
      ],
      "metadata": {
        "id": "ZDKg0FT5iiao"
      },
      "execution_count": 2,
      "outputs": []
    },
    {
      "cell_type": "markdown",
      "source": [
        "#### **Instanciando Objetos**"
      ],
      "metadata": {
        "id": "CzOHJonqjsOm"
      }
    },
    {
      "cell_type": "markdown",
      "source": [
        "A classe define a estrutura e o comportamento de um objeto. Para utilizá-la, é necessário criar instâncias. A criação de uma instância ocorre da mesma forma que a chamada de uma função, fornecendo, se necessário, os argumentos exigidos pelo construtor (`__init__`)."
      ],
      "metadata": {
        "id": "hxYTM8Uvj8A1"
      }
    },
    {
      "cell_type": "code",
      "source": [
        "m1 = Musica(\"Imagine\", \"John Lennon\", \"3:15\", \"Rock\")\n",
        "m2 = Musica(\"Bohemian Rhapsody\", \"Queen\", \"5:55\", \"Rock\")\n",
        "m3 = Musica(\"Garota de Ipanema\", \"Tom Jobim\", \"2:40\", \"Bossa Nova\")"
      ],
      "metadata": {
        "colab": {
          "base_uri": "https://localhost:8080/"
        },
        "id": "fSwVWi4skkb5",
        "outputId": "2a8eee43-16fe-4941-a521-b016389bbffe"
      },
      "execution_count": 3,
      "outputs": [
        {
          "output_type": "stream",
          "name": "stdout",
          "text": [
            "Música 'Imagine' de John Lennon foi criada com sucesso!\n",
            "Música 'Bohemian Rhapsody' de Queen foi criada com sucesso!\n",
            "Música 'Garota de Ipanema' de Tom Jobim foi criada com sucesso!\n"
          ]
        }
      ]
    },
    {
      "cell_type": "markdown",
      "source": [
        "> **Nota:** Cada objeto possui seus próprios atributos independentes."
      ],
      "metadata": {
        "id": "neRkdAAXkq4x"
      }
    },
    {
      "cell_type": "markdown",
      "source": [
        "#### **Acessando e Modificando Atributos**"
      ],
      "metadata": {
        "id": "ioWgnXIRkyXK"
      }
    },
    {
      "cell_type": "markdown",
      "source": [
        "Atributos podem ser acessados e modificados via notação de ponto (`obj.atributo`)."
      ],
      "metadata": {
        "id": "SYPrsP4nk3U6"
      }
    },
    {
      "cell_type": "code",
      "source": [
        "# Acessando atributos\n",
        "print(f\"Título da primeira música: {m1.titulo}\")\n",
        "print(f\"Título da segunda música: {m2.titulo}\")\n",
        "\n",
        "# Alterando atributos em tempo de execução\n",
        "m1.genero = \"Soft Rock\"\n",
        "print(f\"Novo gênero da música m1: {m1.genero}\")"
      ],
      "metadata": {
        "colab": {
          "base_uri": "https://localhost:8080/"
        },
        "id": "HPy0IQqQk2y4",
        "outputId": "829242b4-cd0c-45e5-cdcb-aeb80207da19"
      },
      "execution_count": 4,
      "outputs": [
        {
          "output_type": "stream",
          "name": "stdout",
          "text": [
            "Título da primeira música: Imagine\n",
            "Título da segunda música: Bohemian Rhapsody\n",
            "Novo gênero da música m1: Soft Rock\n"
          ]
        }
      ]
    },
    {
      "cell_type": "markdown",
      "source": [
        "Em Python, atributos são dinâmicos: podemos até criar novos atributos “na hora”, sem declaração prévia."
      ],
      "metadata": {
        "id": "ZCbu4CHalGbL"
      }
    },
    {
      "cell_type": "code",
      "source": [
        "# Criando um atributo novo dinamicamente\n",
        "m3.letra = \"Olha que coisa mais linda, mais cheia de graça...\"\n",
        "print(f\"A letra da música '{m3.titulo}' é: '{m3.letra}'\")\n",
        "\n",
        "# Observação: m2 não possui esse atributo\n",
        "print(m2.letra)  # Isso geraria um AttributeError"
      ],
      "metadata": {
        "colab": {
          "base_uri": "https://localhost:8080/",
          "height": 193
        },
        "id": "k3O_7FatlUQH",
        "outputId": "05151fa5-d6a9-458c-8b3f-80ccb79a90d5"
      },
      "execution_count": 5,
      "outputs": [
        {
          "output_type": "stream",
          "name": "stdout",
          "text": [
            "A letra da música 'Garota de Ipanema' é: 'Olha que coisa mais linda, mais cheia de graça...'\n"
          ]
        },
        {
          "output_type": "error",
          "ename": "AttributeError",
          "evalue": "'Musica' object has no attribute 'letra'",
          "traceback": [
            "\u001b[0;31m---------------------------------------------------------------------------\u001b[0m",
            "\u001b[0;31mAttributeError\u001b[0m                            Traceback (most recent call last)",
            "\u001b[0;32m/tmp/ipython-input-793429185.py\u001b[0m in \u001b[0;36m<cell line: 0>\u001b[0;34m()\u001b[0m\n\u001b[1;32m      4\u001b[0m \u001b[0;34m\u001b[0m\u001b[0m\n\u001b[1;32m      5\u001b[0m \u001b[0;31m# Observação: m2 não possui esse atributo\u001b[0m\u001b[0;34m\u001b[0m\u001b[0;34m\u001b[0m\u001b[0m\n\u001b[0;32m----> 6\u001b[0;31m \u001b[0mprint\u001b[0m\u001b[0;34m(\u001b[0m\u001b[0mm2\u001b[0m\u001b[0;34m.\u001b[0m\u001b[0mletra\u001b[0m\u001b[0;34m)\u001b[0m  \u001b[0;31m# Isso geraria um AttributeError\u001b[0m\u001b[0;34m\u001b[0m\u001b[0;34m\u001b[0m\u001b[0m\n\u001b[0m",
            "\u001b[0;31mAttributeError\u001b[0m: 'Musica' object has no attribute 'letra'"
          ]
        }
      ]
    },
    {
      "cell_type": "markdown",
      "source": [
        "#### **Comparativo Rápido: Como seria em Java?**"
      ],
      "metadata": {
        "id": "KQ6mUHxelyB8"
      }
    },
    {
      "cell_type": "markdown",
      "source": [
        "Apenas para fins de comparação, veja como a mesma classe e instanciação seriam em Java. Note as principais diferenças:\n",
        "\n",
        "* **Tipagem Estática:** Em Java, cada atributo deve ter seu tipo declarado explicitamente (por exemplo, `String`, `int`, `boolean`).\n",
        "* **Construtor:** O construtor deve possuir exatamente o mesmo nome da classe.\n",
        "* **this:** A palavra-chave `this` em Java desempenha o mesmo papel que `self` em Python, referindo-se à instância atual do objeto.\n",
        "* **Instanciação:** A palavra-chave `new` é obrigatória para criar objetos em Java.\n",
        "* **Atributos:** Diferentemente do Python, o Java não permite a criação dinâmica de atributos em tempo de execução.\n"
      ],
      "metadata": {
        "id": "KCAPBWsP4TpV"
      }
    },
    {
      "cell_type": "markdown",
      "source": [
        "**Definição da Classe Musica em Java**"
      ],
      "metadata": {
        "id": "2n-bCCPp01LJ"
      }
    },
    {
      "cell_type": "markdown",
      "source": [
        "```java\n",
        "import java.time.LocalDateTime;\n",
        "\n",
        "public class Musica {\n",
        "    // Atributos da classe\n",
        "    String titulo;\n",
        "    String artista;\n",
        "    String duracao;\n",
        "    String genero;\n",
        "    LocalDateTime dataAdicao;\n",
        "    int reproducoes;\n",
        "\n",
        "    // Construtor\n",
        "    public Musica(String titulo, String artista, String duracao, String genero) {\n",
        "        this.titulo = titulo;\n",
        "        this.artista = artista;\n",
        "        this.duracao = duracao;\n",
        "        this.genero = genero;\n",
        "        this.dataAdicao = LocalDateTime.now();\n",
        "        this.reproducoes = 0;\n",
        "        \n",
        "        System.out.println(\"Música '\" + this.titulo + \"' de \" + this.artista + \" foi criada com sucesso!\");\n",
        "    }\n",
        "\n",
        "    // Construtor com valor padrão para gênero\n",
        "    public Musica(String titulo, String artista, String duracao) {\n",
        "        this(titulo, artista, duracao, \"Desconhecido\");\n",
        "    }\n",
        "}\n",
        "```"
      ],
      "metadata": {
        "id": "5e4oI8BgmEQo"
      }
    },
    {
      "cell_type": "markdown",
      "source": [
        "**Classe Principal para Testar**"
      ],
      "metadata": {
        "id": "04iAgiVD057J"
      }
    },
    {
      "cell_type": "markdown",
      "source": [
        "```java\n",
        "public class Main {\n",
        "    public static void main(String[] args) {\n",
        "        // Instanciando objetos\n",
        "        Musica m1 = new Musica(\"Imagine\", \"John Lennon\", \"3:15\", \"Rock\");\n",
        "        Musica m2 = new Musica(\"Bohemian Rhapsody\", \"Queen\", \"5:55\", \"Rock\");\n",
        "        Musica m3 = new Musica(\"Garota de Ipanema\", \"Tom Jobim\", \"2:40\", \"Bossa Nova\");\n",
        "        \n",
        "        // Acessando atributos\n",
        "        System.out.println(\"\\nTítulo da primeira música: \" + m1.titulo);\n",
        "        System.out.println(\"Título da segunda música: \" + m2.titulo);\n",
        "\n",
        "        // Modificando atributos\n",
        "        m1.genero = \"Soft Rock\";\n",
        "        System.out.println(\"Novo gênero da música m1: \" + m1.genero);\n",
        "    }\n",
        "}\n",
        "```"
      ],
      "metadata": {
        "id": "olXswUwY0-Il"
      }
    },
    {
      "cell_type": "markdown",
      "source": [
        "**Execução da Classe Principal**"
      ],
      "metadata": {
        "id": "sqnQBZMR33p1"
      }
    },
    {
      "cell_type": "markdown",
      "source": [
        "```\n",
        "Música 'Imagine' de John Lennon foi criada com sucesso!\n",
        "Música 'Bohemian Rhapsody' de Queen foi criada com sucesso!\n",
        "Música 'Garota de Ipanema' de Tom Jobim foi criada com sucesso!\n",
        "\n",
        "Título da primeira música: Imagine\n",
        "Título da segunda música: Bohemian Rhapsody\n",
        "Novo gênero da música m1: Soft Rock\n",
        "```"
      ],
      "metadata": {
        "id": "AsH6NQU-3zDW"
      }
    },
    {
      "cell_type": "markdown",
      "source": [
        "#### **Adicionando Comportamento: Métodos**"
      ],
      "metadata": {
        "id": "_UwpvdPsmh5d"
      }
    },
    {
      "cell_type": "markdown",
      "source": [
        "Uma música não tem só características, ele também faz coisas! Vamos adicionar o método `reproduzir`."
      ],
      "metadata": {
        "id": "brf7yMlammwz"
      }
    },
    {
      "cell_type": "code",
      "source": [
        "from datetime import datetime\n",
        "\n",
        "class Musica:\n",
        "    \"\"\"\n",
        "    Representa uma única música, encapsulando suas informações.\n",
        "    \"\"\"\n",
        "    def __init__(self, titulo: str, artista: str, duracao: str, genero: str = \"Desconhecido\"):\n",
        "        \"\"\"\n",
        "        Construtor da classe Musica.\n",
        "\n",
        "        Args:\n",
        "            titulo (str): O título da música.\n",
        "            artista (str): O nome do artista ou banda.\n",
        "            duracao (str): A duração da música no formato \"M:SS\".\n",
        "            genero (str, optional): O gênero musical. Padrão \"Desconhecido\".\n",
        "        \"\"\"\n",
        "        self.titulo = titulo\n",
        "        self.artista = artista\n",
        "        self.duracao = duracao\n",
        "        self.genero = genero\n",
        "        self.data_adicao = datetime.now()\n",
        "        self.reproducoes = 0\n",
        "\n",
        "    def reproduzir(self):\n",
        "        \"\"\"\n",
        "        Simula a reprodução da música, incrementando o contador.\n",
        "        \"\"\"\n",
        "        self.reproducoes += 1\n",
        "        print(f\"▶️  Reproduzindo: {self.titulo} de {self.artista}\")"
      ],
      "metadata": {
        "id": "RTMod6hZ5m-6"
      },
      "execution_count": 7,
      "outputs": []
    },
    {
      "cell_type": "markdown",
      "source": [
        "#### **Chamando e Utilizando Métodos**"
      ],
      "metadata": {
        "id": "1TxvHKVq7FRi"
      }
    },
    {
      "cell_type": "code",
      "source": [
        "# Exemplo de criação de um objeto Musica\n",
        "m4 = Musica(\"Inesquecível\", \"Laura Pausini\", \"3:49\", \"Pop\")\n",
        "m4.reproduzir()"
      ],
      "metadata": {
        "colab": {
          "base_uri": "https://localhost:8080/"
        },
        "id": "PkLMf3s67ra5",
        "outputId": "f8c16e77-7fb1-4071-e86b-cf995e316b95"
      },
      "execution_count": 8,
      "outputs": [
        {
          "output_type": "stream",
          "name": "stdout",
          "text": [
            "▶️  Reproduzindo: Inesquecível de Laura Pausini\n"
          ]
        }
      ]
    },
    {
      "cell_type": "markdown",
      "source": [
        "Os objetos `m1`, `m2` e `m3` foram instanciados antes da inclusão do método `reproduzir()` na classe `Musica`. Como resultado, essas instâncias não dispõem desse método, e qualquer chamada a `reproduzir()` sobre elas gerará um **AttributeError**.\n",
        "\n"
      ],
      "metadata": {
        "id": "-CbmM-GD9JP8"
      }
    },
    {
      "cell_type": "code",
      "source": [
        "m1.reproduzir()"
      ],
      "metadata": {
        "colab": {
          "base_uri": "https://localhost:8080/",
          "height": 141
        },
        "id": "QvhOag0U921s",
        "outputId": "541f7875-ddff-47c0-c63b-c86e0d8ddad1"
      },
      "execution_count": 9,
      "outputs": [
        {
          "output_type": "error",
          "ename": "AttributeError",
          "evalue": "'Musica' object has no attribute 'reproduzir'",
          "traceback": [
            "\u001b[0;31m---------------------------------------------------------------------------\u001b[0m",
            "\u001b[0;31mAttributeError\u001b[0m                            Traceback (most recent call last)",
            "\u001b[0;32m/tmp/ipython-input-1553903977.py\u001b[0m in \u001b[0;36m<cell line: 0>\u001b[0;34m()\u001b[0m\n\u001b[0;32m----> 1\u001b[0;31m \u001b[0mm1\u001b[0m\u001b[0;34m.\u001b[0m\u001b[0mreproduzir\u001b[0m\u001b[0;34m(\u001b[0m\u001b[0;34m)\u001b[0m\u001b[0;34m\u001b[0m\u001b[0;34m\u001b[0m\u001b[0m\n\u001b[0m",
            "\u001b[0;31mAttributeError\u001b[0m: 'Musica' object has no attribute 'reproduzir'"
          ]
        }
      ]
    },
    {
      "cell_type": "markdown",
      "source": [
        "Em Python, a instância de um objeto captura a estrutura da classe no momento de sua criação. Alterações subsequentes na definição da classe não afetam automaticamente os objetos já instanciados; estes permanecem com a estrutura original. Para que todos os objetos da classe `Musica` disponham do método `reproduzir()`, é necessário reinstanciá-los após a modificação da classe.\n",
        "\n",
        "\n"
      ],
      "metadata": {
        "id": "6A71ihem-PO7"
      }
    },
    {
      "cell_type": "code",
      "source": [
        "# Recriando os objetos após adicionar o método reproduzir\n",
        "m1 = Musica(\"Imagine\", \"John Lennon\", \"3:15\", \"Rock\")\n",
        "m2 = Musica(\"Bohemian Rhapsody\", \"Queen\", \"5:55\", \"Rock\")\n",
        "m3 = Musica(\"Garota de Ipanema\", \"Tom Jobim\", \"2:40\", \"Bossa Nova\")\n",
        "\n",
        "# Agora todos funcionam!\n",
        "print(\"\\n=== REPRODUZINDO TODAS AS MÚSICAS (RECRIADAS) ===\")\n",
        "m1.reproduzir()\n",
        "m2.reproduzir()\n",
        "m3.reproduzir()"
      ],
      "metadata": {
        "colab": {
          "base_uri": "https://localhost:8080/"
        },
        "id": "5nLiKdbQ-cl1",
        "outputId": "c9643f7a-8789-4391-d5d5-0c2e65338443"
      },
      "execution_count": 10,
      "outputs": [
        {
          "output_type": "stream",
          "name": "stdout",
          "text": [
            "\n",
            "=== REPRODUZINDO TODAS AS MÚSICAS (RECRIADAS) ===\n",
            "▶️  Reproduzindo: Imagine de John Lennon\n",
            "▶️  Reproduzindo: Bohemian Rhapsody de Queen\n",
            "▶️  Reproduzindo: Garota de Ipanema de Tom Jobim\n"
          ]
        }
      ]
    },
    {
      "cell_type": "markdown",
      "source": [
        "### **Definição da Classe `Playlist`**"
      ],
      "metadata": {
        "id": "sRXNaqMB_HMN"
      }
    },
    {
      "cell_type": "markdown",
      "source": [
        "A classe `Playlist` representa uma coleção gerenciável de objetos da classe `Musica`. Sua responsabilidade principal é encapsular operações de manipulação de múltiplas instâncias de música, incluindo inserção, remoção e iteração sobre os elementos da coleção. Essa abstração permite separar claramente a lógica de gerenciamento de coleção da lógica individual de cada música, garantindo modularidade, coesão e facilitando a manutenção e a extensão futura do código.\n",
        ">\n",
        "> **Objetivos da implementação:**\n",
        ">\n",
        "> 1. Armazenar instâncias de `Musica` em uma estrutura de dados adequada (por exemplo, lista).\n",
        "> 2. Fornecer métodos públicos para adição, remoção e consulta de músicas.\n",
        "> 3. Garantir integridade da coleção e encapsulamento dos detalhes internos de armazenamento.\n",
        "> 4. Permitir operações iterativas e ordenações futuras sem comprometer a consistência da estrutura.\n",
        "\n"
      ],
      "metadata": {
        "id": "snT21Crp_zP8"
      }
    },
    {
      "cell_type": "code",
      "source": [
        "from datetime import datetime\n",
        "from typing import List\n",
        "\n",
        "class Playlist:\n",
        "    \"\"\"Representa uma coleção de objetos Musica.\"\"\"\n",
        "\n",
        "    def __init__(self, nome: str, criador: str, descricao: str = \"\"):\n",
        "        self.nome = nome\n",
        "        self.criador = criador\n",
        "        self.descricao = descricao\n",
        "        self.musicas: List[Musica] = []\n",
        "        self.data_criacao = datetime.now()\n",
        "        self.ultima_modificacao = self.data_criacao\n",
        "\n",
        "    def adicionar_musica(self, musica: Musica) -> bool:\n",
        "        if any(m.titulo.lower() == musica.titulo.lower() and m.artista.lower() == musica.artista.lower()\n",
        "               for m in self.musicas):\n",
        "            return False\n",
        "        self.musicas.append(musica)\n",
        "        self.atualizar_modificacao()\n",
        "        return True\n",
        "\n",
        "    def remover_musica(self, titulo: str, artista: str = None) -> bool:\n",
        "        for i, musica in enumerate(self.musicas):\n",
        "            if musica.titulo.lower() == titulo.lower() and (artista is None or musica.artista.lower() == artista.lower()):\n",
        "                self.musicas.pop(i)\n",
        "                self.atualizar_modificacao()\n",
        "                return True\n",
        "        return False\n",
        "\n",
        "    def listar_musicas(self, ordenar_por: str = \"titulo\") -> None:\n",
        "        if not self.musicas:\n",
        "            print(f\"Playlist '{self.nome}' está vazia.\")\n",
        "            return\n",
        "\n",
        "        musicas_ordenadas = sorted(self.musicas, key=lambda m: getattr(m, ordenar_por, \"\"))\n",
        "        print(f\"\\nPlaylist: {self.nome} ({len(self.musicas)} músicas) | Duração total: {self.calcular_duracao_total()}\")\n",
        "        for i, musica in enumerate(musicas_ordenadas, 1):\n",
        "            print(f\"{i:2d}. {musica.titulo[:25]:<25} - {musica.artista[:20]:<20} | {musica.duracao:>5} | ♫{musica.reproducoes:3d}\")\n",
        "\n",
        "    def reproduzir_musica(self, titulo: str) -> None:\n",
        "        for musica in self.musicas:\n",
        "            if musica.titulo.lower() == titulo.lower():\n",
        "                musica.reproduzir()\n",
        "                return\n",
        "\n",
        "    def buscar_musica(self, termo: str) -> List[Musica]:\n",
        "        termo = termo.lower()\n",
        "        return [m for m in self.musicas if termo in m.titulo.lower() or termo in m.artista.lower() or termo in m.genero.lower()]\n",
        "\n",
        "    def calcular_duracao_total(self) -> str:\n",
        "        total_segundos = sum(\n",
        "            int(m.duracao.split(':')[0]) * 60 + int(m.duracao.split(':')[1])\n",
        "            for m in self.musicas if ':' in m.duracao\n",
        "        )\n",
        "        horas, resto = divmod(total_segundos, 3600)\n",
        "        minutos, segundos = divmod(resto, 60)\n",
        "        return f\"{horas}h{minutos:02d}m{segundos:02d}s\" if horas else f\"{minutos}m{segundos:02d}s\"\n",
        "\n",
        "    def atualizar_modificacao(self) -> None:\n",
        "        self.ultima_modificacao = datetime.now()"
      ],
      "metadata": {
        "id": "upRxH_OFHk_R"
      },
      "execution_count": 11,
      "outputs": []
    },
    {
      "cell_type": "markdown",
      "source": [
        "### **Exemplo de Uso**"
      ],
      "metadata": {
        "id": "gsPrPrVFnIp8"
      }
    },
    {
      "cell_type": "markdown",
      "source": [
        "Agora, vamos ver como as classes Musica e Playlist colaboram. Primeiro, criamos as instâncias de Musica e, em seguida, as adicionamos a uma instância de Playlist."
      ],
      "metadata": {
        "id": "36slaUwanMnN"
      }
    },
    {
      "cell_type": "markdown",
      "source": [
        "1. **Criar instâncias de Musica**"
      ],
      "metadata": {
        "id": "kmLxRDTKD4Xy"
      }
    },
    {
      "cell_type": "code",
      "source": [
        "musica1 = Musica(\"Bohemian Rhapsody\", \"Queen\", \"5:55\", \"Rock\")\n",
        "musica2 = Musica(\"Stairway to Heaven\", \"Led Zeppelin\", \"8:02\", \"Rock\")\n",
        "musica3 = Musica(\"Sweet Child O' Mine\", \"Guns N' Roses\", \"5:03\", \"Hard Rock\")\n",
        "musica4 = Musica(\"Hotel California\", \"Eagles\", \"6:30\", \"Rock\")"
      ],
      "metadata": {
        "id": "hHO_bUmAD6xE"
      },
      "execution_count": 12,
      "outputs": []
    },
    {
      "cell_type": "markdown",
      "source": [
        "2. **Criar uma playlist**"
      ],
      "metadata": {
        "id": "hvTH2FuOEFqe"
      }
    },
    {
      "cell_type": "code",
      "source": [
        "playlist = Playlist(\"Clássicos do Rock\", \"Carlos\", \"O melhor do rock clássico internacional.\")"
      ],
      "metadata": {
        "id": "qNKSsTxWEEdm"
      },
      "execution_count": 13,
      "outputs": []
    },
    {
      "cell_type": "markdown",
      "source": [
        "3. **Adicionar as músicas à playlist**"
      ],
      "metadata": {
        "id": "-gmPF9CJEL0A"
      }
    },
    {
      "cell_type": "code",
      "source": [
        "playlist.adicionar_musica(musica1)"
      ],
      "metadata": {
        "colab": {
          "base_uri": "https://localhost:8080/"
        },
        "id": "VWDQdZkgIHYC",
        "outputId": "ece8662d-941d-410b-ea0a-9df005696df4"
      },
      "execution_count": 14,
      "outputs": [
        {
          "output_type": "execute_result",
          "data": {
            "text/plain": [
              "True"
            ]
          },
          "metadata": {},
          "execution_count": 14
        }
      ]
    },
    {
      "cell_type": "code",
      "source": [
        "playlist.adicionar_musica(musica2)"
      ],
      "metadata": {
        "colab": {
          "base_uri": "https://localhost:8080/"
        },
        "id": "Hgn1Gv_WIIsS",
        "outputId": "b4e77523-8ddb-40da-9276-6b4abdb19ff9"
      },
      "execution_count": 15,
      "outputs": [
        {
          "output_type": "execute_result",
          "data": {
            "text/plain": [
              "True"
            ]
          },
          "metadata": {},
          "execution_count": 15
        }
      ]
    },
    {
      "cell_type": "code",
      "source": [
        "playlist.adicionar_musica(musica3)"
      ],
      "metadata": {
        "colab": {
          "base_uri": "https://localhost:8080/"
        },
        "id": "Ciyw8xBqIJ5R",
        "outputId": "0b79d626-5442-4240-f532-2727598adefe"
      },
      "execution_count": 16,
      "outputs": [
        {
          "output_type": "execute_result",
          "data": {
            "text/plain": [
              "True"
            ]
          },
          "metadata": {},
          "execution_count": 16
        }
      ]
    },
    {
      "cell_type": "code",
      "source": [
        "playlist.adicionar_musica(musica4)"
      ],
      "metadata": {
        "colab": {
          "base_uri": "https://localhost:8080/"
        },
        "id": "iu526tmxEQ3s",
        "outputId": "919e611c-5f27-423c-c8f6-8ff4bbff862e"
      },
      "execution_count": 17,
      "outputs": [
        {
          "output_type": "execute_result",
          "data": {
            "text/plain": [
              "True"
            ]
          },
          "metadata": {},
          "execution_count": 17
        }
      ]
    },
    {
      "cell_type": "markdown",
      "source": [
        "4. **Tentar adicionar uma música duplicada**"
      ],
      "metadata": {
        "id": "6FDrW1uyEaiH"
      }
    },
    {
      "cell_type": "code",
      "source": [
        "playlist.adicionar_musica(Musica(\"Bohemian Rhapsody\", \"Queen\", \"5:55\"))"
      ],
      "metadata": {
        "colab": {
          "base_uri": "https://localhost:8080/"
        },
        "id": "qhuLsSubEq1f",
        "outputId": "6c4d2468-53cc-4a69-a76f-e70f217d1d25"
      },
      "execution_count": 18,
      "outputs": [
        {
          "output_type": "execute_result",
          "data": {
            "text/plain": [
              "False"
            ]
          },
          "metadata": {},
          "execution_count": 18
        }
      ]
    },
    {
      "cell_type": "markdown",
      "source": [
        "5. **Listar as músicas (ordenadas por título, o padrão)**"
      ],
      "metadata": {
        "id": "lRAfjwKxExsf"
      }
    },
    {
      "cell_type": "code",
      "source": [
        "playlist.listar_musicas()"
      ],
      "metadata": {
        "colab": {
          "base_uri": "https://localhost:8080/"
        },
        "id": "6bnx_ayNEzT3",
        "outputId": "8947f044-1b6c-4161-fca3-217902fcd980"
      },
      "execution_count": 19,
      "outputs": [
        {
          "output_type": "stream",
          "name": "stdout",
          "text": [
            "\n",
            "Playlist: Clássicos do Rock (4 músicas) | Duração total: 25m30s\n",
            " 1. Bohemian Rhapsody         - Queen                |  5:55 | ♫  0\n",
            " 2. Hotel California          - Eagles               |  6:30 | ♫  0\n",
            " 3. Stairway to Heaven        - Led Zeppelin         |  8:02 | ♫  0\n",
            " 4. Sweet Child O' Mine       - Guns N' Roses        |  5:03 | ♫  0\n"
          ]
        }
      ]
    },
    {
      "cell_type": "markdown",
      "source": [
        "6. **Reproduzir algumas músicas**"
      ],
      "metadata": {
        "id": "Rqkvy_cLE4Un"
      }
    },
    {
      "cell_type": "code",
      "source": [
        "playlist.reproduzir_musica(\"Hotel California\")\n",
        "playlist.reproduzir_musica(\"Bohemian Rhapsody\")\n",
        "playlist.reproduzir_musica(\"Hotel California\")"
      ],
      "metadata": {
        "colab": {
          "base_uri": "https://localhost:8080/"
        },
        "id": "PP6pVAd_E5a-",
        "outputId": "bea279f6-3278-4413-9714-9df45d7773c9"
      },
      "execution_count": 20,
      "outputs": [
        {
          "output_type": "stream",
          "name": "stdout",
          "text": [
            "▶️  Reproduzindo: Hotel California de Eagles\n",
            "▶️  Reproduzindo: Bohemian Rhapsody de Queen\n",
            "▶️  Reproduzindo: Hotel California de Eagles\n"
          ]
        }
      ]
    },
    {
      "cell_type": "markdown",
      "source": [
        "7. **Listar músicas novamente para ver as reproduções atualizadas (ordenando por artista)**\n"
      ],
      "metadata": {
        "id": "Dl2w4i3cFBM3"
      }
    },
    {
      "cell_type": "code",
      "source": [
        "playlist.listar_musicas(ordenar_por=\"artista\")"
      ],
      "metadata": {
        "colab": {
          "base_uri": "https://localhost:8080/"
        },
        "id": "NPkwwPkgFFa4",
        "outputId": "655c7de6-00a6-4c0e-e384-90b8127fba39"
      },
      "execution_count": 21,
      "outputs": [
        {
          "output_type": "stream",
          "name": "stdout",
          "text": [
            "\n",
            "Playlist: Clássicos do Rock (4 músicas) | Duração total: 25m30s\n",
            " 1. Hotel California          - Eagles               |  6:30 | ♫  2\n",
            " 2. Sweet Child O' Mine       - Guns N' Roses        |  5:03 | ♫  0\n",
            " 3. Stairway to Heaven        - Led Zeppelin         |  8:02 | ♫  0\n",
            " 4. Bohemian Rhapsody         - Queen                |  5:55 | ♫  1\n"
          ]
        }
      ]
    }
  ]
}