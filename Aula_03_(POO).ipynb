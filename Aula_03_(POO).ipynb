{
  "nbformat": 4,
  "nbformat_minor": 0,
  "metadata": {
    "colab": {
      "provenance": [],
      "authorship_tag": "ABX9TyOYQY6vEccT1lLWjx4EXC5N",
      "include_colab_link": true
    },
    "kernelspec": {
      "name": "python3",
      "display_name": "Python 3"
    },
    "language_info": {
      "name": "python"
    }
  },
  "cells": [
    {
      "cell_type": "markdown",
      "metadata": {
        "id": "view-in-github",
        "colab_type": "text"
      },
      "source": [
        "<a href=\"https://colab.research.google.com/github/tiagopessoalima/POO/blob/main/Aula_03_(POO).ipynb\" target=\"_parent\"><img src=\"https://colab.research.google.com/assets/colab-badge.svg\" alt=\"Open In Colab\"/></a>"
      ]
    },
    {
      "cell_type": "markdown",
      "source": [
        "# **Classes e Objetos**"
      ],
      "metadata": {
        "id": "xXXJq_oN0Vay"
      }
    },
    {
      "cell_type": "markdown",
      "source": [
        "Esta etapa representa uma fundamentação conceitual destinada a compreender como estruturar **dados** (atributos), **comportamentos** (métodos) e **estado** (instâncias) em uma abstração unificada denominada **classe**.\n",
        "\n",
        "**Objetivo da Semana:** Introduzir o paradigma da POO, abordando definição de classes, criação de objetos, uso de atributos e implementação de métodos. Ao final, o estudante será capaz de desenvolver programas com maior modularidade, clareza e extensibilidade.\n",
        "\n",
        "**Nota:** Em Python, todos os elementos são tratados como objetos — desde tipos primitivos, como `int` e `str`, até funções e módulos. Cada objeto disponibiliza atributos e métodos acessíveis por meio da notação de ponto (`obj.metodo()`)."
      ],
      "metadata": {
        "id": "QBGrOUUlnMM0"
      }
    },
    {
      "cell_type": "markdown",
      "source": [
        "## **Mão na Massa**"
      ],
      "metadata": {
        "id": "wE1lDWB_CvEv"
      }
    },
    {
      "cell_type": "markdown",
      "source": [
        "Nesta etapa, será realizada a implementação prática dos conceitos teóricos por meio do desenvolvimento de duas classes: `Musica` e `Playlist`. A classe `Musica` será responsável por representar uma música individual, contendo atributos como `título`, `artista` e `duração`. Já a classe `Playlist` terá como objetivo organizar um conjunto de músicas, definindo atributos como `nome` e `criador`, além de métodos para `adicionar`, `remover` e `listar` músicas. Por fim, serão criadas instâncias de objetos a partir dessas classes, evidenciando como estruturas orientadas a objetos podem modelar cenários do mundo real."
      ],
      "metadata": {
        "id": "YfM3HEF_CzNd"
      }
    },
    {
      "cell_type": "markdown",
      "source": [
        "### **Definição da Classe `Música`**"
      ],
      "metadata": {
        "id": "wp8S2PNhgqJT"
      }
    },
    {
      "cell_type": "markdown",
      "source": [
        "Em Python, classes são definidas por meio da palavra-chave `class`, seguida do nome da classe e de dois-pontos (`:`). Conforme a convenção adotada pela linguagem, os nomes de classes utilizam o padrão **CamelCase**, no qual cada palavra inicia com letra maiúscula e não são utilizados separadores. Essa padronização contribui para a legibilidade do código e permite distinguir classes de funções e variáveis, que geralmente seguem o padrão **snake\\_case**, com palavras em minúsculas separadas por underscores.\n"
      ],
      "metadata": {
        "id": "oI-bVEQagwE1"
      }
    },
    {
      "cell_type": "code",
      "source": [
        "class Musica:\n",
        "  pass  # Classe vazia: 'pass' funciona como um placeholder"
      ],
      "metadata": {
        "id": "KkBKsP_bhA1V"
      },
      "execution_count": 1,
      "outputs": []
    },
    {
      "cell_type": "markdown",
      "source": [
        "> **Observação:** Uma classe declarada sem atributos ou métodos continua existindo como entidade no código, porém não apresenta estado (variáveis de instância) nem comportamento (métodos ou funcionalidades associadas)."
      ],
      "metadata": {
        "id": "bMxzreJfht5d"
      }
    },
    {
      "cell_type": "markdown",
      "source": [
        "#### **O Construtor: Método** `__init__`"
      ],
      "metadata": {
        "id": "Ws1aQcmniNaV"
      }
    },
    {
      "cell_type": "markdown",
      "source": [
        "O método especial `__init__`, conhecido como construtor em Python, é acionado automaticamente sempre que um objeto é instanciado. Ele permite definir o estado inicial da instância por meio de atributos específicos. O primeiro parâmetro obrigatório é `self`, que referencia o próprio objeto, seguido de quaisquer parâmetros adicionais necessários para configurar o objeto."
      ],
      "metadata": {
        "id": "vFusmh3EiWBO"
      }
    },
    {
      "cell_type": "code",
      "source": [
        "from datetime import datetime\n",
        "\n",
        "class Musica:\n",
        "  \"\"\"\n",
        "  Representa uma única música, encapsulando suas informações.\n",
        "  \"\"\"\n",
        "\n",
        "  # Atributo de classe (compartilhado por todas as instâncias)\n",
        "  total_musicas = 0\n",
        "\n",
        "  def __init__(self, titulo: str, artista: str, duracao: str, genero: str = \"Desconhecido\"):\n",
        "    \"\"\"\n",
        "    Construtor da classe Musica.\n",
        "\n",
        "    Args:\n",
        "          titulo (str): O título da música.\n",
        "          artista (str): O nome do artista ou banda.\n",
        "          duracao (str): A duração da música no formato \"M:SS\".\n",
        "          genero (str, optional): O gênero musical. Padrão \"Desconhecido\".\n",
        "    \"\"\"\n",
        "    self.titulo = titulo\n",
        "    self.artista = artista\n",
        "    self.duracao = duracao\n",
        "    self.genero = genero\n",
        "    self.data_adicao = datetime.now()\n",
        "    self.reproducoes = 0\n",
        "\n",
        "    # Atualiza o atributo de classe sempre que uma nova música é criada\n",
        "    Musica.total_musicas += 1\n",
        "\n",
        "    # Mensagem indicando a criação da música\n",
        "    print(f\"Música '{self.titulo}' de {self.artista} foi criada com sucesso!\")"
      ],
      "metadata": {
        "id": "ZDKg0FT5iiao"
      },
      "execution_count": 2,
      "outputs": []
    },
    {
      "cell_type": "markdown",
      "source": [
        "> **Nota:** O primeiro parâmetro de `__init__` e de quase todos os métodos de uma classe é, por convenção, chamado de `self`. A palavra `self` é uma referência à instância específica da classe que está sendo criada ou que está invocando um método. É o mecanismo pelo qual um objeto pode acessar e modificar seus próprios dados.\n",
        "\n"
      ],
      "metadata": {
        "id": "rC_1nVIxXpfs"
      }
    },
    {
      "cell_type": "markdown",
      "source": [
        "##### **Atributos de Classe vs. Atributos de Instância**\n",
        "\n",
        "Na definição da classe `Musica`, é possível identificar duas categorias distintas de atributos:\n",
        "\n",
        "1. **Atributos de Instância:**\n",
        "   São inicializados no método `__init__` utilizando o prefixo `self` (por exemplo, `self.titulo`, `self.artista`). Cada instância da classe possui sua própria cópia desses atributos, permitindo valores independentes entre objetos diferentes. Assim, o atributo `titulo` de uma instância pode assumir um valor distinto do atributo `titulo` de outra instância.\n",
        "\n",
        "2. **Atributos de Classe:**\n",
        "   São declarados diretamente no escopo da classe, fora de qualquer método. Um exemplo é o atributo `total_musicas`, que apresenta as seguintes propriedades:\n",
        "\n",
        "   * **Compartilhamento:** O atributo pertence à classe em si, sendo compartilhado por todas as instâncias.\n",
        "   * **Acesso:** Recomenda-se acessá-lo ou modificá-lo por meio do nome da classe, como em `Musica.total_musicas` para deixar explícito que o atributo não pertence apenas a um objeto individual."
      ],
      "metadata": {
        "id": "DuOlSLDx3pBv"
      }
    },
    {
      "cell_type": "markdown",
      "source": [
        "#### **Instanciando Objetos**"
      ],
      "metadata": {
        "id": "CzOHJonqjsOm"
      }
    },
    {
      "cell_type": "markdown",
      "source": [
        "A classe define a estrutura e o comportamento de um objeto. Para utilizá-la, é necessário criar instâncias. A criação de uma instância ocorre da mesma forma que a chamada de uma função, fornecendo, se necessário, os argumentos exigidos pelo construtor (`__init__`)."
      ],
      "metadata": {
        "id": "hxYTM8Uvj8A1"
      }
    },
    {
      "cell_type": "code",
      "source": [
        "m1 = Musica(\"Imagine\", \"John Lennon\", \"3:15\", \"Rock\")\n",
        "m2 = Musica(\"Bohemian Rhapsody\", \"Queen\", \"5:55\", \"Rock\")\n",
        "m3 = Musica(\"Garota de Ipanema\", \"Tom Jobim\", \"2:40\", \"Bossa Nova\")"
      ],
      "metadata": {
        "colab": {
          "base_uri": "https://localhost:8080/"
        },
        "id": "fSwVWi4skkb5",
        "outputId": "459a184c-7bf9-474d-817a-4a234a4dbe4d"
      },
      "execution_count": 3,
      "outputs": [
        {
          "output_type": "stream",
          "name": "stdout",
          "text": [
            "Música 'Imagine' de John Lennon foi criada com sucesso!\n",
            "Música 'Bohemian Rhapsody' de Queen foi criada com sucesso!\n",
            "Música 'Garota de Ipanema' de Tom Jobim foi criada com sucesso!\n"
          ]
        }
      ]
    },
    {
      "cell_type": "markdown",
      "source": [
        "Cada uma dessas variáveis (`m1`, `m2`, `m3`) representa uma instância independente da classe `Musica`, possuindo seus próprios atributos (`titulo`, `artista`, `duracao`, `genero`, entre outros). Além dos atributos individuais, a classe mantém o atributo de classe `total_musicas`, que é atualizado automaticamente a cada nova criação de objeto:"
      ],
      "metadata": {
        "id": "jwrMN7pK5XLl"
      }
    },
    {
      "cell_type": "code",
      "source": [
        "m1.total_musicas"
      ],
      "metadata": {
        "colab": {
          "base_uri": "https://localhost:8080/"
        },
        "id": "aZjc-fW0gpZN",
        "outputId": "e3446f54-af95-4521-99d2-e8987fba38ae"
      },
      "execution_count": 4,
      "outputs": [
        {
          "output_type": "execute_result",
          "data": {
            "text/plain": [
              "3"
            ]
          },
          "metadata": {},
          "execution_count": 4
        }
      ]
    },
    {
      "cell_type": "markdown",
      "source": [
        "#### **Acessando e Modificando Atributos**"
      ],
      "metadata": {
        "id": "ioWgnXIRkyXK"
      }
    },
    {
      "cell_type": "markdown",
      "source": [
        "Atributos podem ser acessados e modificados via notação de ponto (`obj.atributo`)."
      ],
      "metadata": {
        "id": "SYPrsP4nk3U6"
      }
    },
    {
      "cell_type": "code",
      "source": [
        "# Acessando atributos\n",
        "print(f\"Título da primeira música: {m1.titulo}\")\n",
        "print(f\"Título da segunda música: {m2.titulo}\")\n",
        "\n",
        "# Alterando atributos em tempo de execução\n",
        "m1.genero = \"Soft Rock\"\n",
        "print(f\"Novo gênero da música m1: {m1.genero}\")"
      ],
      "metadata": {
        "colab": {
          "base_uri": "https://localhost:8080/"
        },
        "id": "HPy0IQqQk2y4",
        "outputId": "b54f7e7a-12ae-4a71-a52d-79357b058cff"
      },
      "execution_count": 5,
      "outputs": [
        {
          "output_type": "stream",
          "name": "stdout",
          "text": [
            "Título da primeira música: Imagine\n",
            "Título da segunda música: Bohemian Rhapsody\n",
            "Novo gênero da música m1: Soft Rock\n"
          ]
        }
      ]
    },
    {
      "cell_type": "markdown",
      "source": [
        "Em Python, atributos são dinâmicos: podemos até criar novos atributos “na hora”, sem declaração prévia."
      ],
      "metadata": {
        "id": "ZCbu4CHalGbL"
      }
    },
    {
      "cell_type": "code",
      "source": [
        "# Criando um atributo novo dinamicamente\n",
        "m3.letra = \"Olha que coisa mais linda, mais cheia de graça...\"\n",
        "print(f\"A letra da música '{m3.titulo}' é: '{m3.letra}'\")\n",
        "\n",
        "# Observação: m2 não possui esse atributo\n",
        "print(m2.letra)  # Isso gera um AttributeError"
      ],
      "metadata": {
        "colab": {
          "base_uri": "https://localhost:8080/",
          "height": 193
        },
        "id": "k3O_7FatlUQH",
        "outputId": "e6e4e6e5-9d3e-4640-8ba1-ea9e5df4f022"
      },
      "execution_count": 6,
      "outputs": [
        {
          "output_type": "stream",
          "name": "stdout",
          "text": [
            "A letra da música 'Garota de Ipanema' é: 'Olha que coisa mais linda, mais cheia de graça...'\n"
          ]
        },
        {
          "output_type": "error",
          "ename": "AttributeError",
          "evalue": "'Musica' object has no attribute 'letra'",
          "traceback": [
            "\u001b[0;31m---------------------------------------------------------------------------\u001b[0m",
            "\u001b[0;31mAttributeError\u001b[0m                            Traceback (most recent call last)",
            "\u001b[0;32m/tmp/ipython-input-232021490.py\u001b[0m in \u001b[0;36m<cell line: 0>\u001b[0;34m()\u001b[0m\n\u001b[1;32m      4\u001b[0m \u001b[0;34m\u001b[0m\u001b[0m\n\u001b[1;32m      5\u001b[0m \u001b[0;31m# Observação: m2 não possui esse atributo\u001b[0m\u001b[0;34m\u001b[0m\u001b[0;34m\u001b[0m\u001b[0m\n\u001b[0;32m----> 6\u001b[0;31m \u001b[0mprint\u001b[0m\u001b[0;34m(\u001b[0m\u001b[0mm2\u001b[0m\u001b[0;34m.\u001b[0m\u001b[0mletra\u001b[0m\u001b[0;34m)\u001b[0m  \u001b[0;31m# Isso gera um AttributeError\u001b[0m\u001b[0;34m\u001b[0m\u001b[0;34m\u001b[0m\u001b[0m\n\u001b[0m",
            "\u001b[0;31mAttributeError\u001b[0m: 'Musica' object has no attribute 'letra'"
          ]
        }
      ]
    },
    {
      "cell_type": "markdown",
      "source": [
        "#### **Comparativo Rápido: Como seria em Java?**"
      ],
      "metadata": {
        "id": "KQ6mUHxelyB8"
      }
    },
    {
      "cell_type": "markdown",
      "source": [
        "Apenas para fins de comparação, veja como a mesma classe e instanciação seriam em Java. Note as principais diferenças:\n",
        "\n",
        "* **Tipagem Estática:** Em Java, cada atributo deve ter seu tipo declarado explicitamente (por exemplo, `String`, `int`, `boolean`).\n",
        "* **Construtor:** O construtor deve possuir exatamente o mesmo nome da classe.\n",
        "* **this:** A palavra-chave `this` em Java desempenha o mesmo papel que `self` em Python, referindo-se à instância atual do objeto.\n",
        "* **Instanciação:** A palavra-chave `new` é obrigatória para criar objetos em Java.\n",
        "* **Atributos:** Diferentemente do Python, o Java não permite a criação dinâmica de atributos em tempo de execução.\n"
      ],
      "metadata": {
        "id": "KCAPBWsP4TpV"
      }
    },
    {
      "cell_type": "markdown",
      "source": [
        "**Definição da Classe Musica em Java**"
      ],
      "metadata": {
        "id": "2n-bCCPp01LJ"
      }
    },
    {
      "cell_type": "markdown",
      "source": [
        "```java\n",
        "import java.time.LocalDateTime;\n",
        "\n",
        "public class Musica {\n",
        "\n",
        "    // Atributo de classe (compartilhado por todas as instâncias)\n",
        "    static int totalMusicas = 0;\n",
        "\n",
        "    // Atributos da instância\n",
        "    String titulo;\n",
        "    String artista;\n",
        "    String duracao;\n",
        "    String genero;\n",
        "    LocalDateTime dataAdicao;\n",
        "    int reproducoes;\n",
        "\n",
        "    // Construtor\n",
        "    public Musica(String titulo, String artista, String duracao, String genero) {\n",
        "        this.titulo = titulo;\n",
        "        this.artista = artista;\n",
        "        this.duracao = duracao;\n",
        "        this.genero = genero;\n",
        "        this.dataAdicao = LocalDateTime.now();\n",
        "        this.reproducoes = 0;\n",
        "        \n",
        "        // Atualiza o atributo de classe\n",
        "        Musica.totalMusicas++;\n",
        "\n",
        "        System.out.println(\"Música '\" + this.titulo + \"' de \" + this.artista + \" foi criada com sucesso!\");\n",
        "    }\n",
        "\n",
        "    // Construtor com valor padrão para gênero\n",
        "    public Musica(String titulo, String artista, String duracao) {\n",
        "        this(titulo, artista, duracao, \"Desconhecido\");\n",
        "    }\n",
        "}\n",
        "```"
      ],
      "metadata": {
        "id": "5e4oI8BgmEQo"
      }
    },
    {
      "cell_type": "markdown",
      "source": [
        "**Classe Principal para Testar**"
      ],
      "metadata": {
        "id": "04iAgiVD057J"
      }
    },
    {
      "cell_type": "markdown",
      "source": [
        "```java\n",
        "public class Main {\n",
        "    public static void main(String[] args) {\n",
        "        // Instanciando objetos\n",
        "        Musica m1 = new Musica(\"Imagine\", \"John Lennon\", \"3:15\", \"Rock\");\n",
        "        Musica m2 = new Musica(\"Bohemian Rhapsody\", \"Queen\", \"5:55\", \"Rock\");\n",
        "        Musica m3 = new Musica(\"Garota de Ipanema\", \"Tom Jobim\", \"2:40\", \"Bossa Nova\");\n",
        "        \n",
        "        // Acessando atributos\n",
        "        System.out.println(\"\\nTítulo da primeira música: \" + m1.titulo);\n",
        "        System.out.println(\"Título da segunda música: \" + m2.titulo);\n",
        "\n",
        "        // Modificando atributos\n",
        "        m1.genero = \"Soft Rock\";\n",
        "        System.out.println(\"Novo gênero da música m1: \" + m1.genero);\n",
        "    }\n",
        "}\n",
        "```"
      ],
      "metadata": {
        "id": "olXswUwY0-Il"
      }
    },
    {
      "cell_type": "markdown",
      "source": [
        "**Execução da Classe Principal**"
      ],
      "metadata": {
        "id": "sqnQBZMR33p1"
      }
    },
    {
      "cell_type": "markdown",
      "source": [
        "```\n",
        "Música 'Imagine' de John Lennon foi criada com sucesso!\n",
        "Música 'Bohemian Rhapsody' de Queen foi criada com sucesso!\n",
        "Música 'Garota de Ipanema' de Tom Jobim foi criada com sucesso!\n",
        "\n",
        "Título da primeira música: Imagine\n",
        "Título da segunda música: Bohemian Rhapsody\n",
        "Novo gênero da música m1: Soft Rock\n",
        "```"
      ],
      "metadata": {
        "id": "AsH6NQU-3zDW"
      }
    },
    {
      "cell_type": "markdown",
      "source": [
        "#### **Adicionando Comportamento: Métodos**"
      ],
      "metadata": {
        "id": "_UwpvdPsmh5d"
      }
    },
    {
      "cell_type": "markdown",
      "source": [
        "Uma música não tem só características, ele também faz coisas! Vamos adicionar o método `reproduzir`."
      ],
      "metadata": {
        "id": "brf7yMlammwz"
      }
    },
    {
      "cell_type": "code",
      "source": [
        "from datetime import datetime\n",
        "\n",
        "class Musica:\n",
        "  \"\"\"\n",
        "  Representa uma única música, encapsulando suas informações.\n",
        "  \"\"\"\n",
        "  def __init__(self, titulo: str, artista: str, duracao: str, genero: str = \"Desconhecido\"):\n",
        "    \"\"\"\n",
        "    Construtor da classe Musica.\n",
        "\n",
        "    Args:\n",
        "          titulo (str): O título da música.\n",
        "          artista (str): O nome do artista ou banda.\n",
        "          duracao (str): A duração da música no formato \"M:SS\".\n",
        "          genero (str, optional): O gênero musical. Padrão \"Desconhecido\".\n",
        "    \"\"\"\n",
        "    self.titulo = titulo\n",
        "    self.artista = artista\n",
        "    self.duracao = duracao\n",
        "    self.genero = genero\n",
        "    self.data_adicao = datetime.now()\n",
        "    self.reproducoes = 0\n",
        "\n",
        "  def reproduzir(self):\n",
        "    \"\"\"\n",
        "    Simula a reprodução da música, incrementando o contador.\n",
        "    \"\"\"\n",
        "    self.reproducoes += 1\n",
        "    print(f\"▶️  Reproduzindo: {self.titulo} de {self.artista}\")"
      ],
      "metadata": {
        "id": "RTMod6hZ5m-6"
      },
      "execution_count": 18,
      "outputs": []
    },
    {
      "cell_type": "markdown",
      "source": [
        "#### **Chamando e Utilizando Métodos**"
      ],
      "metadata": {
        "id": "1TxvHKVq7FRi"
      }
    },
    {
      "cell_type": "code",
      "source": [
        "# Exemplo de criação de um objeto Musica\n",
        "m4 = Musica(\"Inesquecível\", \"Laura Pausini\", \"3:49\", \"Pop\")\n",
        "m4.reproduzir()"
      ],
      "metadata": {
        "colab": {
          "base_uri": "https://localhost:8080/"
        },
        "id": "PkLMf3s67ra5",
        "outputId": "21658d49-12ad-4136-c917-c7e1f6ddcc70"
      },
      "execution_count": 19,
      "outputs": [
        {
          "output_type": "stream",
          "name": "stdout",
          "text": [
            "▶️  Reproduzindo: Inesquecível de Laura Pausini\n"
          ]
        }
      ]
    },
    {
      "cell_type": "markdown",
      "source": [
        "Os objetos `m1`, `m2` e `m3` foram instanciados antes da inclusão do método `reproduzir()` na classe `Musica`. Como resultado, essas instâncias não dispõem desse método, e qualquer chamada a `reproduzir()` sobre elas gerará um **AttributeError**.\n",
        "\n"
      ],
      "metadata": {
        "id": "-CbmM-GD9JP8"
      }
    },
    {
      "cell_type": "code",
      "source": [
        "m1.reproduzir()"
      ],
      "metadata": {
        "colab": {
          "base_uri": "https://localhost:8080/",
          "height": 141
        },
        "id": "QvhOag0U921s",
        "outputId": "1189df9c-adef-4326-ed90-8215f54fa1bb"
      },
      "execution_count": 20,
      "outputs": [
        {
          "output_type": "error",
          "ename": "AttributeError",
          "evalue": "'Musica' object has no attribute 'reproduzir'",
          "traceback": [
            "\u001b[0;31m---------------------------------------------------------------------------\u001b[0m",
            "\u001b[0;31mAttributeError\u001b[0m                            Traceback (most recent call last)",
            "\u001b[0;32m/tmp/ipython-input-1553903977.py\u001b[0m in \u001b[0;36m<cell line: 0>\u001b[0;34m()\u001b[0m\n\u001b[0;32m----> 1\u001b[0;31m \u001b[0mm1\u001b[0m\u001b[0;34m.\u001b[0m\u001b[0mreproduzir\u001b[0m\u001b[0;34m(\u001b[0m\u001b[0;34m)\u001b[0m\u001b[0;34m\u001b[0m\u001b[0;34m\u001b[0m\u001b[0m\n\u001b[0m",
            "\u001b[0;31mAttributeError\u001b[0m: 'Musica' object has no attribute 'reproduzir'"
          ]
        }
      ]
    },
    {
      "cell_type": "markdown",
      "source": [
        "Em Python, a instância de um objeto captura a estrutura da classe no momento de sua criação. Alterações subsequentes na definição da classe não afetam automaticamente os objetos já instanciados; estes permanecem com a estrutura original. Para que todos os objetos da classe `Musica` disponham do método `reproduzir()`, é necessário reinstanciá-los após a modificação da classe.\n",
        "\n",
        "\n"
      ],
      "metadata": {
        "id": "6A71ihem-PO7"
      }
    },
    {
      "cell_type": "code",
      "source": [
        "# Recriando os objetos após adicionar o método reproduzir\n",
        "m1 = Musica(\"Imagine\", \"John Lennon\", \"3:15\", \"Rock\")\n",
        "m2 = Musica(\"Bohemian Rhapsody\", \"Queen\", \"5:55\", \"Rock\")\n",
        "m3 = Musica(\"Garota de Ipanema\", \"Tom Jobim\", \"2:40\", \"Bossa Nova\")\n",
        "\n",
        "# Agora todos funcionam!\n",
        "print(\"\\n=== REPRODUZINDO TODAS AS MÚSICAS (RECRIADAS) ===\")\n",
        "m1.reproduzir()\n",
        "m2.reproduzir()\n",
        "m3.reproduzir()"
      ],
      "metadata": {
        "colab": {
          "base_uri": "https://localhost:8080/"
        },
        "id": "5nLiKdbQ-cl1",
        "outputId": "1b974d18-d4fe-4dac-f8b6-10f3fc6342c3"
      },
      "execution_count": 21,
      "outputs": [
        {
          "output_type": "stream",
          "name": "stdout",
          "text": [
            "\n",
            "=== REPRODUZINDO TODAS AS MÚSICAS (RECRIADAS) ===\n",
            "▶️  Reproduzindo: Imagine de John Lennon\n",
            "▶️  Reproduzindo: Bohemian Rhapsody de Queen\n",
            "▶️  Reproduzindo: Garota de Ipanema de Tom Jobim\n"
          ]
        }
      ]
    },
    {
      "cell_type": "markdown",
      "source": [
        "### **Definição da Classe `Playlist`**"
      ],
      "metadata": {
        "id": "sRXNaqMB_HMN"
      }
    },
    {
      "cell_type": "markdown",
      "source": [
        "A classe `Playlist` representa uma coleção gerenciável de objetos da classe `Musica`. Sua responsabilidade principal é encapsular operações de manipulação de múltiplas instâncias de música, incluindo inserção, remoção e iteração sobre os elementos da coleção. Essa abstração permite separar claramente a lógica de gerenciamento de coleção da lógica individual de cada música, garantindo modularidade, coesão e facilitando a manutenção e a extensão futura do código.\n",
        ">\n",
        "> **Objetivos da implementação:**\n",
        ">\n",
        "> 1. Armazenar instâncias de `Musica` em uma estrutura de dados adequada (por exemplo, lista).\n",
        "> 2. Fornecer métodos públicos para adição, remoção e consulta de músicas.\n",
        "> 3. Garantir integridade da coleção e encapsulamento dos detalhes internos de armazenamento.\n",
        "> 4. Permitir operações iterativas e ordenações futuras sem comprometer a consistência da estrutura.\n",
        "\n"
      ],
      "metadata": {
        "id": "snT21Crp_zP8"
      }
    },
    {
      "cell_type": "code",
      "source": [
        "from datetime import datetime\n",
        "from typing import List\n",
        "\n",
        "class Playlist:\n",
        "    \"\"\"Representa uma coleção de objetos Musica.\"\"\"\n",
        "\n",
        "    def __init__(self, nome: str, criador: str, descricao: str = \"\"):\n",
        "      \"\"\"\n",
        "      Inicializa uma nova playlist.\n",
        "\n",
        "      Args:\n",
        "            nome (str): Nome da playlist.\n",
        "            criador (str): Nome do criador da playlist.\n",
        "            descricao (str, opcional): Descrição da playlist. Default = \"\".\n",
        "      \"\"\"\n",
        "      self.nome = nome\n",
        "      self.criador = criador\n",
        "      self.descricao = descricao\n",
        "      self.musicas: List[Musica] = []\n",
        "      self.data_criacao = datetime.now()\n",
        "      self.ultima_modificacao = self.data_criacao\n",
        "\n",
        "    def atualizar(self, **kwargs) -> None:\n",
        "      \"\"\"\n",
        "      Atualiza atributos da playlist dinamicamente usando **kwargs.\n",
        "      Aceita apenas: nome, descricao, criador.\n",
        "\n",
        "      Args:\n",
        "            **kwargs: Pares chave-valor com os atributos a serem atualizados.\n",
        "      \"\"\"\n",
        "      atributos_permitidos = {\"nome\", \"descricao\", \"criador\"}\n",
        "      for chave, valor in kwargs.items():\n",
        "        if chave in atributos_permitidos:\n",
        "          setattr(self, chave, valor)\n",
        "      self.atualizar_modificacao()\n",
        "\n",
        "    def adicionar_musica(self, musica: Musica) -> bool:\n",
        "      \"\"\"\n",
        "      Adiciona uma música à playlist, evitando duplicatas.\n",
        "\n",
        "      Args:\n",
        "            musica (Musica): Objeto Musica a ser adicionado.\n",
        "\n",
        "      Returns:\n",
        "            bool: True se adicionada com sucesso, False se já existia.\n",
        "      \"\"\"\n",
        "      if any(m.titulo.lower() == musica.titulo.lower() and m.artista.lower() == musica.artista.lower()\n",
        "               for m in self.musicas):\n",
        "        return False\n",
        "      self.musicas.append(musica)\n",
        "      self.atualizar_modificacao()\n",
        "      return True\n",
        "\n",
        "    def remover_musica(self, titulo: str, artista: str = None) -> bool:\n",
        "      \"\"\"\n",
        "      Remove uma música da playlist pelo título (e opcionalmente artista).\n",
        "\n",
        "      Args:\n",
        "            titulo (str): Título da música a ser removida.\n",
        "            artista (str, opcional): Artista da música. Se None, remove pela primeira ocorrência do título.\n",
        "\n",
        "      Returns:\n",
        "            bool: True se removida com sucesso, False caso não encontrada.\n",
        "      \"\"\"\n",
        "      for i, musica in enumerate(self.musicas):\n",
        "        if musica.titulo.lower() == titulo.lower() and (artista is None or musica.artista.lower() == artista.lower()):\n",
        "          self.musicas.pop(i)\n",
        "          self.atualizar_modificacao()\n",
        "          return True\n",
        "      return False\n",
        "\n",
        "    def listar_musicas(self, ordenar_por: str = \"titulo\") -> None:\n",
        "      \"\"\"\n",
        "      Lista todas as músicas da playlist, ordenadas por um atributo.\n",
        "\n",
        "      Args:\n",
        "            ordenar_por (str, opcional): Atributo para ordenação (ex: 'titulo', 'artista'). Default = \"titulo\".\n",
        "      \"\"\"\n",
        "      if not self.musicas:\n",
        "        print(f\"Playlist '{self.nome}' está vazia.\")\n",
        "        return\n",
        "\n",
        "      musicas_ordenadas = sorted(self.musicas, key=lambda m: getattr(m, ordenar_por, \"\"))\n",
        "      print(f\"\\nPlaylist: {self.nome} ({len(self.musicas)} músicas) | Duração total: {self.calcular_duracao_total()}\")\n",
        "      for i, musica in enumerate(musicas_ordenadas, 1):\n",
        "        print(f\"{i:2d}. {musica.titulo[:25]:<25} - {musica.artista[:20]:<20} | {musica.duracao:>5} | ♫{musica.reproducoes:3d}\")\n",
        "\n",
        "    def reproduzir_musica(self, titulo: str) -> None:\n",
        "      \"\"\"\n",
        "      Reproduz uma música da playlist pelo título.\n",
        "\n",
        "      Args:\n",
        "            titulo (str): Título da música a ser reproduzida.\n",
        "      \"\"\"\n",
        "      for musica in self.musicas:\n",
        "        if musica.titulo.lower() == titulo.lower():\n",
        "          musica.reproduzir()\n",
        "          return\n",
        "\n",
        "    def buscar_musica(self, termo: str) -> List[Musica]:\n",
        "      \"\"\"\n",
        "      Busca músicas na playlist pelo título, artista ou gênero.\n",
        "\n",
        "      Args:\n",
        "            termo (str): Texto de busca.\n",
        "\n",
        "      Returns:\n",
        "            List[Musica]: Lista de músicas que correspondem ao termo.\n",
        "      \"\"\"\n",
        "      termo = termo.lower()\n",
        "      return [m for m in self.musicas if termo in m.titulo.lower() or termo in m.artista.lower() or termo in m.genero.lower()]\n",
        "\n",
        "    def calcular_duracao_total(self) -> str:\n",
        "      \"\"\"\n",
        "      Calcula a duração total da playlist.\n",
        "\n",
        "      Returns:\n",
        "            str: Duração total formatada (Ex: \"12m45s\" ou \"1h05m30s\").\n",
        "      \"\"\"\n",
        "      total_segundos = sum(\n",
        "        int(m.duracao.split(':')[0]) * 60 + int(m.duracao.split(':')[1])\n",
        "        for m in self.musicas if ':' in m.duracao\n",
        "      )\n",
        "      horas, resto = divmod(total_segundos, 3600)\n",
        "      minutos, segundos = divmod(resto, 60)\n",
        "      return f\"{horas}h{minutos:02d}m{segundos:02d}s\" if horas else f\"{minutos}m{segundos:02d}s\"\n",
        "\n",
        "    def atualizar_modificacao(self) -> None:\n",
        "      \"\"\"\n",
        "      Atualiza a data da última modificação da playlist.\n",
        "      \"\"\"\n",
        "      self.ultima_modificacao = datetime.now()"
      ],
      "metadata": {
        "id": "upRxH_OFHk_R"
      },
      "execution_count": 22,
      "outputs": []
    },
    {
      "cell_type": "markdown",
      "source": [
        "### **Exemplo de Uso**"
      ],
      "metadata": {
        "id": "gsPrPrVFnIp8"
      }
    },
    {
      "cell_type": "markdown",
      "source": [
        "Agora, vamos ver como as classes Musica e Playlist colaboram. Primeiro, criamos as instâncias de Musica e, em seguida, as adicionamos a uma instância de Playlist."
      ],
      "metadata": {
        "id": "36slaUwanMnN"
      }
    },
    {
      "cell_type": "markdown",
      "source": [
        "1. **Criar instâncias de Musica**"
      ],
      "metadata": {
        "id": "kmLxRDTKD4Xy"
      }
    },
    {
      "cell_type": "code",
      "source": [
        "musica1 = Musica(\"Bohemian Rhapsody\", \"Queen\", \"5:55\", \"Rock\")\n",
        "musica2 = Musica(\"Stairway to Heaven\", \"Led Zeppelin\", \"8:02\", \"Rock\")\n",
        "musica3 = Musica(\"Sweet Child O' Mine\", \"Guns N' Roses\", \"5:03\", \"Hard Rock\")\n",
        "musica4 = Musica(\"Hotel California\", \"Eagles\", \"6:30\", \"Rock\")"
      ],
      "metadata": {
        "id": "hHO_bUmAD6xE"
      },
      "execution_count": 23,
      "outputs": []
    },
    {
      "cell_type": "markdown",
      "source": [
        "2. **Criar uma playlist**"
      ],
      "metadata": {
        "id": "hvTH2FuOEFqe"
      }
    },
    {
      "cell_type": "code",
      "source": [
        "playlist = Playlist(\"Clássicos do Rock\", \"Carlos\", \"O melhor do rock clássico internacional.\")"
      ],
      "metadata": {
        "id": "qNKSsTxWEEdm"
      },
      "execution_count": 24,
      "outputs": []
    },
    {
      "cell_type": "markdown",
      "source": [
        "3. **Atualizar uma playlist**"
      ],
      "metadata": {
        "id": "vfRJTX4EZiga"
      }
    },
    {
      "cell_type": "code",
      "source": [
        "playlist.atualizar(criador=\"Tiago\")\n",
        "print(playlist.criador)"
      ],
      "metadata": {
        "colab": {
          "base_uri": "https://localhost:8080/"
        },
        "id": "Mysnrp8OZn1s",
        "outputId": "1dc73443-2d4f-41c9-c255-f77b9db969a4"
      },
      "execution_count": 25,
      "outputs": [
        {
          "output_type": "stream",
          "name": "stdout",
          "text": [
            "Tiago\n"
          ]
        }
      ]
    },
    {
      "cell_type": "markdown",
      "source": [
        "4. **Adicionar as músicas à playlist**"
      ],
      "metadata": {
        "id": "-gmPF9CJEL0A"
      }
    },
    {
      "cell_type": "code",
      "source": [
        "playlist.adicionar_musica(musica1)"
      ],
      "metadata": {
        "colab": {
          "base_uri": "https://localhost:8080/"
        },
        "id": "VWDQdZkgIHYC",
        "outputId": "d6b0fc87-993a-4997-d7f1-6d1876f4127d"
      },
      "execution_count": 26,
      "outputs": [
        {
          "output_type": "execute_result",
          "data": {
            "text/plain": [
              "True"
            ]
          },
          "metadata": {},
          "execution_count": 26
        }
      ]
    },
    {
      "cell_type": "code",
      "source": [
        "playlist.adicionar_musica(musica2)"
      ],
      "metadata": {
        "colab": {
          "base_uri": "https://localhost:8080/"
        },
        "id": "Hgn1Gv_WIIsS",
        "outputId": "ca46c00e-05dc-4aae-a9b5-b7f1f9397c7a"
      },
      "execution_count": 27,
      "outputs": [
        {
          "output_type": "execute_result",
          "data": {
            "text/plain": [
              "True"
            ]
          },
          "metadata": {},
          "execution_count": 27
        }
      ]
    },
    {
      "cell_type": "code",
      "source": [
        "playlist.adicionar_musica(musica3)"
      ],
      "metadata": {
        "colab": {
          "base_uri": "https://localhost:8080/"
        },
        "id": "Ciyw8xBqIJ5R",
        "outputId": "264ae634-d0f5-4783-c3d8-2573db25ced4"
      },
      "execution_count": 28,
      "outputs": [
        {
          "output_type": "execute_result",
          "data": {
            "text/plain": [
              "True"
            ]
          },
          "metadata": {},
          "execution_count": 28
        }
      ]
    },
    {
      "cell_type": "code",
      "source": [
        "playlist.adicionar_musica(musica4)"
      ],
      "metadata": {
        "colab": {
          "base_uri": "https://localhost:8080/"
        },
        "id": "iu526tmxEQ3s",
        "outputId": "fc41188c-232a-41b3-8336-0ac9bba61806"
      },
      "execution_count": 29,
      "outputs": [
        {
          "output_type": "execute_result",
          "data": {
            "text/plain": [
              "True"
            ]
          },
          "metadata": {},
          "execution_count": 29
        }
      ]
    },
    {
      "cell_type": "markdown",
      "source": [
        "5. **Tentar adicionar uma música duplicada**"
      ],
      "metadata": {
        "id": "6FDrW1uyEaiH"
      }
    },
    {
      "cell_type": "code",
      "source": [
        "playlist.adicionar_musica(Musica(\"Bohemian Rhapsody\", \"Queen\", \"5:55\"))"
      ],
      "metadata": {
        "colab": {
          "base_uri": "https://localhost:8080/"
        },
        "id": "qhuLsSubEq1f",
        "outputId": "f16067e5-e9be-40d3-ca7b-84529b5d5867"
      },
      "execution_count": 30,
      "outputs": [
        {
          "output_type": "execute_result",
          "data": {
            "text/plain": [
              "False"
            ]
          },
          "metadata": {},
          "execution_count": 30
        }
      ]
    },
    {
      "cell_type": "markdown",
      "source": [
        "6. **Listar as músicas (ordenadas por título, o padrão)**"
      ],
      "metadata": {
        "id": "lRAfjwKxExsf"
      }
    },
    {
      "cell_type": "code",
      "source": [
        "playlist.listar_musicas()"
      ],
      "metadata": {
        "colab": {
          "base_uri": "https://localhost:8080/"
        },
        "id": "6bnx_ayNEzT3",
        "outputId": "4121b855-fe4a-4bf7-eca8-c4c81d6e4a0a"
      },
      "execution_count": 31,
      "outputs": [
        {
          "output_type": "stream",
          "name": "stdout",
          "text": [
            "\n",
            "Playlist: Clássicos do Rock (4 músicas) | Duração total: 25m30s\n",
            " 1. Bohemian Rhapsody         - Queen                |  5:55 | ♫  0\n",
            " 2. Hotel California          - Eagles               |  6:30 | ♫  0\n",
            " 3. Stairway to Heaven        - Led Zeppelin         |  8:02 | ♫  0\n",
            " 4. Sweet Child O' Mine       - Guns N' Roses        |  5:03 | ♫  0\n"
          ]
        }
      ]
    },
    {
      "cell_type": "markdown",
      "source": [
        "7. **Reproduzir algumas músicas**"
      ],
      "metadata": {
        "id": "Rqkvy_cLE4Un"
      }
    },
    {
      "cell_type": "code",
      "source": [
        "playlist.reproduzir_musica(\"Hotel California\")\n",
        "playlist.reproduzir_musica(\"Bohemian Rhapsody\")\n",
        "playlist.reproduzir_musica(\"Hotel California\")"
      ],
      "metadata": {
        "colab": {
          "base_uri": "https://localhost:8080/"
        },
        "id": "PP6pVAd_E5a-",
        "outputId": "c32579dd-d398-40c8-8ac8-2a97c6d45ca3"
      },
      "execution_count": 32,
      "outputs": [
        {
          "output_type": "stream",
          "name": "stdout",
          "text": [
            "▶️  Reproduzindo: Hotel California de Eagles\n",
            "▶️  Reproduzindo: Bohemian Rhapsody de Queen\n",
            "▶️  Reproduzindo: Hotel California de Eagles\n"
          ]
        }
      ]
    },
    {
      "cell_type": "markdown",
      "source": [
        "8. **Listar músicas novamente para ver as reproduções atualizadas (ordenando por artista)**\n"
      ],
      "metadata": {
        "id": "Dl2w4i3cFBM3"
      }
    },
    {
      "cell_type": "code",
      "source": [
        "playlist.listar_musicas(ordenar_por=\"artista\")"
      ],
      "metadata": {
        "colab": {
          "base_uri": "https://localhost:8080/"
        },
        "id": "NPkwwPkgFFa4",
        "outputId": "34b3d8ed-70d5-4b49-de2c-c684e40d6035"
      },
      "execution_count": 33,
      "outputs": [
        {
          "output_type": "stream",
          "name": "stdout",
          "text": [
            "\n",
            "Playlist: Clássicos do Rock (4 músicas) | Duração total: 25m30s\n",
            " 1. Hotel California          - Eagles               |  6:30 | ♫  2\n",
            " 2. Sweet Child O' Mine       - Guns N' Roses        |  5:03 | ♫  0\n",
            " 3. Stairway to Heaven        - Led Zeppelin         |  8:02 | ♫  0\n",
            " 4. Bohemian Rhapsody         - Queen                |  5:55 | ♫  1\n"
          ]
        }
      ]
    }
  ]
}